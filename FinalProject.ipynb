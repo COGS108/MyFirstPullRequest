{
 "cells": [
  {
   "cell_type": "markdown",
   "metadata": {},
   "source": [
    "# COGS 108 - Final Project "
   ]
  },
  {
   "cell_type": "markdown",
   "metadata": {},
   "source": [
    "# Overview"
   ]
  },
  {
   "cell_type": "markdown",
   "metadata": {},
   "source": [
    "*Fill in your overview here*"
   ]
  },
  {
   "cell_type": "markdown",
   "metadata": {},
   "source": [
    "# Names\n",
    "\n",
    "- Roger Cheng\n",
    "- Deyin Chen\n",
    "- Haoyin Xu\n",
    "- Suzhou Yang\n",
    "- Sowmya Parthiban"
   ]
  },
  {
   "cell_type": "markdown",
   "metadata": {},
   "source": [
    "# Group Members IDs\n",
    "\n",
    "- A14743993\n",
    "- A92099144\n",
    "- A15305349\n",
    "- A92090309\n",
    "- A13790839"
   ]
  },
  {
   "cell_type": "markdown",
   "metadata": {},
   "source": [
    "# Research Question"
   ]
  },
  {
   "cell_type": "markdown",
   "metadata": {},
   "source": [
    "Ever since the early 1900s, movies (or so called \"moving pictures\") has became a popular leisure activity. Due to the increased financial prosperity, Americans had more disposible money to allow themselves attending the cinema far more regular than the previous decade. As the time progresses, styles and theme of movies evolve drastically due to both technology development and cultural evolution. Audience's favor into the types of movie has evolves accordingly as well. Thus, in this project, we are interested to see **what components attributes to a movie's revenue in the recent decade. Examining a movie's components such as the genre, content, director, actors, length, etc., we want to see how each component would affect the final revenue.** We believe that revenue could represent the popularity of a movie and thus it could help us to visualize the evolution of audience's interest in the recent decade. \n"
   ]
  },
  {
   "cell_type": "markdown",
   "metadata": {},
   "source": [
    "## Background and Prior Work"
   ]
  },
  {
   "cell_type": "markdown",
   "metadata": {},
   "source": [
    "Films have been recognized to have artistic, educational and commercial values for a society. They are also a way to express and popularize current thoughts, ideas and concerns. More importantly, they indicate the development of technology and dominating ideology of the society. Big film companies in the world usually put billions of dollars into filmmaking as well as advertisement. However, over 70% of the films made negative profit, while the total average revenue of the film industry was around $10 billion each year [1]. Therefore, the high-risk but high-profit property of the films makes the study about factors contributing to a successful film and an accurate prediction method for the film revenue extremely desired for the filmmakers and investigators to make better investment decisions on film production and advertisement. \n",
    "\n",
    "It would also be a huge benefit if there could be a prediction method of a successful film with a high accuracy. Indeed, there have been many studies about films trying to get a good prediction method. Studies found that multiple factors could be related to a movie’s revenue. Although specific weights were not reported for most studies, they found that factors such as cast, budget, film review, actors, directors and genre contributed to the revenue [2, 3]. In particular, a study with modest prediction ability found that horror movies were the most popular movies and the Motion Picture Association of America film rating system had the largest contribution to domestic gross in the US [4]. \n",
    "\n",
    "Among the recent studies, Nithin et al. generated one of the most accurate models to predict the film revenue with around 51 percent accuracy using IMDB data and linear regression. However, they admitted the accuracy was not high enough for industrial use and suggested to use a larger training set [2]. Apte et al. also found that generally low revenue movies had a much lower prediction accuracy compared to high revenue movies due the incompleteness of data from global box office, and some genres might not have enough samples for them to train their model and resulted in a low accuracy [3]. Moreover, the data the groups used to train their models was out of date. Due to the inevitable changes in audience’s tastes, using data only from 2000 to 2012 would make the model less accurate to predict film revenue after 2019. \n",
    "\n",
    "Therefore, in this project, we will combine and organize two datasets that contain information about movies extracted from The Movie Database (TMDb) and MovieLens. These datasets have more than 50,000 entries in total and information up to July 2017. Our goal is to use these up-to-date datasets and a better algorithm to analyze the weights of factors that determine the revenue and to generate a model that will have a higher accuracy in revenue prediction. \n",
    "\n",
    "\n",
    "\n",
    "### References:\n",
    "- 1) \"The Numbers - Movie Market Summary 1995 to 2011.\" The Numbers - Movie Box\n",
    "Office Data, Film Stars, Idle Speculation. Web. <http://www.the-numbers.com/market/>.\n",
    "- 2) NithinV, R., & Babu, S. (2017). Predicting Movie Success Based On Imdb Data.\n",
    "- 3) Apte, N., Forssell, M., & Sidhwa, A. (2011). Predicting Movie Revenue. CS229, Stanford University.\n",
    "- 4) Hu, X. (n.d.). Predicting Domestic Gross of Movies. Retrieved from https://www.stat.berkeley.edu/~aldous/Research/Ugrad/ugrad_res_old.html.\n"
   ]
  },
  {
   "cell_type": "markdown",
   "metadata": {},
   "source": [
    "# Hypothesis\n"
   ]
  },
  {
   "cell_type": "markdown",
   "metadata": {},
   "source": [
    "Our null hypothesis is the genre, content, and the megascore will be the most influential variables to the revenue. "
   ]
  },
  {
   "cell_type": "markdown",
   "metadata": {},
   "source": [
    "# Dataset(s)"
   ]
  },
  {
   "cell_type": "markdown",
   "metadata": {},
   "source": [
    "### Dataset 1\n",
    "- Dataset Name: The Movies Dataset\n",
    "- Link to the dataset: https://www.kaggle.com/rounakbanik/the-movies-dataset/downloads/the-movies-dataset.zip/7\n",
    "- Number of observations: 45467\n",
    "\n",
    "All movies released before\n",
    "and in July 2017 were collected from the Full MovieLens Dataset. 45467 movies were included in this dataset with each surveyed for its\n",
    "cast, crew, plot keywords, budget, revenue, posters, release dates, languages, production companies,\n",
    "countries, TMDb vote counts and vote averages.\n",
    "\n",
    "### Dataset 2\n",
    "- Dataset Name: TMDB 5000 Movie Dataset\n",
    "- Link to the dataset: https://www.kaggle.com/tmdb/tmdb-movie-metadata#tmdb_5000_movies.csv\n",
    "- Number of observations: 5000\n",
    "\n",
    "5000 movies released between 1916 and 2017 were randomly extracted from The Movie Database (TMDb). Each movie was surveyed for its keywords, overview, production company, crew, cast,\n",
    "runtime, average rating, number of ratings, and revenue."
   ]
  },
  {
   "cell_type": "markdown",
   "metadata": {},
   "source": [
    "# Data Wrangling"
   ]
  },
  {
   "cell_type": "code",
   "execution_count": 85,
   "metadata": {},
   "outputs": [],
   "source": [
    "# importing necessary packages for data editing\n",
    "import numpy as np\n",
    "import pandas as pd\n",
    "import matplotlib.pyplot as plt\n",
    "\n",
    "# important packages for data analysis\n",
    "import patsy\n",
    "import statsmodels.api as sm\n",
    "import scipy.stats as stats\n",
    "from scipy.stats import ttest_ind, chisquare, normaltest"
   ]
  },
  {
   "cell_type": "code",
   "execution_count": 86,
   "metadata": {},
   "outputs": [
    {
     "name": "stdout",
     "output_type": "stream",
     "text": [
      "      budget                                             genres  \\\n",
      "0  237000000  [{\"id\": 28, \"name\": \"Action\"}, {\"id\": 12, \"nam...   \n",
      "1  300000000  [{\"id\": 12, \"name\": \"Adventure\"}, {\"id\": 14, \"...   \n",
      "2  245000000  [{\"id\": 28, \"name\": \"Action\"}, {\"id\": 12, \"nam...   \n",
      "3  250000000  [{\"id\": 28, \"name\": \"Action\"}, {\"id\": 80, \"nam...   \n",
      "4  260000000  [{\"id\": 28, \"name\": \"Action\"}, {\"id\": 12, \"nam...   \n",
      "\n",
      "                                       homepage      id  \\\n",
      "0                   http://www.avatarmovie.com/   19995   \n",
      "1  http://disney.go.com/disneypictures/pirates/     285   \n",
      "2   http://www.sonypictures.com/movies/spectre/  206647   \n",
      "3            http://www.thedarkknightrises.com/   49026   \n",
      "4          http://movies.disney.com/john-carter   49529   \n",
      "\n",
      "                                            keywords original_language  \\\n",
      "0  [{\"id\": 1463, \"name\": \"culture clash\"}, {\"id\":...                en   \n",
      "1  [{\"id\": 270, \"name\": \"ocean\"}, {\"id\": 726, \"na...                en   \n",
      "2  [{\"id\": 470, \"name\": \"spy\"}, {\"id\": 818, \"name...                en   \n",
      "3  [{\"id\": 849, \"name\": \"dc comics\"}, {\"id\": 853,...                en   \n",
      "4  [{\"id\": 818, \"name\": \"based on novel\"}, {\"id\":...                en   \n",
      "\n",
      "                             original_title  \\\n",
      "0                                    Avatar   \n",
      "1  Pirates of the Caribbean: At World's End   \n",
      "2                                   Spectre   \n",
      "3                     The Dark Knight Rises   \n",
      "4                               John Carter   \n",
      "\n",
      "                                            overview  popularity  \\\n",
      "0  In the 22nd century, a paraplegic Marine is di...    150.4376   \n",
      "1  Captain Barbossa, long believed to be dead, ha...    139.0826   \n",
      "2  A cryptic message from Bond’s past sends him o...    107.3768   \n",
      "3  Following the death of District Attorney Harve...    112.3130   \n",
      "4  John Carter is a war-weary, former military ca...     43.9270   \n",
      "\n",
      "                                production_companies  \\\n",
      "0  [{\"name\": \"Ingenious Film Partners\", \"id\": 289...   \n",
      "1  [{\"name\": \"Walt Disney Pictures\", \"id\": 2}, {\"...   \n",
      "2  [{\"name\": \"Columbia Pictures\", \"id\": 5}, {\"nam...   \n",
      "3  [{\"name\": \"Legendary Pictures\", \"id\": 923}, {\"...   \n",
      "4        [{\"name\": \"Walt Disney Pictures\", \"id\": 2}]   \n",
      "\n",
      "                                production_countries release_date     revenue  \\\n",
      "0  [{\"iso_3166_1\": \"US\", \"name\": \"United States o...   2009-12-10  2787965087   \n",
      "1  [{\"iso_3166_1\": \"US\", \"name\": \"United States o...   2007-05-19   961000000   \n",
      "2  [{\"iso_3166_1\": \"GB\", \"name\": \"United Kingdom\"...   2015-10-26   880674609   \n",
      "3  [{\"iso_3166_1\": \"US\", \"name\": \"United States o...   2012-07-16  1084939099   \n",
      "4  [{\"iso_3166_1\": \"US\", \"name\": \"United States o...   2012-03-07   284139100   \n",
      "\n",
      "   runtime                                   spoken_languages    status  \\\n",
      "0 162.0000  [{\"iso_639_1\": \"en\", \"name\": \"English\"}, {\"iso...  Released   \n",
      "1 169.0000           [{\"iso_639_1\": \"en\", \"name\": \"English\"}]  Released   \n",
      "2 148.0000  [{\"iso_639_1\": \"fr\", \"name\": \"Fran\\u00e7ais\"},...  Released   \n",
      "3 165.0000           [{\"iso_639_1\": \"en\", \"name\": \"English\"}]  Released   \n",
      "4 132.0000           [{\"iso_639_1\": \"en\", \"name\": \"English\"}]  Released   \n",
      "\n",
      "                                          tagline  \\\n",
      "0                     Enter the World of Pandora.   \n",
      "1  At the end of the world, the adventure begins.   \n",
      "2                           A Plan No One Escapes   \n",
      "3                                 The Legend Ends   \n",
      "4            Lost in our world, found in another.   \n",
      "\n",
      "                                      title  vote_average  vote_count  \n",
      "0                                    Avatar        7.2000       11800  \n",
      "1  Pirates of the Caribbean: At World's End        6.9000        4500  \n",
      "2                                   Spectre        6.3000        4466  \n",
      "3                     The Dark Knight Rises        7.6000        9106  \n",
      "4                               John Carter        6.1000        2124  \n"
     ]
    }
   ],
   "source": [
    "# import both dataset into a pandas dataframe\n",
    "tmdb_df = pd.read_csv('tmdb_5000_movies.csv')\n",
    "tmdb_df2 = pd.read_csv('movies_metadata.csv')\n",
    "\n",
    "# visualize one of the data table\n",
    "print(tmdb_df.head())"
   ]
  },
  {
   "cell_type": "markdown",
   "metadata": {},
   "source": [
    "# Data Cleaning"
   ]
  },
  {
   "cell_type": "markdown",
   "metadata": {},
   "source": [
    "As shown from the previous section, the format of most of the cells was very messy. For instance, there were many random symbols and random information like \"id\" under the *\"production_companies\"* column. Same scenerio happened to the *\"production_countries\"* and many other columns as well. Thus, we need to clean up the format and extract the needed information from these cells. \n",
    "\n",
    "Also, many of the information were not needed for us such as the \"spoken language\" column. Thus, we need to drop all the unnecessary columns in order to facilitate our analysis process. During the process, we also drop all the rows that doesn't contain a value for \"revenue\" column. \n",
    "\n",
    "Finally, we merge both data set into one by their title, genres, original language, production countries, release date, runtime, popularity, vote count, vote average, budget and revenue."
   ]
  },
  {
   "cell_type": "code",
   "execution_count": 87,
   "metadata": {},
   "outputs": [],
   "source": [
    "# Method to help extracting the genres information from cells\n",
    "def trim_genres(genres):\n",
    "    g_list = []\n",
    "    b = 0\n",
    "    a = 0\n",
    "    while (a != -1 and b != -1):\n",
    "        a = genres.find(\"name\")\n",
    "        b = genres.find(\"}\")\n",
    "        g_list.append(genres[a+8:b-1])\n",
    "        genres = genres [b+1:]\n",
    "        if (len(genres) == 1):\n",
    "            break\n",
    "    g_list.sort()\n",
    "    return g_list"
   ]
  },
  {
   "cell_type": "code",
   "execution_count": 88,
   "metadata": {},
   "outputs": [],
   "source": [
    "# dropping unneeded columns and the rows with missing data\n",
    "tmdb_df = tmdb_df.drop(columns = ['homepage','id','production_companies','keywords','overview','tagline','status', 'original_title','spoken_languages'])\n",
    "tmdb_df = tmdb_df.dropna()\n",
    "\n",
    "# Transform the genres and production_countries column to only contains the information we needed\n",
    "tmdb_df['genres'] = tmdb_df['genres'].apply(trim_genres)\n",
    "tmdb_df['production_countries'] = tmdb_df['production_countries'].apply(trim_genres)\n",
    "tmdb_df['genres'] = tmdb_df['genres'].apply(tuple)\n",
    "tmdb_df['production_countries'] = tmdb_df['production_countries'].apply(tuple)"
   ]
  },
  {
   "cell_type": "code",
   "execution_count": 89,
   "metadata": {},
   "outputs": [],
   "source": [
    "# same cleanning procedure for the second data set\n",
    "tmdb_df2 = tmdb_df2.drop(columns = ['adult','belongs_to_collection','homepage', 'id', 'imdb_id','status', 'tagline','video','original_title','poster_path','production_companies','spoken_languages','overview' ])\n",
    "tmdb_df2 = tmdb_df2.dropna()\n",
    "tmdb_df2['genres'] = tmdb_df2['genres'].apply(trim_genres)\n",
    "tmdb_df2['production_countries'] = tmdb_df2['production_countries'].apply(trim_genres)\n",
    "tmdb_df2['genres'] = tmdb_df2['genres'].apply(tuple)\n",
    "tmdb_df2['production_countries'] = tmdb_df2['production_countries'].apply(tuple)\n",
    "tmdb_df2 = tmdb_df2.fillna(0)\n",
    "\n",
    "# change the type of these columns\n",
    "tmdb_df2.budget = tmdb_df2.budget.astype(np.int64)\n",
    "tmdb_df2.popularity = tmdb_df2.popularity.astype(np.float64)\n",
    "tmdb_df2.revenue = tmdb_df2.revenue.astype(np.int64)\n",
    "tmdb_df2.vote_count = tmdb_df2.vote_count.astype(np.int64)\n",
    "\n"
   ]
  },
  {
   "cell_type": "code",
   "execution_count": 91,
   "metadata": {},
   "outputs": [
    {
     "data": {
      "text/html": [
       "<div>\n",
       "<style scoped>\n",
       "    .dataframe tbody tr th:only-of-type {\n",
       "        vertical-align: middle;\n",
       "    }\n",
       "\n",
       "    .dataframe tbody tr th {\n",
       "        vertical-align: top;\n",
       "    }\n",
       "\n",
       "    .dataframe thead th {\n",
       "        text-align: right;\n",
       "    }\n",
       "</style>\n",
       "<table border=\"1\" class=\"dataframe\">\n",
       "  <thead>\n",
       "    <tr style=\"text-align: right;\">\n",
       "      <th></th>\n",
       "      <th>title</th>\n",
       "      <th>genres</th>\n",
       "      <th>original_language</th>\n",
       "      <th>production_countries</th>\n",
       "      <th>release_date</th>\n",
       "      <th>runtime</th>\n",
       "      <th>popularity</th>\n",
       "      <th>vote_count</th>\n",
       "      <th>vote_average</th>\n",
       "      <th>budget</th>\n",
       "      <th>revenue</th>\n",
       "    </tr>\n",
       "  </thead>\n",
       "  <tbody>\n",
       "    <tr>\n",
       "      <th>0</th>\n",
       "      <td>Avatar</td>\n",
       "      <td>(Action, Adventure, Fantasy, Science Fiction)</td>\n",
       "      <td>en</td>\n",
       "      <td>(United Kingdom, United States of America)</td>\n",
       "      <td>2009-12-10</td>\n",
       "      <td>162.0000</td>\n",
       "      <td>150.4376</td>\n",
       "      <td>11800</td>\n",
       "      <td>7.2000</td>\n",
       "      <td>237000000</td>\n",
       "      <td>2787965087</td>\n",
       "    </tr>\n",
       "    <tr>\n",
       "      <th>1</th>\n",
       "      <td>Pirates of the Caribbean: At World's End</td>\n",
       "      <td>(Action, Adventure, Fantasy)</td>\n",
       "      <td>en</td>\n",
       "      <td>(United States of America,)</td>\n",
       "      <td>2007-05-19</td>\n",
       "      <td>169.0000</td>\n",
       "      <td>139.0826</td>\n",
       "      <td>4500</td>\n",
       "      <td>6.9000</td>\n",
       "      <td>300000000</td>\n",
       "      <td>961000000</td>\n",
       "    </tr>\n",
       "    <tr>\n",
       "      <th>2</th>\n",
       "      <td>Spectre</td>\n",
       "      <td>(Action, Adventure, Crime)</td>\n",
       "      <td>en</td>\n",
       "      <td>(United Kingdom, United States of America)</td>\n",
       "      <td>2015-10-26</td>\n",
       "      <td>148.0000</td>\n",
       "      <td>107.3768</td>\n",
       "      <td>4466</td>\n",
       "      <td>6.3000</td>\n",
       "      <td>245000000</td>\n",
       "      <td>880674609</td>\n",
       "    </tr>\n",
       "    <tr>\n",
       "      <th>3</th>\n",
       "      <td>The Dark Knight Rises</td>\n",
       "      <td>(Action, Crime, Drama, Thriller)</td>\n",
       "      <td>en</td>\n",
       "      <td>(United States of America,)</td>\n",
       "      <td>2012-07-16</td>\n",
       "      <td>165.0000</td>\n",
       "      <td>112.3130</td>\n",
       "      <td>9106</td>\n",
       "      <td>7.6000</td>\n",
       "      <td>250000000</td>\n",
       "      <td>1084939099</td>\n",
       "    </tr>\n",
       "    <tr>\n",
       "      <th>4</th>\n",
       "      <td>John Carter</td>\n",
       "      <td>(Action, Adventure, Science Fiction)</td>\n",
       "      <td>en</td>\n",
       "      <td>(United States of America,)</td>\n",
       "      <td>2012-03-07</td>\n",
       "      <td>132.0000</td>\n",
       "      <td>43.9270</td>\n",
       "      <td>2124</td>\n",
       "      <td>6.1000</td>\n",
       "      <td>260000000</td>\n",
       "      <td>284139100</td>\n",
       "    </tr>\n",
       "    <tr>\n",
       "      <th>5</th>\n",
       "      <td>Spider-Man 3</td>\n",
       "      <td>(Action, Adventure, Fantasy)</td>\n",
       "      <td>en</td>\n",
       "      <td>(United States of America,)</td>\n",
       "      <td>2007-05-01</td>\n",
       "      <td>139.0000</td>\n",
       "      <td>115.6998</td>\n",
       "      <td>3576</td>\n",
       "      <td>5.9000</td>\n",
       "      <td>258000000</td>\n",
       "      <td>890871626</td>\n",
       "    </tr>\n",
       "    <tr>\n",
       "      <th>6</th>\n",
       "      <td>Tangled</td>\n",
       "      <td>(Animation, Family)</td>\n",
       "      <td>en</td>\n",
       "      <td>(United States of America,)</td>\n",
       "      <td>2010-11-24</td>\n",
       "      <td>100.0000</td>\n",
       "      <td>48.6820</td>\n",
       "      <td>3330</td>\n",
       "      <td>7.4000</td>\n",
       "      <td>260000000</td>\n",
       "      <td>591794936</td>\n",
       "    </tr>\n",
       "    <tr>\n",
       "      <th>7</th>\n",
       "      <td>Avengers: Age of Ultron</td>\n",
       "      <td>(Action, Adventure, Science Fiction)</td>\n",
       "      <td>en</td>\n",
       "      <td>(United States of America,)</td>\n",
       "      <td>2015-04-22</td>\n",
       "      <td>141.0000</td>\n",
       "      <td>134.2792</td>\n",
       "      <td>6767</td>\n",
       "      <td>7.3000</td>\n",
       "      <td>280000000</td>\n",
       "      <td>1405403694</td>\n",
       "    </tr>\n",
       "    <tr>\n",
       "      <th>8</th>\n",
       "      <td>Harry Potter and the Half-Blood Prince</td>\n",
       "      <td>(Adventure, Family, Fantasy)</td>\n",
       "      <td>en</td>\n",
       "      <td>(United Kingdom, United States of America)</td>\n",
       "      <td>2009-07-07</td>\n",
       "      <td>153.0000</td>\n",
       "      <td>98.8856</td>\n",
       "      <td>5293</td>\n",
       "      <td>7.4000</td>\n",
       "      <td>250000000</td>\n",
       "      <td>933959197</td>\n",
       "    </tr>\n",
       "    <tr>\n",
       "      <th>9</th>\n",
       "      <td>Batman v Superman: Dawn of Justice</td>\n",
       "      <td>(Action, Adventure, Fantasy)</td>\n",
       "      <td>en</td>\n",
       "      <td>(United States of America,)</td>\n",
       "      <td>2016-03-23</td>\n",
       "      <td>151.0000</td>\n",
       "      <td>155.7905</td>\n",
       "      <td>7004</td>\n",
       "      <td>5.7000</td>\n",
       "      <td>250000000</td>\n",
       "      <td>873260194</td>\n",
       "    </tr>\n",
       "    <tr>\n",
       "      <th>10</th>\n",
       "      <td>Superman Returns</td>\n",
       "      <td>(Action, Adventure, Fantasy, Science Fiction)</td>\n",
       "      <td>en</td>\n",
       "      <td>(United States of America,)</td>\n",
       "      <td>2006-06-28</td>\n",
       "      <td>154.0000</td>\n",
       "      <td>57.9256</td>\n",
       "      <td>1400</td>\n",
       "      <td>5.4000</td>\n",
       "      <td>270000000</td>\n",
       "      <td>391081192</td>\n",
       "    </tr>\n",
       "    <tr>\n",
       "      <th>11</th>\n",
       "      <td>Quantum of Solace</td>\n",
       "      <td>(Action, Adventure, Crime, Thriller)</td>\n",
       "      <td>en</td>\n",
       "      <td>(United Kingdom, United States of America)</td>\n",
       "      <td>2008-10-30</td>\n",
       "      <td>106.0000</td>\n",
       "      <td>107.9288</td>\n",
       "      <td>2965</td>\n",
       "      <td>6.1000</td>\n",
       "      <td>200000000</td>\n",
       "      <td>586090727</td>\n",
       "    </tr>\n",
       "    <tr>\n",
       "      <th>12</th>\n",
       "      <td>Pirates of the Caribbean: Dead Man's Chest</td>\n",
       "      <td>(Action, Adventure, Fantasy)</td>\n",
       "      <td>en</td>\n",
       "      <td>(Bahamas, Dominica, Jamaica, United States of ...</td>\n",
       "      <td>2006-06-20</td>\n",
       "      <td>151.0000</td>\n",
       "      <td>145.8474</td>\n",
       "      <td>5246</td>\n",
       "      <td>7.0000</td>\n",
       "      <td>200000000</td>\n",
       "      <td>1065659812</td>\n",
       "    </tr>\n",
       "    <tr>\n",
       "      <th>13</th>\n",
       "      <td>The Lone Ranger</td>\n",
       "      <td>(Action, Adventure, Western)</td>\n",
       "      <td>en</td>\n",
       "      <td>(United States of America,)</td>\n",
       "      <td>2013-07-03</td>\n",
       "      <td>149.0000</td>\n",
       "      <td>49.0470</td>\n",
       "      <td>2311</td>\n",
       "      <td>5.9000</td>\n",
       "      <td>255000000</td>\n",
       "      <td>89289910</td>\n",
       "    </tr>\n",
       "    <tr>\n",
       "      <th>14</th>\n",
       "      <td>Man of Steel</td>\n",
       "      <td>(Action, Adventure, Fantasy, Science Fiction)</td>\n",
       "      <td>en</td>\n",
       "      <td>(United Kingdom, United States of America)</td>\n",
       "      <td>2013-06-12</td>\n",
       "      <td>143.0000</td>\n",
       "      <td>99.3980</td>\n",
       "      <td>6359</td>\n",
       "      <td>6.5000</td>\n",
       "      <td>225000000</td>\n",
       "      <td>662845518</td>\n",
       "    </tr>\n",
       "    <tr>\n",
       "      <th>15</th>\n",
       "      <td>The Chronicles of Narnia: Prince Caspian</td>\n",
       "      <td>(Adventure, Family, Fantasy)</td>\n",
       "      <td>en</td>\n",
       "      <td>(Czech Republic, Poland, Slovenia, United Stat...</td>\n",
       "      <td>2008-05-15</td>\n",
       "      <td>150.0000</td>\n",
       "      <td>53.9786</td>\n",
       "      <td>1630</td>\n",
       "      <td>6.3000</td>\n",
       "      <td>225000000</td>\n",
       "      <td>419651413</td>\n",
       "    </tr>\n",
       "    <tr>\n",
       "      <th>16</th>\n",
       "      <td>The Avengers</td>\n",
       "      <td>(Action, Adventure, Science Fiction)</td>\n",
       "      <td>en</td>\n",
       "      <td>(United States of America,)</td>\n",
       "      <td>2012-04-25</td>\n",
       "      <td>143.0000</td>\n",
       "      <td>144.4486</td>\n",
       "      <td>11776</td>\n",
       "      <td>7.4000</td>\n",
       "      <td>220000000</td>\n",
       "      <td>1519557910</td>\n",
       "    </tr>\n",
       "    <tr>\n",
       "      <th>17</th>\n",
       "      <td>Pirates of the Caribbean: On Stranger Tides</td>\n",
       "      <td>(Action, Adventure, Fantasy)</td>\n",
       "      <td>en</td>\n",
       "      <td>(United States of America,)</td>\n",
       "      <td>2011-05-14</td>\n",
       "      <td>136.0000</td>\n",
       "      <td>135.4139</td>\n",
       "      <td>4948</td>\n",
       "      <td>6.4000</td>\n",
       "      <td>380000000</td>\n",
       "      <td>1045713802</td>\n",
       "    </tr>\n",
       "    <tr>\n",
       "      <th>18</th>\n",
       "      <td>Men in Black 3</td>\n",
       "      <td>(Action, Comedy, Science Fiction)</td>\n",
       "      <td>en</td>\n",
       "      <td>(United States of America,)</td>\n",
       "      <td>2012-05-23</td>\n",
       "      <td>106.0000</td>\n",
       "      <td>52.0352</td>\n",
       "      <td>4160</td>\n",
       "      <td>6.2000</td>\n",
       "      <td>225000000</td>\n",
       "      <td>624026776</td>\n",
       "    </tr>\n",
       "    <tr>\n",
       "      <th>19</th>\n",
       "      <td>The Hobbit: The Battle of the Five Armies</td>\n",
       "      <td>(Action, Adventure, Fantasy)</td>\n",
       "      <td>en</td>\n",
       "      <td>(New Zealand, United States of America)</td>\n",
       "      <td>2014-12-10</td>\n",
       "      <td>144.0000</td>\n",
       "      <td>120.9657</td>\n",
       "      <td>4760</td>\n",
       "      <td>7.1000</td>\n",
       "      <td>250000000</td>\n",
       "      <td>956019788</td>\n",
       "    </tr>\n",
       "    <tr>\n",
       "      <th>20</th>\n",
       "      <td>The Amazing Spider-Man</td>\n",
       "      <td>(Action, Adventure, Fantasy)</td>\n",
       "      <td>en</td>\n",
       "      <td>(United States of America,)</td>\n",
       "      <td>2012-06-27</td>\n",
       "      <td>136.0000</td>\n",
       "      <td>89.8663</td>\n",
       "      <td>6586</td>\n",
       "      <td>6.5000</td>\n",
       "      <td>215000000</td>\n",
       "      <td>752215857</td>\n",
       "    </tr>\n",
       "    <tr>\n",
       "      <th>21</th>\n",
       "      <td>Robin Hood</td>\n",
       "      <td>(Action, Adventure)</td>\n",
       "      <td>en</td>\n",
       "      <td>(United Kingdom, United States of America)</td>\n",
       "      <td>2010-05-12</td>\n",
       "      <td>140.0000</td>\n",
       "      <td>37.6683</td>\n",
       "      <td>1398</td>\n",
       "      <td>6.2000</td>\n",
       "      <td>200000000</td>\n",
       "      <td>310669540</td>\n",
       "    </tr>\n",
       "    <tr>\n",
       "      <th>22</th>\n",
       "      <td>The Hobbit: The Desolation of Smaug</td>\n",
       "      <td>(Adventure, Fantasy)</td>\n",
       "      <td>en</td>\n",
       "      <td>(New Zealand, United States of America)</td>\n",
       "      <td>2013-12-11</td>\n",
       "      <td>161.0000</td>\n",
       "      <td>94.3706</td>\n",
       "      <td>4524</td>\n",
       "      <td>7.6000</td>\n",
       "      <td>250000000</td>\n",
       "      <td>958400000</td>\n",
       "    </tr>\n",
       "    <tr>\n",
       "      <th>23</th>\n",
       "      <td>The Golden Compass</td>\n",
       "      <td>(Adventure, Fantasy)</td>\n",
       "      <td>en</td>\n",
       "      <td>(United Kingdom, United States of America)</td>\n",
       "      <td>2007-12-04</td>\n",
       "      <td>113.0000</td>\n",
       "      <td>42.9909</td>\n",
       "      <td>1303</td>\n",
       "      <td>5.8000</td>\n",
       "      <td>180000000</td>\n",
       "      <td>372234864</td>\n",
       "    </tr>\n",
       "    <tr>\n",
       "      <th>24</th>\n",
       "      <td>King Kong</td>\n",
       "      <td>(Action, Adventure, Drama)</td>\n",
       "      <td>en</td>\n",
       "      <td>(Germany, New Zealand, United States of America)</td>\n",
       "      <td>2005-12-14</td>\n",
       "      <td>187.0000</td>\n",
       "      <td>61.2260</td>\n",
       "      <td>2337</td>\n",
       "      <td>6.6000</td>\n",
       "      <td>207000000</td>\n",
       "      <td>550000000</td>\n",
       "    </tr>\n",
       "    <tr>\n",
       "      <th>25</th>\n",
       "      <td>Titanic</td>\n",
       "      <td>(Drama, Romance, Thriller)</td>\n",
       "      <td>en</td>\n",
       "      <td>(United States of America,)</td>\n",
       "      <td>1997-11-18</td>\n",
       "      <td>194.0000</td>\n",
       "      <td>100.0259</td>\n",
       "      <td>7562</td>\n",
       "      <td>7.5000</td>\n",
       "      <td>200000000</td>\n",
       "      <td>1845034188</td>\n",
       "    </tr>\n",
       "    <tr>\n",
       "      <th>26</th>\n",
       "      <td>Captain America: Civil War</td>\n",
       "      <td>(Action, Adventure, Science Fiction)</td>\n",
       "      <td>en</td>\n",
       "      <td>(United States of America,)</td>\n",
       "      <td>2016-04-27</td>\n",
       "      <td>147.0000</td>\n",
       "      <td>198.3724</td>\n",
       "      <td>7241</td>\n",
       "      <td>7.1000</td>\n",
       "      <td>250000000</td>\n",
       "      <td>1153304495</td>\n",
       "    </tr>\n",
       "    <tr>\n",
       "      <th>27</th>\n",
       "      <td>Battleship</td>\n",
       "      <td>(Action, Adventure, Science Fiction, Thriller)</td>\n",
       "      <td>en</td>\n",
       "      <td>(United States of America,)</td>\n",
       "      <td>2012-04-11</td>\n",
       "      <td>131.0000</td>\n",
       "      <td>64.9284</td>\n",
       "      <td>2114</td>\n",
       "      <td>5.5000</td>\n",
       "      <td>209000000</td>\n",
       "      <td>303025485</td>\n",
       "    </tr>\n",
       "    <tr>\n",
       "      <th>28</th>\n",
       "      <td>Jurassic World</td>\n",
       "      <td>(Action, Adventure, Science Fiction, Thriller)</td>\n",
       "      <td>en</td>\n",
       "      <td>(United States of America,)</td>\n",
       "      <td>2015-06-09</td>\n",
       "      <td>124.0000</td>\n",
       "      <td>418.7086</td>\n",
       "      <td>8662</td>\n",
       "      <td>6.5000</td>\n",
       "      <td>150000000</td>\n",
       "      <td>1513528810</td>\n",
       "    </tr>\n",
       "    <tr>\n",
       "      <th>29</th>\n",
       "      <td>Skyfall</td>\n",
       "      <td>(Action, Adventure, Thriller)</td>\n",
       "      <td>en</td>\n",
       "      <td>(United Kingdom, United States of America)</td>\n",
       "      <td>2012-10-25</td>\n",
       "      <td>143.0000</td>\n",
       "      <td>93.0050</td>\n",
       "      <td>7604</td>\n",
       "      <td>6.9000</td>\n",
       "      <td>200000000</td>\n",
       "      <td>1108561013</td>\n",
       "    </tr>\n",
       "    <tr>\n",
       "      <th>...</th>\n",
       "      <td>...</td>\n",
       "      <td>...</td>\n",
       "      <td>...</td>\n",
       "      <td>...</td>\n",
       "      <td>...</td>\n",
       "      <td>...</td>\n",
       "      <td>...</td>\n",
       "      <td>...</td>\n",
       "      <td>...</td>\n",
       "      <td>...</td>\n",
       "      <td>...</td>\n",
       "    </tr>\n",
       "    <tr>\n",
       "      <th>49057</th>\n",
       "      <td>Fanaa</td>\n",
       "      <td>(Action, Drama, Romance, Thriller)</td>\n",
       "      <td>hi</td>\n",
       "      <td>(India,)</td>\n",
       "      <td>2006-05-26</td>\n",
       "      <td>168.0000</td>\n",
       "      <td>3.0035</td>\n",
       "      <td>53</td>\n",
       "      <td>6.7000</td>\n",
       "      <td>5300000</td>\n",
       "      <td>22175908</td>\n",
       "    </tr>\n",
       "    <tr>\n",
       "      <th>49108</th>\n",
       "      <td>Atomic Blonde</td>\n",
       "      <td>(Action, Thriller)</td>\n",
       "      <td>en</td>\n",
       "      <td>(Germany, Sweden, United States of America)</td>\n",
       "      <td>2017-07-26</td>\n",
       "      <td>115.0000</td>\n",
       "      <td>14.4551</td>\n",
       "      <td>748</td>\n",
       "      <td>6.1000</td>\n",
       "      <td>30000000</td>\n",
       "      <td>90007945</td>\n",
       "    </tr>\n",
       "    <tr>\n",
       "      <th>49153</th>\n",
       "      <td>Dunkirk</td>\n",
       "      <td>(Action, Drama, History, Thriller, War)</td>\n",
       "      <td>en</td>\n",
       "      <td>(France, Netherlands, United Kingdom, United S...</td>\n",
       "      <td>2017-07-19</td>\n",
       "      <td>107.0000</td>\n",
       "      <td>30.9389</td>\n",
       "      <td>2712</td>\n",
       "      <td>7.5000</td>\n",
       "      <td>100000000</td>\n",
       "      <td>519876949</td>\n",
       "    </tr>\n",
       "    <tr>\n",
       "      <th>49171</th>\n",
       "      <td>Bairavaa</td>\n",
       "      <td>(Action,)</td>\n",
       "      <td>ta</td>\n",
       "      <td>(India,)</td>\n",
       "      <td>2017-01-12</td>\n",
       "      <td>168.0000</td>\n",
       "      <td>1.4595</td>\n",
       "      <td>12</td>\n",
       "      <td>6.5000</td>\n",
       "      <td>0</td>\n",
       "      <td>17000000</td>\n",
       "    </tr>\n",
       "    <tr>\n",
       "      <th>49186</th>\n",
       "      <td>Gymkata</td>\n",
       "      <td>(Action, Drama)</td>\n",
       "      <td>en</td>\n",
       "      <td>(Japan, United States of America)</td>\n",
       "      <td>1985-05-03</td>\n",
       "      <td>90.0000</td>\n",
       "      <td>1.5428</td>\n",
       "      <td>14</td>\n",
       "      <td>4.7000</td>\n",
       "      <td>8500000</td>\n",
       "      <td>5730596</td>\n",
       "    </tr>\n",
       "    <tr>\n",
       "      <th>49265</th>\n",
       "      <td>Confidential Assignment</td>\n",
       "      <td>(Action, Comedy, Drama)</td>\n",
       "      <td>ko</td>\n",
       "      <td>(South Korea,)</td>\n",
       "      <td>2017-01-18</td>\n",
       "      <td>125.0000</td>\n",
       "      <td>1.7586</td>\n",
       "      <td>5</td>\n",
       "      <td>6.2000</td>\n",
       "      <td>8520000</td>\n",
       "      <td>56100000</td>\n",
       "    </tr>\n",
       "    <tr>\n",
       "      <th>49285</th>\n",
       "      <td>Yu-Gi-Oh!: The Dark Side of Dimensions</td>\n",
       "      <td>(Adventure, Animation)</td>\n",
       "      <td>ja</td>\n",
       "      <td>(Japan,)</td>\n",
       "      <td>2016-04-23</td>\n",
       "      <td>120.0000</td>\n",
       "      <td>3.2357</td>\n",
       "      <td>29</td>\n",
       "      <td>6.8000</td>\n",
       "      <td>0</td>\n",
       "      <td>1015339</td>\n",
       "    </tr>\n",
       "    <tr>\n",
       "      <th>49291</th>\n",
       "      <td>Chasing Trane</td>\n",
       "      <td>(Documentary,)</td>\n",
       "      <td>en</td>\n",
       "      <td>(United States of America,)</td>\n",
       "      <td>2017-04-14</td>\n",
       "      <td>99.0000</td>\n",
       "      <td>0.5200</td>\n",
       "      <td>2</td>\n",
       "      <td>8.0000</td>\n",
       "      <td>0</td>\n",
       "      <td>393970</td>\n",
       "    </tr>\n",
       "    <tr>\n",
       "      <th>49315</th>\n",
       "      <td>Transformers: The Last Knight</td>\n",
       "      <td>(Action, Adventure, Science Fiction, Thriller)</td>\n",
       "      <td>en</td>\n",
       "      <td>(United States of America,)</td>\n",
       "      <td>2017-06-21</td>\n",
       "      <td>149.0000</td>\n",
       "      <td>39.1868</td>\n",
       "      <td>1440</td>\n",
       "      <td>6.2000</td>\n",
       "      <td>260000000</td>\n",
       "      <td>604942143</td>\n",
       "    </tr>\n",
       "    <tr>\n",
       "      <th>49317</th>\n",
       "      <td>Porn in the Hood</td>\n",
       "      <td>(Comedy,)</td>\n",
       "      <td>fr</td>\n",
       "      <td>(France,)</td>\n",
       "      <td>2012-07-11</td>\n",
       "      <td>98.0000</td>\n",
       "      <td>9.7550</td>\n",
       "      <td>92</td>\n",
       "      <td>5.4000</td>\n",
       "      <td>0</td>\n",
       "      <td>103504</td>\n",
       "    </tr>\n",
       "    <tr>\n",
       "      <th>49321</th>\n",
       "      <td>Mommies, Happy New Year!</td>\n",
       "      <td>(Comedy, Drama)</td>\n",
       "      <td>ru</td>\n",
       "      <td>(Russia,)</td>\n",
       "      <td>2012-12-27</td>\n",
       "      <td>90.0000</td>\n",
       "      <td>1.4560</td>\n",
       "      <td>9</td>\n",
       "      <td>5.3000</td>\n",
       "      <td>2000000</td>\n",
       "      <td>11666088</td>\n",
       "    </tr>\n",
       "    <tr>\n",
       "      <th>49323</th>\n",
       "      <td>Pregnant</td>\n",
       "      <td>(Comedy,)</td>\n",
       "      <td>ru</td>\n",
       "      <td>(Russia,)</td>\n",
       "      <td>2011-07-21</td>\n",
       "      <td>81.0000</td>\n",
       "      <td>0.3971</td>\n",
       "      <td>7</td>\n",
       "      <td>3.1000</td>\n",
       "      <td>2000000</td>\n",
       "      <td>8000000</td>\n",
       "    </tr>\n",
       "    <tr>\n",
       "      <th>49329</th>\n",
       "      <td>On the Hook!</td>\n",
       "      <td>(Comedy, Romance)</td>\n",
       "      <td>ru</td>\n",
       "      <td>(Russia,)</td>\n",
       "      <td>2011-02-03</td>\n",
       "      <td>90.0000</td>\n",
       "      <td>0.4453</td>\n",
       "      <td>3</td>\n",
       "      <td>4.7000</td>\n",
       "      <td>3000000</td>\n",
       "      <td>1957000</td>\n",
       "    </tr>\n",
       "    <tr>\n",
       "      <th>49360</th>\n",
       "      <td>Moka</td>\n",
       "      <td>(Drama,)</td>\n",
       "      <td>fr</td>\n",
       "      <td>(France, Switzerland)</td>\n",
       "      <td>2016-08-17</td>\n",
       "      <td>89.0000</td>\n",
       "      <td>2.4045</td>\n",
       "      <td>24</td>\n",
       "      <td>6.1000</td>\n",
       "      <td>0</td>\n",
       "      <td>126463</td>\n",
       "    </tr>\n",
       "    <tr>\n",
       "      <th>49376</th>\n",
       "      <td>Good Time</td>\n",
       "      <td>(Crime, Drama, Thriller)</td>\n",
       "      <td>en</td>\n",
       "      <td>(United States of America,)</td>\n",
       "      <td>2017-08-11</td>\n",
       "      <td>99.0000</td>\n",
       "      <td>5.7986</td>\n",
       "      <td>46</td>\n",
       "      <td>7.3000</td>\n",
       "      <td>0</td>\n",
       "      <td>10893246</td>\n",
       "    </tr>\n",
       "    <tr>\n",
       "      <th>49418</th>\n",
       "      <td>One Hundred Steps</td>\n",
       "      <td>(Crime, Drama)</td>\n",
       "      <td>it</td>\n",
       "      <td>(Italy,)</td>\n",
       "      <td>2000-08-31</td>\n",
       "      <td>114.0000</td>\n",
       "      <td>4.6753</td>\n",
       "      <td>116</td>\n",
       "      <td>7.8000</td>\n",
       "      <td>0</td>\n",
       "      <td>1805884</td>\n",
       "    </tr>\n",
       "    <tr>\n",
       "      <th>49427</th>\n",
       "      <td>2:22</td>\n",
       "      <td>(Drama, Thriller)</td>\n",
       "      <td>en</td>\n",
       "      <td>(Australia, United States of America)</td>\n",
       "      <td>2017-06-29</td>\n",
       "      <td>99.0000</td>\n",
       "      <td>37.4846</td>\n",
       "      <td>277</td>\n",
       "      <td>5.5000</td>\n",
       "      <td>0</td>\n",
       "      <td>422</td>\n",
       "    </tr>\n",
       "    <tr>\n",
       "      <th>49440</th>\n",
       "      <td>FC Venus</td>\n",
       "      <td>(Comedy, Romance)</td>\n",
       "      <td>fi</td>\n",
       "      <td>(Finland,)</td>\n",
       "      <td>2005-12-30</td>\n",
       "      <td>107.0000</td>\n",
       "      <td>0.9475</td>\n",
       "      <td>10</td>\n",
       "      <td>5.6000</td>\n",
       "      <td>2196531</td>\n",
       "      <td>2411594</td>\n",
       "    </tr>\n",
       "    <tr>\n",
       "      <th>49482</th>\n",
       "      <td>The Dark Tower</td>\n",
       "      <td>(Action, Fantasy, Horror, Science Fiction, Wes...</td>\n",
       "      <td>en</td>\n",
       "      <td>(South Africa, United States of America)</td>\n",
       "      <td>2017-08-03</td>\n",
       "      <td>95.0000</td>\n",
       "      <td>50.9036</td>\n",
       "      <td>688</td>\n",
       "      <td>5.7000</td>\n",
       "      <td>60000000</td>\n",
       "      <td>71000000</td>\n",
       "    </tr>\n",
       "    <tr>\n",
       "      <th>49528</th>\n",
       "      <td>My Old Classmate</td>\n",
       "      <td>(Romance,)</td>\n",
       "      <td>en</td>\n",
       "      <td>(China,)</td>\n",
       "      <td>2014-04-25</td>\n",
       "      <td>0.0000</td>\n",
       "      <td>0.5040</td>\n",
       "      <td>4</td>\n",
       "      <td>6.0000</td>\n",
       "      <td>0</td>\n",
       "      <td>76000000</td>\n",
       "    </tr>\n",
       "    <tr>\n",
       "      <th>49557</th>\n",
       "      <td>And Here's What's Happening to Me</td>\n",
       "      <td>(Drama,)</td>\n",
       "      <td>ru</td>\n",
       "      <td>(Russia,)</td>\n",
       "      <td>2012-12-09</td>\n",
       "      <td>72.0000</td>\n",
       "      <td>0.1820</td>\n",
       "      <td>3</td>\n",
       "      <td>5.7000</td>\n",
       "      <td>0</td>\n",
       "      <td>14353</td>\n",
       "    </tr>\n",
       "    <tr>\n",
       "      <th>49603</th>\n",
       "      <td>The Emoji Movie</td>\n",
       "      <td>(Animation, Comedy, Family)</td>\n",
       "      <td>en</td>\n",
       "      <td>(United States of America,)</td>\n",
       "      <td>2017-07-28</td>\n",
       "      <td>86.0000</td>\n",
       "      <td>33.6946</td>\n",
       "      <td>327</td>\n",
       "      <td>5.8000</td>\n",
       "      <td>50000000</td>\n",
       "      <td>66913939</td>\n",
       "    </tr>\n",
       "    <tr>\n",
       "      <th>49630</th>\n",
       "      <td>Wind River</td>\n",
       "      <td>(Action, Crime, Mystery, Thriller)</td>\n",
       "      <td>en</td>\n",
       "      <td>(Canada, United Kingdom, United States of Amer...</td>\n",
       "      <td>2017-08-03</td>\n",
       "      <td>111.0000</td>\n",
       "      <td>40.7968</td>\n",
       "      <td>181</td>\n",
       "      <td>7.4000</td>\n",
       "      <td>11000000</td>\n",
       "      <td>184770205</td>\n",
       "    </tr>\n",
       "    <tr>\n",
       "      <th>49708</th>\n",
       "      <td>Baasha</td>\n",
       "      <td>(Action,)</td>\n",
       "      <td>ta</td>\n",
       "      <td>(India,)</td>\n",
       "      <td>1995-01-15</td>\n",
       "      <td>145.0000</td>\n",
       "      <td>0.7042</td>\n",
       "      <td>14</td>\n",
       "      <td>7.8000</td>\n",
       "      <td>0</td>\n",
       "      <td>15000000</td>\n",
       "    </tr>\n",
       "    <tr>\n",
       "      <th>49710</th>\n",
       "      <td>Sivaji: The Boss</td>\n",
       "      <td>(Action, Comedy, Drama)</td>\n",
       "      <td>ta</td>\n",
       "      <td>(India,)</td>\n",
       "      <td>2007-06-14</td>\n",
       "      <td>185.0000</td>\n",
       "      <td>1.3236</td>\n",
       "      <td>25</td>\n",
       "      <td>6.9000</td>\n",
       "      <td>12000000</td>\n",
       "      <td>19000000</td>\n",
       "    </tr>\n",
       "    <tr>\n",
       "      <th>49836</th>\n",
       "      <td>Apartment 18</td>\n",
       "      <td>(Horror, Mystery, Thriller)</td>\n",
       "      <td>ru</td>\n",
       "      <td>(Russia,)</td>\n",
       "      <td>2014-03-13</td>\n",
       "      <td>90.0000</td>\n",
       "      <td>0.2174</td>\n",
       "      <td>4</td>\n",
       "      <td>4.4000</td>\n",
       "      <td>0</td>\n",
       "      <td>320395</td>\n",
       "    </tr>\n",
       "    <tr>\n",
       "      <th>49854</th>\n",
       "      <td>All at Once</td>\n",
       "      <td>(Comedy, Crime)</td>\n",
       "      <td>ru</td>\n",
       "      <td>(Russia,)</td>\n",
       "      <td>2014-06-05</td>\n",
       "      <td>0.0000</td>\n",
       "      <td>0.2016</td>\n",
       "      <td>4</td>\n",
       "      <td>6.0000</td>\n",
       "      <td>750000</td>\n",
       "      <td>3</td>\n",
       "    </tr>\n",
       "    <tr>\n",
       "      <th>49856</th>\n",
       "      <td>The Miracle</td>\n",
       "      <td>(Drama, History, Mystery)</td>\n",
       "      <td>ru</td>\n",
       "      <td>(Russia,)</td>\n",
       "      <td>2009-10-09</td>\n",
       "      <td>110.0000</td>\n",
       "      <td>0.4360</td>\n",
       "      <td>3</td>\n",
       "      <td>6.3000</td>\n",
       "      <td>0</td>\n",
       "      <td>50656</td>\n",
       "    </tr>\n",
       "    <tr>\n",
       "      <th>49866</th>\n",
       "      <td>Pro Lyuboff</td>\n",
       "      <td>(Drama, Romance)</td>\n",
       "      <td>en</td>\n",
       "      <td>(Russia,)</td>\n",
       "      <td>2010-09-30</td>\n",
       "      <td>107.0000</td>\n",
       "      <td>0.1218</td>\n",
       "      <td>3</td>\n",
       "      <td>4.0000</td>\n",
       "      <td>2000000</td>\n",
       "      <td>1268793</td>\n",
       "    </tr>\n",
       "    <tr>\n",
       "      <th>49876</th>\n",
       "      <td>Antidur</td>\n",
       "      <td>(Action, Comedy, Crime, Foreign)</td>\n",
       "      <td>ru</td>\n",
       "      <td>(Russia,)</td>\n",
       "      <td>2007-09-06</td>\n",
       "      <td>91.0000</td>\n",
       "      <td>0.0398</td>\n",
       "      <td>1</td>\n",
       "      <td>1.0000</td>\n",
       "      <td>5000000</td>\n",
       "      <td>1413000</td>\n",
       "    </tr>\n",
       "  </tbody>\n",
       "</table>\n",
       "<p>7254 rows × 11 columns</p>\n",
       "</div>"
      ],
      "text/plain": [
       "                                             title  \\\n",
       "0                                           Avatar   \n",
       "1         Pirates of the Caribbean: At World's End   \n",
       "2                                          Spectre   \n",
       "3                            The Dark Knight Rises   \n",
       "4                                      John Carter   \n",
       "5                                     Spider-Man 3   \n",
       "6                                          Tangled   \n",
       "7                          Avengers: Age of Ultron   \n",
       "8           Harry Potter and the Half-Blood Prince   \n",
       "9               Batman v Superman: Dawn of Justice   \n",
       "10                                Superman Returns   \n",
       "11                               Quantum of Solace   \n",
       "12      Pirates of the Caribbean: Dead Man's Chest   \n",
       "13                                 The Lone Ranger   \n",
       "14                                    Man of Steel   \n",
       "15        The Chronicles of Narnia: Prince Caspian   \n",
       "16                                    The Avengers   \n",
       "17     Pirates of the Caribbean: On Stranger Tides   \n",
       "18                                  Men in Black 3   \n",
       "19       The Hobbit: The Battle of the Five Armies   \n",
       "20                          The Amazing Spider-Man   \n",
       "21                                      Robin Hood   \n",
       "22             The Hobbit: The Desolation of Smaug   \n",
       "23                              The Golden Compass   \n",
       "24                                       King Kong   \n",
       "25                                         Titanic   \n",
       "26                      Captain America: Civil War   \n",
       "27                                      Battleship   \n",
       "28                                  Jurassic World   \n",
       "29                                         Skyfall   \n",
       "...                                            ...   \n",
       "49057                                        Fanaa   \n",
       "49108                                Atomic Blonde   \n",
       "49153                                      Dunkirk   \n",
       "49171                                     Bairavaa   \n",
       "49186                                      Gymkata   \n",
       "49265                      Confidential Assignment   \n",
       "49285       Yu-Gi-Oh!: The Dark Side of Dimensions   \n",
       "49291                                Chasing Trane   \n",
       "49315                Transformers: The Last Knight   \n",
       "49317                             Porn in the Hood   \n",
       "49321                     Mommies, Happy New Year!   \n",
       "49323                                     Pregnant   \n",
       "49329                                 On the Hook!   \n",
       "49360                                         Moka   \n",
       "49376                                    Good Time   \n",
       "49418                            One Hundred Steps   \n",
       "49427                                         2:22   \n",
       "49440                                     FC Venus   \n",
       "49482                               The Dark Tower   \n",
       "49528                             My Old Classmate   \n",
       "49557            And Here's What's Happening to Me   \n",
       "49603                              The Emoji Movie   \n",
       "49630                                   Wind River   \n",
       "49708                                       Baasha   \n",
       "49710                             Sivaji: The Boss   \n",
       "49836                                 Apartment 18   \n",
       "49854                                  All at Once   \n",
       "49856                                  The Miracle   \n",
       "49866                                  Pro Lyuboff   \n",
       "49876                                      Antidur   \n",
       "\n",
       "                                                  genres original_language  \\\n",
       "0          (Action, Adventure, Fantasy, Science Fiction)                en   \n",
       "1                           (Action, Adventure, Fantasy)                en   \n",
       "2                             (Action, Adventure, Crime)                en   \n",
       "3                       (Action, Crime, Drama, Thriller)                en   \n",
       "4                   (Action, Adventure, Science Fiction)                en   \n",
       "5                           (Action, Adventure, Fantasy)                en   \n",
       "6                                    (Animation, Family)                en   \n",
       "7                   (Action, Adventure, Science Fiction)                en   \n",
       "8                           (Adventure, Family, Fantasy)                en   \n",
       "9                           (Action, Adventure, Fantasy)                en   \n",
       "10         (Action, Adventure, Fantasy, Science Fiction)                en   \n",
       "11                  (Action, Adventure, Crime, Thriller)                en   \n",
       "12                          (Action, Adventure, Fantasy)                en   \n",
       "13                          (Action, Adventure, Western)                en   \n",
       "14         (Action, Adventure, Fantasy, Science Fiction)                en   \n",
       "15                          (Adventure, Family, Fantasy)                en   \n",
       "16                  (Action, Adventure, Science Fiction)                en   \n",
       "17                          (Action, Adventure, Fantasy)                en   \n",
       "18                     (Action, Comedy, Science Fiction)                en   \n",
       "19                          (Action, Adventure, Fantasy)                en   \n",
       "20                          (Action, Adventure, Fantasy)                en   \n",
       "21                                   (Action, Adventure)                en   \n",
       "22                                  (Adventure, Fantasy)                en   \n",
       "23                                  (Adventure, Fantasy)                en   \n",
       "24                            (Action, Adventure, Drama)                en   \n",
       "25                            (Drama, Romance, Thriller)                en   \n",
       "26                  (Action, Adventure, Science Fiction)                en   \n",
       "27        (Action, Adventure, Science Fiction, Thriller)                en   \n",
       "28        (Action, Adventure, Science Fiction, Thriller)                en   \n",
       "29                         (Action, Adventure, Thriller)                en   \n",
       "...                                                  ...               ...   \n",
       "49057                 (Action, Drama, Romance, Thriller)                hi   \n",
       "49108                                 (Action, Thriller)                en   \n",
       "49153            (Action, Drama, History, Thriller, War)                en   \n",
       "49171                                          (Action,)                ta   \n",
       "49186                                    (Action, Drama)                en   \n",
       "49265                            (Action, Comedy, Drama)                ko   \n",
       "49285                             (Adventure, Animation)                ja   \n",
       "49291                                     (Documentary,)                en   \n",
       "49315     (Action, Adventure, Science Fiction, Thriller)                en   \n",
       "49317                                          (Comedy,)                fr   \n",
       "49321                                    (Comedy, Drama)                ru   \n",
       "49323                                          (Comedy,)                ru   \n",
       "49329                                  (Comedy, Romance)                ru   \n",
       "49360                                           (Drama,)                fr   \n",
       "49376                           (Crime, Drama, Thriller)                en   \n",
       "49418                                     (Crime, Drama)                it   \n",
       "49427                                  (Drama, Thriller)                en   \n",
       "49440                                  (Comedy, Romance)                fi   \n",
       "49482  (Action, Fantasy, Horror, Science Fiction, Wes...                en   \n",
       "49528                                         (Romance,)                en   \n",
       "49557                                           (Drama,)                ru   \n",
       "49603                        (Animation, Comedy, Family)                en   \n",
       "49630                 (Action, Crime, Mystery, Thriller)                en   \n",
       "49708                                          (Action,)                ta   \n",
       "49710                            (Action, Comedy, Drama)                ta   \n",
       "49836                        (Horror, Mystery, Thriller)                ru   \n",
       "49854                                    (Comedy, Crime)                ru   \n",
       "49856                          (Drama, History, Mystery)                ru   \n",
       "49866                                   (Drama, Romance)                en   \n",
       "49876                   (Action, Comedy, Crime, Foreign)                ru   \n",
       "\n",
       "                                    production_countries release_date  \\\n",
       "0             (United Kingdom, United States of America)   2009-12-10   \n",
       "1                            (United States of America,)   2007-05-19   \n",
       "2             (United Kingdom, United States of America)   2015-10-26   \n",
       "3                            (United States of America,)   2012-07-16   \n",
       "4                            (United States of America,)   2012-03-07   \n",
       "5                            (United States of America,)   2007-05-01   \n",
       "6                            (United States of America,)   2010-11-24   \n",
       "7                            (United States of America,)   2015-04-22   \n",
       "8             (United Kingdom, United States of America)   2009-07-07   \n",
       "9                            (United States of America,)   2016-03-23   \n",
       "10                           (United States of America,)   2006-06-28   \n",
       "11            (United Kingdom, United States of America)   2008-10-30   \n",
       "12     (Bahamas, Dominica, Jamaica, United States of ...   2006-06-20   \n",
       "13                           (United States of America,)   2013-07-03   \n",
       "14            (United Kingdom, United States of America)   2013-06-12   \n",
       "15     (Czech Republic, Poland, Slovenia, United Stat...   2008-05-15   \n",
       "16                           (United States of America,)   2012-04-25   \n",
       "17                           (United States of America,)   2011-05-14   \n",
       "18                           (United States of America,)   2012-05-23   \n",
       "19               (New Zealand, United States of America)   2014-12-10   \n",
       "20                           (United States of America,)   2012-06-27   \n",
       "21            (United Kingdom, United States of America)   2010-05-12   \n",
       "22               (New Zealand, United States of America)   2013-12-11   \n",
       "23            (United Kingdom, United States of America)   2007-12-04   \n",
       "24      (Germany, New Zealand, United States of America)   2005-12-14   \n",
       "25                           (United States of America,)   1997-11-18   \n",
       "26                           (United States of America,)   2016-04-27   \n",
       "27                           (United States of America,)   2012-04-11   \n",
       "28                           (United States of America,)   2015-06-09   \n",
       "29            (United Kingdom, United States of America)   2012-10-25   \n",
       "...                                                  ...          ...   \n",
       "49057                                           (India,)   2006-05-26   \n",
       "49108        (Germany, Sweden, United States of America)   2017-07-26   \n",
       "49153  (France, Netherlands, United Kingdom, United S...   2017-07-19   \n",
       "49171                                           (India,)   2017-01-12   \n",
       "49186                  (Japan, United States of America)   1985-05-03   \n",
       "49265                                     (South Korea,)   2017-01-18   \n",
       "49285                                           (Japan,)   2016-04-23   \n",
       "49291                        (United States of America,)   2017-04-14   \n",
       "49315                        (United States of America,)   2017-06-21   \n",
       "49317                                          (France,)   2012-07-11   \n",
       "49321                                          (Russia,)   2012-12-27   \n",
       "49323                                          (Russia,)   2011-07-21   \n",
       "49329                                          (Russia,)   2011-02-03   \n",
       "49360                              (France, Switzerland)   2016-08-17   \n",
       "49376                        (United States of America,)   2017-08-11   \n",
       "49418                                           (Italy,)   2000-08-31   \n",
       "49427              (Australia, United States of America)   2017-06-29   \n",
       "49440                                         (Finland,)   2005-12-30   \n",
       "49482           (South Africa, United States of America)   2017-08-03   \n",
       "49528                                           (China,)   2014-04-25   \n",
       "49557                                          (Russia,)   2012-12-09   \n",
       "49603                        (United States of America,)   2017-07-28   \n",
       "49630  (Canada, United Kingdom, United States of Amer...   2017-08-03   \n",
       "49708                                           (India,)   1995-01-15   \n",
       "49710                                           (India,)   2007-06-14   \n",
       "49836                                          (Russia,)   2014-03-13   \n",
       "49854                                          (Russia,)   2014-06-05   \n",
       "49856                                          (Russia,)   2009-10-09   \n",
       "49866                                          (Russia,)   2010-09-30   \n",
       "49876                                          (Russia,)   2007-09-06   \n",
       "\n",
       "       runtime  popularity  vote_count  vote_average     budget     revenue  \n",
       "0     162.0000    150.4376       11800        7.2000  237000000  2787965087  \n",
       "1     169.0000    139.0826        4500        6.9000  300000000   961000000  \n",
       "2     148.0000    107.3768        4466        6.3000  245000000   880674609  \n",
       "3     165.0000    112.3130        9106        7.6000  250000000  1084939099  \n",
       "4     132.0000     43.9270        2124        6.1000  260000000   284139100  \n",
       "5     139.0000    115.6998        3576        5.9000  258000000   890871626  \n",
       "6     100.0000     48.6820        3330        7.4000  260000000   591794936  \n",
       "7     141.0000    134.2792        6767        7.3000  280000000  1405403694  \n",
       "8     153.0000     98.8856        5293        7.4000  250000000   933959197  \n",
       "9     151.0000    155.7905        7004        5.7000  250000000   873260194  \n",
       "10    154.0000     57.9256        1400        5.4000  270000000   391081192  \n",
       "11    106.0000    107.9288        2965        6.1000  200000000   586090727  \n",
       "12    151.0000    145.8474        5246        7.0000  200000000  1065659812  \n",
       "13    149.0000     49.0470        2311        5.9000  255000000    89289910  \n",
       "14    143.0000     99.3980        6359        6.5000  225000000   662845518  \n",
       "15    150.0000     53.9786        1630        6.3000  225000000   419651413  \n",
       "16    143.0000    144.4486       11776        7.4000  220000000  1519557910  \n",
       "17    136.0000    135.4139        4948        6.4000  380000000  1045713802  \n",
       "18    106.0000     52.0352        4160        6.2000  225000000   624026776  \n",
       "19    144.0000    120.9657        4760        7.1000  250000000   956019788  \n",
       "20    136.0000     89.8663        6586        6.5000  215000000   752215857  \n",
       "21    140.0000     37.6683        1398        6.2000  200000000   310669540  \n",
       "22    161.0000     94.3706        4524        7.6000  250000000   958400000  \n",
       "23    113.0000     42.9909        1303        5.8000  180000000   372234864  \n",
       "24    187.0000     61.2260        2337        6.6000  207000000   550000000  \n",
       "25    194.0000    100.0259        7562        7.5000  200000000  1845034188  \n",
       "26    147.0000    198.3724        7241        7.1000  250000000  1153304495  \n",
       "27    131.0000     64.9284        2114        5.5000  209000000   303025485  \n",
       "28    124.0000    418.7086        8662        6.5000  150000000  1513528810  \n",
       "29    143.0000     93.0050        7604        6.9000  200000000  1108561013  \n",
       "...        ...         ...         ...           ...        ...         ...  \n",
       "49057 168.0000      3.0035          53        6.7000    5300000    22175908  \n",
       "49108 115.0000     14.4551         748        6.1000   30000000    90007945  \n",
       "49153 107.0000     30.9389        2712        7.5000  100000000   519876949  \n",
       "49171 168.0000      1.4595          12        6.5000          0    17000000  \n",
       "49186  90.0000      1.5428          14        4.7000    8500000     5730596  \n",
       "49265 125.0000      1.7586           5        6.2000    8520000    56100000  \n",
       "49285 120.0000      3.2357          29        6.8000          0     1015339  \n",
       "49291  99.0000      0.5200           2        8.0000          0      393970  \n",
       "49315 149.0000     39.1868        1440        6.2000  260000000   604942143  \n",
       "49317  98.0000      9.7550          92        5.4000          0      103504  \n",
       "49321  90.0000      1.4560           9        5.3000    2000000    11666088  \n",
       "49323  81.0000      0.3971           7        3.1000    2000000     8000000  \n",
       "49329  90.0000      0.4453           3        4.7000    3000000     1957000  \n",
       "49360  89.0000      2.4045          24        6.1000          0      126463  \n",
       "49376  99.0000      5.7986          46        7.3000          0    10893246  \n",
       "49418 114.0000      4.6753         116        7.8000          0     1805884  \n",
       "49427  99.0000     37.4846         277        5.5000          0         422  \n",
       "49440 107.0000      0.9475          10        5.6000    2196531     2411594  \n",
       "49482  95.0000     50.9036         688        5.7000   60000000    71000000  \n",
       "49528   0.0000      0.5040           4        6.0000          0    76000000  \n",
       "49557  72.0000      0.1820           3        5.7000          0       14353  \n",
       "49603  86.0000     33.6946         327        5.8000   50000000    66913939  \n",
       "49630 111.0000     40.7968         181        7.4000   11000000   184770205  \n",
       "49708 145.0000      0.7042          14        7.8000          0    15000000  \n",
       "49710 185.0000      1.3236          25        6.9000   12000000    19000000  \n",
       "49836  90.0000      0.2174           4        4.4000          0      320395  \n",
       "49854   0.0000      0.2016           4        6.0000     750000           3  \n",
       "49856 110.0000      0.4360           3        6.3000          0       50656  \n",
       "49866 107.0000      0.1218           3        4.0000    2000000     1268793  \n",
       "49876  91.0000      0.0398           1        1.0000    5000000     1413000  \n",
       "\n",
       "[7254 rows x 11 columns]"
      ]
     },
     "execution_count": 91,
     "metadata": {},
     "output_type": "execute_result"
    }
   ],
   "source": [
    "# merge two data set into one and drop the duplicated ones, save it as a new csv file\n",
    "merge_df = pd.merge(tmdb_df,tmdb_df2,on = ['budget','genres','original_language','popularity','production_countries','release_date','revenue','runtime','title','vote_average','vote_count'] , how = 'outer')\n",
    "merge_df = merge_df[merge_df['revenue'] != 0]\n",
    "merge_df = merge_df.drop_duplicates(subset = 'title', keep = 'first')\n",
    "merge_df=merge_df[['title','genres','original_language','production_countries','release_date','runtime','popularity','vote_count','vote_average','budget','revenue']]\n",
    "merge_df.to_csv('trimmed_data.csv')\n",
    "# visulize the new dataset\n",
    "merge_df"
   ]
  },
  {
   "cell_type": "markdown",
   "metadata": {},
   "source": [
    "# Data Analysis & Results"
   ]
  },
  {
   "cell_type": "markdown",
   "metadata": {},
   "source": [
    "We first sorted the cleaned dataset by each movie's revenue from high to low as reported by the two original datasets."
   ]
  },
  {
   "cell_type": "markdown",
   "metadata": {},
   "source": [
    "## Data set sorted according to the revenue"
   ]
  },
  {
   "cell_type": "code",
   "execution_count": 7,
   "metadata": {},
   "outputs": [],
   "source": [
    "df = pd.read_csv('trimmed_data.csv',index_col = 0)\n"
   ]
  },
  {
   "cell_type": "code",
   "execution_count": 8,
   "metadata": {},
   "outputs": [
    {
     "data": {
      "text/html": [
       "<div>\n",
       "<style scoped>\n",
       "    .dataframe tbody tr th:only-of-type {\n",
       "        vertical-align: middle;\n",
       "    }\n",
       "\n",
       "    .dataframe tbody tr th {\n",
       "        vertical-align: top;\n",
       "    }\n",
       "\n",
       "    .dataframe thead th {\n",
       "        text-align: right;\n",
       "    }\n",
       "</style>\n",
       "<table border=\"1\" class=\"dataframe\">\n",
       "  <thead>\n",
       "    <tr style=\"text-align: right;\">\n",
       "      <th></th>\n",
       "      <th>title</th>\n",
       "      <th>genres</th>\n",
       "      <th>original_language</th>\n",
       "      <th>production_countries</th>\n",
       "      <th>release_date</th>\n",
       "      <th>runtime</th>\n",
       "      <th>popularity</th>\n",
       "      <th>vote_count</th>\n",
       "      <th>vote_average</th>\n",
       "      <th>budget</th>\n",
       "      <th>revenue</th>\n",
       "    </tr>\n",
       "  </thead>\n",
       "  <tbody>\n",
       "    <tr>\n",
       "      <th>0</th>\n",
       "      <td>Avatar</td>\n",
       "      <td>('Action', 'Adventure', 'Fantasy', 'Science Fi...</td>\n",
       "      <td>en</td>\n",
       "      <td>('United Kingdom', 'United States of America')</td>\n",
       "      <td>2009-12-10</td>\n",
       "      <td>162.0</td>\n",
       "      <td>150.437577</td>\n",
       "      <td>11800</td>\n",
       "      <td>7.2</td>\n",
       "      <td>237000000</td>\n",
       "      <td>2787965087</td>\n",
       "    </tr>\n",
       "    <tr>\n",
       "      <th>31274</th>\n",
       "      <td>Star Wars: The Force Awakens</td>\n",
       "      <td>('Action', 'Adventure', 'Fantasy', 'Science Fi...</td>\n",
       "      <td>en</td>\n",
       "      <td>('United States of America',)</td>\n",
       "      <td>2015-12-15</td>\n",
       "      <td>136.0</td>\n",
       "      <td>31.626013</td>\n",
       "      <td>7993</td>\n",
       "      <td>7.5</td>\n",
       "      <td>245000000</td>\n",
       "      <td>2068223624</td>\n",
       "    </tr>\n",
       "    <tr>\n",
       "      <th>25</th>\n",
       "      <td>Titanic</td>\n",
       "      <td>('Drama', 'Romance', 'Thriller')</td>\n",
       "      <td>en</td>\n",
       "      <td>('United States of America',)</td>\n",
       "      <td>1997-11-18</td>\n",
       "      <td>194.0</td>\n",
       "      <td>100.025899</td>\n",
       "      <td>7562</td>\n",
       "      <td>7.5</td>\n",
       "      <td>200000000</td>\n",
       "      <td>1845034188</td>\n",
       "    </tr>\n",
       "    <tr>\n",
       "      <th>16</th>\n",
       "      <td>The Avengers</td>\n",
       "      <td>('Action', 'Adventure', 'Science Fiction')</td>\n",
       "      <td>en</td>\n",
       "      <td>('United States of America',)</td>\n",
       "      <td>2012-04-25</td>\n",
       "      <td>143.0</td>\n",
       "      <td>144.448633</td>\n",
       "      <td>11776</td>\n",
       "      <td>7.4</td>\n",
       "      <td>220000000</td>\n",
       "      <td>1519557910</td>\n",
       "    </tr>\n",
       "    <tr>\n",
       "      <th>28</th>\n",
       "      <td>Jurassic World</td>\n",
       "      <td>('Action', 'Adventure', 'Science Fiction', 'Th...</td>\n",
       "      <td>en</td>\n",
       "      <td>('United States of America',)</td>\n",
       "      <td>2015-06-09</td>\n",
       "      <td>124.0</td>\n",
       "      <td>418.708552</td>\n",
       "      <td>8662</td>\n",
       "      <td>6.5</td>\n",
       "      <td>150000000</td>\n",
       "      <td>1513528810</td>\n",
       "    </tr>\n",
       "  </tbody>\n",
       "</table>\n",
       "</div>"
      ],
      "text/plain": [
       "                              title  \\\n",
       "0                            Avatar   \n",
       "31274  Star Wars: The Force Awakens   \n",
       "25                          Titanic   \n",
       "16                     The Avengers   \n",
       "28                   Jurassic World   \n",
       "\n",
       "                                                  genres original_language  \\\n",
       "0      ('Action', 'Adventure', 'Fantasy', 'Science Fi...                en   \n",
       "31274  ('Action', 'Adventure', 'Fantasy', 'Science Fi...                en   \n",
       "25                      ('Drama', 'Romance', 'Thriller')                en   \n",
       "16            ('Action', 'Adventure', 'Science Fiction')                en   \n",
       "28     ('Action', 'Adventure', 'Science Fiction', 'Th...                en   \n",
       "\n",
       "                                 production_countries release_date  runtime  \\\n",
       "0      ('United Kingdom', 'United States of America')   2009-12-10    162.0   \n",
       "31274                   ('United States of America',)   2015-12-15    136.0   \n",
       "25                      ('United States of America',)   1997-11-18    194.0   \n",
       "16                      ('United States of America',)   2012-04-25    143.0   \n",
       "28                      ('United States of America',)   2015-06-09    124.0   \n",
       "\n",
       "       popularity  vote_count  vote_average     budget     revenue  \n",
       "0      150.437577       11800           7.2  237000000  2787965087  \n",
       "31274   31.626013        7993           7.5  245000000  2068223624  \n",
       "25     100.025899        7562           7.5  200000000  1845034188  \n",
       "16     144.448633       11776           7.4  220000000  1519557910  \n",
       "28     418.708552        8662           6.5  150000000  1513528810  "
      ]
     },
     "execution_count": 8,
     "metadata": {},
     "output_type": "execute_result"
    }
   ],
   "source": [
    "df = df.sort_values(by = ['revenue'],ascending=False)\n",
    "df.head(5)"
   ]
  },
  {
   "cell_type": "markdown",
   "metadata": {},
   "source": [
    "We then plotted a bar graph in order to visualize the genres of the 50 most profitable movies."
   ]
  },
  {
   "cell_type": "markdown",
   "metadata": {},
   "source": [
    "## Movie genres of the top 50 revenues"
   ]
  },
  {
   "cell_type": "markdown",
   "metadata": {},
   "source": [
    "As the bar graph has suggested, 9 movies has a combined genre of ('Action', 'Adventure', 'Fantasy'). 8 movies have a combined genre of ('Action', 'Adventure', 'Science Fiction'). 7 movies have a combined genre of ('Adventure', 'Family', 'Fantacy'). 5 movies have a combined genre of ('Adventure', 'Animation', 'Comedy', 'Family'). It appears that these combined genres have a good correlation with the movie revenue."
   ]
  },
  {
   "cell_type": "code",
   "execution_count": 9,
   "metadata": {},
   "outputs": [
    {
     "data": {
      "image/png": "[encoded data removed]",
      "text/plain": [
       "<Figure size 936x360 with 1 Axes>"
      ]
     },
     "metadata": {
      "needs_background": "light"
     },
     "output_type": "display_data"
    }
   ],
   "source": [
    "pd.value_counts(df.head(50)['genres']).plot.bar(figsize = (13, 5))\n",
    "f1 = plt.gcf()"
   ]
  },
  {
   "cell_type": "markdown",
   "metadata": {},
   "source": [
    "In order to confirm the potential correlation with the movie revenue, we performed an OLS regression on all the combined genres included in our dataset, using an alpha value of 0.05."
   ]
  },
  {
   "cell_type": "markdown",
   "metadata": {},
   "source": [
    "## Linear Model Of Movie Genres and Revenue"
   ]
  },
  {
   "cell_type": "markdown",
   "metadata": {},
   "source": [
    "We found, from the OLS regression output, that the combined genres of ('Action', 'Adventure', 'Fantasy') has a p value of less than 0.001. The combined genre of ('Action', 'Adventure', 'Science Fiction') also has a p value of less than 0.001. The same p value applies to the combined genres of ('Adventure', 'Family', 'Fantacy'), and ('Adventure', 'Animation', 'Comedy', 'Family'). It is then confirmed that there is a correlation between these genres and the movie revenue."
   ]
  },
  {
   "cell_type": "code",
   "execution_count": 69,
   "metadata": {},
   "outputs": [
    {
     "name": "stdout",
     "output_type": "stream",
     "text": [
      "                            OLS Regression Results                            \n",
      "==============================================================================\n",
      "Dep. Variable:                revenue   R-squared:                       0.359\n",
      "Model:                            OLS   Adj. R-squared:                  0.280\n",
      "Method:                 Least Squares   F-statistic:                     4.506\n",
      "Date:                Wed, 12 Jun 2019   Prob (F-statistic):          6.93e-257\n",
      "Time:                        01:47:54   Log-Likelihood:            -1.4508e+05\n",
      "No. Observations:                7254   AIC:                         2.918e+05\n",
      "Df Residuals:                    6450   BIC:                         2.973e+05\n",
      "Df Model:                         803                                         \n",
      "Covariance Type:            nonrobust                                         \n",
      "================================================================================================================================================================================\n",
      "                                                                                                                   coef    std err          t      P>|t|      [0.025      0.975]\n",
      "--------------------------------------------------------------------------------------------------------------------------------------------------------------------------------\n",
      "Intercept                                                                                                     3.212e+06   2.72e+07      0.118      0.906      -5e+07    5.64e+07\n",
      "genres[T.('Action', 'Adventure')]                                                                             1.777e+08    3.8e+07      4.682      0.000    1.03e+08    2.52e+08\n",
      "genres[T.('Action', 'Adventure', 'Animation')]                                                                6.404e+07   7.68e+07      0.834      0.404   -8.65e+07    2.15e+08\n",
      "genres[T.('Action', 'Adventure', 'Animation', 'Comedy')]                                                        6.3e+07   1.27e+08      0.495      0.621   -1.87e+08    3.13e+08\n",
      "genres[T.('Action', 'Adventure', 'Animation', 'Comedy', 'Drama', 'Family')]                                   1.342e+07   1.27e+08      0.105      0.916   -2.36e+08    2.63e+08\n",
      "genres[T.('Action', 'Adventure', 'Animation', 'Comedy', 'Family')]                                            3.709e+08   5.76e+07      6.439      0.000    2.58e+08    4.84e+08\n",
      "genres[T.('Action', 'Adventure', 'Animation', 'Comedy', 'Family', 'Fantasy')]                                 5.708e+08   9.21e+07      6.199      0.000     3.9e+08    7.51e+08\n",
      "genres[T.('Action', 'Adventure', 'Animation', 'Comedy', 'Family', 'Fantasy', 'Science Fiction')]              7.772e+07   1.27e+08      0.610      0.542   -1.72e+08    3.27e+08\n",
      "genres[T.('Action', 'Adventure', 'Animation', 'Comedy', 'Family', 'Fantasy', 'Science Fiction', 'Thriller')]  2.596e+07   1.27e+08      0.204      0.839   -2.24e+08\n"
     ]
    }
   ],
   "source": [
    "outcome_1, predictors_1 = patsy.dmatrices(\"revenue~genres\",df)\n",
    "mod_1 = sm.OLS(outcome_1, predictors_1)\n",
    "res_1 = mod_1.fit(disp = True)\n",
    "print(str(res_1.summary())[0:2980])"
   ]
  },
  {
   "cell_type": "markdown",
   "metadata": {},
   "source": [
    "since there are too many genre types to print we took out the top 10 genres that has the lowest p-values"
   ]
  },
  {
   "cell_type": "code",
   "execution_count": 73,
   "metadata": {},
   "outputs": [
    {
     "data": {
      "text/html": [
       "<div>\n",
       "<style scoped>\n",
       "    .dataframe tbody tr th:only-of-type {\n",
       "        vertical-align: middle;\n",
       "    }\n",
       "\n",
       "    .dataframe tbody tr th {\n",
       "        vertical-align: top;\n",
       "    }\n",
       "\n",
       "    .dataframe thead th {\n",
       "        text-align: right;\n",
       "    }\n",
       "</style>\n",
       "<table border=\"1\" class=\"dataframe\">\n",
       "  <thead>\n",
       "    <tr style=\"text-align: right;\">\n",
       "      <th></th>\n",
       "      <th>Genres</th>\n",
       "      <th>Pvalues</th>\n",
       "    </tr>\n",
       "  </thead>\n",
       "  <tbody>\n",
       "    <tr>\n",
       "      <th>483</th>\n",
       "      <td>production_countries[T.('New Zealand', 'United...</td>\n",
       "      <td>0.0000</td>\n",
       "    </tr>\n",
       "    <tr>\n",
       "      <th>536</th>\n",
       "      <td>production_countries[T.('United Kingdom', 'Uni...</td>\n",
       "      <td>0.0000</td>\n",
       "    </tr>\n",
       "    <tr>\n",
       "      <th>60</th>\n",
       "      <td>production_countries[T.('Bahamas', 'Dominica',...</td>\n",
       "      <td>0.0000</td>\n",
       "    </tr>\n",
       "    <tr>\n",
       "      <th>538</th>\n",
       "      <td>production_countries[T.('United States of Amer...</td>\n",
       "      <td>0.0000</td>\n",
       "    </tr>\n",
       "    <tr>\n",
       "      <th>194</th>\n",
       "      <td>production_countries[T.('China', 'United State...</td>\n",
       "      <td>0.0000</td>\n",
       "    </tr>\n",
       "    <tr>\n",
       "      <th>395</th>\n",
       "      <td>production_countries[T.('Germany', 'United Sta...</td>\n",
       "      <td>0.0000</td>\n",
       "    </tr>\n",
       "    <tr>\n",
       "      <th>315</th>\n",
       "      <td>production_countries[T.('France', 'Malta', 'Un...</td>\n",
       "      <td>0.0000</td>\n",
       "    </tr>\n",
       "    <tr>\n",
       "      <th>45</th>\n",
       "      <td>production_countries[T.('Australia', 'United S...</td>\n",
       "      <td>0.0000</td>\n",
       "    </tr>\n",
       "    <tr>\n",
       "      <th>214</th>\n",
       "      <td>production_countries[T.('Czech Republic', 'Uni...</td>\n",
       "      <td>0.0000</td>\n",
       "    </tr>\n",
       "    <tr>\n",
       "      <th>394</th>\n",
       "      <td>production_countries[T.('Germany', 'United Kin...</td>\n",
       "      <td>0.0000</td>\n",
       "    </tr>\n",
       "  </tbody>\n",
       "</table>\n",
       "</div>"
      ],
      "text/plain": [
       "                                                Genres  Pvalues\n",
       "483  production_countries[T.('New Zealand', 'United...   0.0000\n",
       "536  production_countries[T.('United Kingdom', 'Uni...   0.0000\n",
       "60   production_countries[T.('Bahamas', 'Dominica',...   0.0000\n",
       "538  production_countries[T.('United States of Amer...   0.0000\n",
       "194  production_countries[T.('China', 'United State...   0.0000\n",
       "395  production_countries[T.('Germany', 'United Sta...   0.0000\n",
       "315  production_countries[T.('France', 'Malta', 'Un...   0.0000\n",
       "45   production_countries[T.('Australia', 'United S...   0.0000\n",
       "214  production_countries[T.('Czech Republic', 'Uni...   0.0000\n",
       "394  production_countries[T.('Germany', 'United Kin...   0.0000"
      ]
     },
     "execution_count": 73,
     "metadata": {},
     "output_type": "execute_result"
    }
   ],
   "source": [
    "Genres_Pvalues = pd.DataFrame(res_1.model.exog_names, columns = ['Genres'])\n",
    "Genres_Pvalues['Pvalues'] =  res_1.pvalues\n",
    "pd.set_option('display.float_format','{:.4f}'.format)\n",
    "Genres_Pvalues = Genres_Pvalues.sort_values(by = ['Pvalues'],ascending=True)\n",
    "Genres_Pvalues.head(10)"
   ]
  },
  {
   "cell_type": "markdown",
   "metadata": {},
   "source": [
    "Next, we inspected the possible correlation between movie production countries and the movie revenue. We plotted a bar graph of the 100 most profitable movies according to their country of production."
   ]
  },
  {
   "cell_type": "markdown",
   "metadata": {},
   "source": [
    "## Movie production countries from top 100 movie revenues"
   ]
  },
  {
   "cell_type": "markdown",
   "metadata": {},
   "source": [
    "As indicated by the bar graph, more than 60 movies were produced by ('United States of America'), suggesting that the ('United States of America') is potentially correlated with the movie revenue. We used an alpha value of 0.05."
   ]
  },
  {
   "cell_type": "code",
   "execution_count": 12,
   "metadata": {
    "scrolled": true
   },
   "outputs": [
    {
     "data": {
      "image/png": "[encoded data removed]",
      "text/plain": [
       "<Figure size 936x360 with 1 Axes>"
      ]
     },
     "metadata": {
      "needs_background": "light"
     },
     "output_type": "display_data"
    }
   ],
   "source": [
    "pd.value_counts(df.head(100)['production_countries']).plot.bar(figsize = (13, 5))\n",
    "f1 = plt.gcf()"
   ]
  },
  {
   "cell_type": "markdown",
   "metadata": {},
   "source": [
    "An OLS regression test was performed to analyze the correlation between each country of production and the movie revenue. As expected, the ('United States of America') has a p value of less than 0.001."
   ]
  },
  {
   "cell_type": "code",
   "execution_count": 74,
   "metadata": {},
   "outputs": [
    {
     "name": "stdout",
     "output_type": "stream",
     "text": [
      "                            OLS Regression Results                            \n",
      "==============================================================================\n",
      "Dep. Variable:                revenue   R-squared:                       0.109\n",
      "Model:                            OLS   Adj. R-squared:                  0.038\n",
      "Method:                 Least Squares   F-statistic:                     1.526\n",
      "Date:                Wed, 12 Jun 2019   Prob (F-statistic):           6.27e-13\n",
      "Time:                        01:56:14   Log-Likelihood:            -1.4627e+05\n",
      "No. Observations:                7254   AIC:                         2.936e+05\n",
      "Df Residuals:                    6715   BIC:                         2.973e+05\n",
      "Df Model:                         538                                         \n",
      "Covariance Type:            nonrobust                                         \n",
      "=========================================================================================================================================================================================================================================================\n",
      "                                                                                                                                                                                            coef    std err          t      P>|t|      [0.025      0.975]\n",
      "---------------------------------------------------------------------------------------------------------------------------------------------------------------------------------------------------------------------------------------------------------\n",
      "Intercept                                                                                                                                                                                3.4e+06   1.16e+07      0.293      0.769   -1.93e+07    2.61e+07\n",
      "production_countries[T.('Afghanistan', 'France', 'Germany', 'United Kingdom')]                                                                                                        -3.251e+06   1.44e+08     -0.023      0.982   -2.86e+08     2.8e+08\n",
      "production_countries[T.('Algeria', 'Belgium', 'France', 'Morocco')]                                                                                                                    1.956e+07   1.44e+08      0.136      0.892   -2.63e+08    3.02e+08\n",
      "production_countries[T.('Algeria', 'France')]                                                                                                                                         -3.317e+06   1.44e+08     -0.023      0.982   -2.86e+08     2.8e+08\n",
      "production_countries[T.('Algeria', 'Italy')]                                                                                                                                          -2.478e+06   1.44e+08     -0.017      0.986   -2.85e+08     2.8e+08\n",
      "production_countries[T.('Angola', 'France')]                                                                                       \n",
      "None\n"
     ]
    }
   ],
   "source": [
    "outcome_1, predictors_1 = patsy.dmatrices(\"revenue~production_countries\",df)\n",
    "mod_1 = sm.OLS(outcome_1, predictors_1)\n",
    "res_1 = mod_1.fit()\n",
    "print(print(str(res_1.summary())[0:3000]))"
   ]
  },
  {
   "cell_type": "markdown",
   "metadata": {},
   "source": [
    "since there are too many production country types to print we took out the top 10 production country types that has the lowest p-values"
   ]
  },
  {
   "cell_type": "code",
   "execution_count": 79,
   "metadata": {},
   "outputs": [
    {
     "data": {
      "text/html": [
       "<div>\n",
       "<style scoped>\n",
       "    .dataframe tbody tr th:only-of-type {\n",
       "        vertical-align: middle;\n",
       "    }\n",
       "\n",
       "    .dataframe tbody tr th {\n",
       "        vertical-align: top;\n",
       "    }\n",
       "\n",
       "    .dataframe thead th {\n",
       "        text-align: right;\n",
       "    }\n",
       "</style>\n",
       "<table border=\"1\" class=\"dataframe\">\n",
       "  <thead>\n",
       "    <tr style=\"text-align: right;\">\n",
       "      <th></th>\n",
       "      <th>production_countries</th>\n",
       "      <th>Pvalues</th>\n",
       "    </tr>\n",
       "  </thead>\n",
       "  <tbody>\n",
       "    <tr>\n",
       "      <th>483</th>\n",
       "      <td>[T.('New Zealand', 'United States of America')]</td>\n",
       "      <td>0.0000</td>\n",
       "    </tr>\n",
       "    <tr>\n",
       "      <th>536</th>\n",
       "      <td>[T.('United Kingdom', 'United States of Americ...</td>\n",
       "      <td>0.0000</td>\n",
       "    </tr>\n",
       "    <tr>\n",
       "      <th>60</th>\n",
       "      <td>[T.('Bahamas', 'Dominica', 'Jamaica', 'United ...</td>\n",
       "      <td>0.0000</td>\n",
       "    </tr>\n",
       "    <tr>\n",
       "      <th>538</th>\n",
       "      <td>[T.('United States of America',)]</td>\n",
       "      <td>0.0000</td>\n",
       "    </tr>\n",
       "    <tr>\n",
       "      <th>194</th>\n",
       "      <td>[T.('China', 'United States of America')]</td>\n",
       "      <td>0.0000</td>\n",
       "    </tr>\n",
       "    <tr>\n",
       "      <th>395</th>\n",
       "      <td>[T.('Germany', 'United States of America')]</td>\n",
       "      <td>0.0000</td>\n",
       "    </tr>\n",
       "    <tr>\n",
       "      <th>315</th>\n",
       "      <td>[T.('France', 'Malta', 'United Kingdom', 'Unit...</td>\n",
       "      <td>0.0000</td>\n",
       "    </tr>\n",
       "    <tr>\n",
       "      <th>45</th>\n",
       "      <td>[T.('Australia', 'United States of America')]</td>\n",
       "      <td>0.0000</td>\n",
       "    </tr>\n",
       "    <tr>\n",
       "      <th>214</th>\n",
       "      <td>[T.('Czech Republic', 'United Arab Emirates', ...</td>\n",
       "      <td>0.0000</td>\n",
       "    </tr>\n",
       "    <tr>\n",
       "      <th>394</th>\n",
       "      <td>[T.('Germany', 'United Kingdom', 'United State...</td>\n",
       "      <td>0.0000</td>\n",
       "    </tr>\n",
       "  </tbody>\n",
       "</table>\n",
       "</div>"
      ],
      "text/plain": [
       "                                  production_countries  Pvalues\n",
       "483    [T.('New Zealand', 'United States of America')]   0.0000\n",
       "536  [T.('United Kingdom', 'United States of Americ...   0.0000\n",
       "60   [T.('Bahamas', 'Dominica', 'Jamaica', 'United ...   0.0000\n",
       "538                  [T.('United States of America',)]   0.0000\n",
       "194          [T.('China', 'United States of America')]   0.0000\n",
       "395        [T.('Germany', 'United States of America')]   0.0000\n",
       "315  [T.('France', 'Malta', 'United Kingdom', 'Unit...   0.0000\n",
       "45       [T.('Australia', 'United States of America')]   0.0000\n",
       "214  [T.('Czech Republic', 'United Arab Emirates', ...   0.0000\n",
       "394  [T.('Germany', 'United Kingdom', 'United State...   0.0000"
      ]
     },
     "execution_count": 79,
     "metadata": {},
     "output_type": "execute_result"
    }
   ],
   "source": [
    "Genres_Pvalues = pd.DataFrame(res_1.model.exog_names, columns = ['production_countries'])\n",
    "Genres_Pvalues['production_countries'] = Genres_Pvalues['production_countries'].str[20:]\n",
    "Genres_Pvalues['Pvalues'] =  res_1.pvalues\n",
    "pd.set_option('display.float_format','{:.4f}'.format)\n",
    "Genres_Pvalues = Genres_Pvalues.sort_values(by = ['Pvalues'],ascending=True)\n",
    "Genres_Pvalues.head(10)"
   ]
  },
  {
   "cell_type": "markdown",
   "metadata": {},
   "source": [
    "The title length could be a potential contributor to people's desire of watching the movie, which then determines the movie revenue."
   ]
  },
  {
   "cell_type": "markdown",
   "metadata": {},
   "source": [
    "## Relation between the title length and revenue"
   ]
  },
  {
   "cell_type": "markdown",
   "metadata": {},
   "source": [
    "We counted the number of characters contained in each movie title, which is later designated as the title length."
   ]
  },
  {
   "cell_type": "code",
   "execution_count": 14,
   "metadata": {
    "scrolled": true
   },
   "outputs": [
    {
     "name": "stderr",
     "output_type": "stream",
     "text": [
      "/Users/chengcheng/anaconda3/lib/python3.7/site-packages/ipykernel_launcher.py:2: SettingWithCopyWarning: \n",
      "A value is trying to be set on a copy of a slice from a DataFrame.\n",
      "Try using .loc[row_indexer,col_indexer] = value instead\n",
      "\n",
      "See the caveats in the documentation: http://pandas.pydata.org/pandas-docs/stable/indexing.html#indexing-view-versus-copy\n",
      "  \n"
     ]
    }
   ],
   "source": [
    "lenth_rev = df[['title','revenue']]\n",
    "lenth_rev['title'] = lenth_rev['title'].apply(len)"
   ]
  },
  {
   "cell_type": "markdown",
   "metadata": {},
   "source": [
    "A scatter plot was made for titl lenth vs. revenue. A linear regression was computed and drawn on top of the scatter plot. The final plot indicats that there is some kind of correlation between the title length and the movie revenue."
   ]
  },
  {
   "cell_type": "code",
   "execution_count": 15,
   "metadata": {},
   "outputs": [],
   "source": [
    "a1, b1 = np.polyfit(lenth_rev['title'], lenth_rev['revenue'], 1)\n",
    "title_len = np.arange(0,80,dtype = 'float')\n",
    "pred_rev = title_len * a1 + b1"
   ]
  },
  {
   "cell_type": "code",
   "execution_count": 16,
   "metadata": {},
   "outputs": [
    {
     "data": {
      "text/plain": [
       "Text(0, 0.5, 'revenue')"
      ]
     },
     "execution_count": 16,
     "metadata": {},
     "output_type": "execute_result"
    },
    {
     "data": {
      "image/png": "[encoded data removed]",
      "text/plain": [
       "<Figure size 432x288 with 1 Axes>"
      ]
     },
     "metadata": {
      "needs_background": "light"
     },
     "output_type": "display_data"
    }
   ],
   "source": [
    "plt.scatter(x = lenth_rev['title'], y = lenth_rev['revenue'], s=10)\n",
    "plt.plot(title_len, pred_rev, linestyle='-',color = \"red\")\n",
    "plt.xlabel('title length')\n",
    "plt.ylabel('revenue')"
   ]
  },
  {
   "cell_type": "markdown",
   "metadata": {},
   "source": [
    "To confirm this, we used an OLS regression test to analyze the correlation between the title length and the movie revenue, with an alpha value of 0.05. The returned p value is less than 0.001, suggesting that there is a correlation between the title length and movie revenue. Yet,the R-squared value (0.009) indicates that a linear regression is a poor fitting for the correlation between the title length and movie revenue."
   ]
  },
  {
   "cell_type": "code",
   "execution_count": 17,
   "metadata": {},
   "outputs": [
    {
     "name": "stdout",
     "output_type": "stream",
     "text": [
      "                            OLS Regression Results                            \n",
      "==============================================================================\n",
      "Dep. Variable:                revenue   R-squared:                       0.009\n",
      "Model:                            OLS   Adj. R-squared:                  0.009\n",
      "Method:                 Least Squares   F-statistic:                     69.34\n",
      "Date:                Wed, 12 Jun 2019   Prob (F-statistic):           9.83e-17\n",
      "Time:                        01:10:05   Log-Likelihood:            -1.4666e+05\n",
      "No. Observations:                7254   AIC:                         2.933e+05\n",
      "Df Residuals:                    7252   BIC:                         2.933e+05\n",
      "Df Model:                           1                                         \n",
      "Covariance Type:            nonrobust                                         \n",
      "==============================================================================\n",
      "                 coef    std err          t      P>|t|      [0.025      0.975]\n",
      "------------------------------------------------------------------------------\n",
      "Intercept   4.306e+07   3.55e+06     12.138      0.000    3.61e+07       5e+07\n",
      "title_len   1.699e+06   2.04e+05      8.327      0.000     1.3e+06     2.1e+06\n",
      "==============================================================================\n",
      "Omnibus:                     7499.325   Durbin-Watson:                   0.023\n",
      "Prob(Omnibus):                  0.000   Jarque-Bera (JB):           595287.165\n",
      "Skew:                           5.088   Prob(JB):                         0.00\n",
      "Kurtosis:                      46.197   Cond. No.                         36.1\n",
      "==============================================================================\n",
      "\n",
      "Warnings:\n",
      "[1] Standard Errors assume that the covariance matrix of the errors is correctly specified.\n"
     ]
    },
    {
     "name": "stderr",
     "output_type": "stream",
     "text": [
      "/Users/chengcheng/anaconda3/lib/python3.7/site-packages/pandas/core/frame.py:3781: SettingWithCopyWarning: \n",
      "A value is trying to be set on a copy of a slice from a DataFrame\n",
      "\n",
      "See the caveats in the documentation: http://pandas.pydata.org/pandas-docs/stable/indexing.html#indexing-view-versus-copy\n",
      "  return super(DataFrame, self).rename(**kwargs)\n"
     ]
    }
   ],
   "source": [
    "lenth_rev.rename(columns={'title':'title_len'}, inplace=True)\n",
    "outcome_1, predictors_1 = patsy.dmatrices(\"revenue~title_len\",lenth_rev)\n",
    "mod_1 = sm.OLS(outcome_1, predictors_1)\n",
    "res_1 = mod_1.fit()\n",
    "print(res_1.summary())"
   ]
  },
  {
   "cell_type": "markdown",
   "metadata": {},
   "source": [
    "The movie runtime could also contributes to the movie revenue by affecting audiences' physiological sensation. Thus we performed a linear regression on the scatter plot of movie runtime vs. movie revenue. As the plot has suggested, there is some kind of correlation between movie runtime and revenue."
   ]
  },
  {
   "cell_type": "markdown",
   "metadata": {},
   "source": [
    "## Relation between the movie runtime and revenue"
   ]
  },
  {
   "cell_type": "code",
   "execution_count": 18,
   "metadata": {},
   "outputs": [
    {
     "data": {
      "text/plain": [
       "Text(0, 0.5, 'revenue')"
      ]
     },
     "execution_count": 18,
     "metadata": {},
     "output_type": "execute_result"
    },
    {
     "data": {
      "image/png": "[encoded data removed]",
      "text/plain": [
       "<Figure size 432x288 with 1 Axes>"
      ]
     },
     "metadata": {
      "needs_background": "light"
     },
     "output_type": "display_data"
    }
   ],
   "source": [
    "timelenth_rev = df[['runtime','revenue']]\n",
    "a, b = np.polyfit(timelenth_rev['runtime'], timelenth_rev['revenue'], 1)\n",
    "time_len = np.arange(0,300,dtype = 'float')\n",
    "pred_rev = a * time_len + b \n",
    "plt.scatter(x = timelenth_rev['runtime'], y = timelenth_rev['revenue'])\n",
    "plt.plot(time_len, pred_rev, linestyle='-',color = \"red\")\n",
    "plt.xlabel('runtime')\n",
    "plt.ylabel('revenue')"
   ]
  },
  {
   "cell_type": "markdown",
   "metadata": {},
   "source": [
    "Again, we used an OLS regression to confirm our conjecture. The test returned a p value of 0.000, indicating a linear correlation between the movie runtime and the movie revenue.However,the R-squared value (0.041) indicates that a linear regression is a poor fitting for the correlation between the movie runtime and movie revenue."
   ]
  },
  {
   "cell_type": "code",
   "execution_count": 19,
   "metadata": {},
   "outputs": [
    {
     "name": "stdout",
     "output_type": "stream",
     "text": [
      "                            OLS Regression Results                            \n",
      "==============================================================================\n",
      "Dep. Variable:                revenue   R-squared:                       0.041\n",
      "Model:                            OLS   Adj. R-squared:                  0.041\n",
      "Method:                 Least Squares   F-statistic:                     313.8\n",
      "Date:                Wed, 12 Jun 2019   Prob (F-statistic):           9.01e-69\n",
      "Time:                        01:10:06   Log-Likelihood:            -1.4654e+05\n",
      "No. Observations:                7254   AIC:                         2.931e+05\n",
      "Df Residuals:                    7252   BIC:                         2.931e+05\n",
      "Df Model:                           1                                         \n",
      "Covariance Type:            nonrobust                                         \n",
      "==============================================================================\n",
      "                 coef    std err          t      P>|t|      [0.025      0.975]\n",
      "------------------------------------------------------------------------------\n",
      "Intercept  -8.039e+07    8.6e+06     -9.352      0.000   -9.72e+07   -6.35e+07\n",
      "runtime     1.386e+06   7.83e+04     17.714      0.000    1.23e+06    1.54e+06\n",
      "==============================================================================\n",
      "Omnibus:                     7340.372   Durbin-Watson:                   0.085\n",
      "Prob(Omnibus):                  0.000   Jarque-Bera (JB):           542103.202\n",
      "Skew:                           4.930   Prob(JB):                         0.00\n",
      "Kurtosis:                      44.187   Cond. No.                         560.\n",
      "==============================================================================\n",
      "\n",
      "Warnings:\n",
      "[1] Standard Errors assume that the covariance matrix of the errors is correctly specified.\n"
     ]
    }
   ],
   "source": [
    "outcome_1, predictors_1 = patsy.dmatrices(\"revenue~runtime\",timelenth_rev)\n",
    "mod_1 = sm.OLS(outcome_1, predictors_1)\n",
    "res_1 = mod_1.fit()\n",
    "print(res_1.summary())"
   ]
  },
  {
   "cell_type": "markdown",
   "metadata": {},
   "source": [
    "People tend to have more spare time during summer. Thus it is possible that the movies released in summer have generally higher revenues than the movies released in other times of the year. We first plotted a bar graph of the release month for the 50 most profitable movies."
   ]
  },
  {
   "cell_type": "markdown",
   "metadata": {},
   "source": [
    "## Movie release month of top 50 movie revenues"
   ]
  },
  {
   "cell_type": "markdown",
   "metadata": {},
   "source": [
    "According to the bar graph, June has the most movie release (14 movies)."
   ]
  },
  {
   "cell_type": "code",
   "execution_count": 20,
   "metadata": {},
   "outputs": [
    {
     "name": "stderr",
     "output_type": "stream",
     "text": [
      "/Users/chengcheng/anaconda3/lib/python3.7/site-packages/ipykernel_launcher.py:2: SettingWithCopyWarning: \n",
      "A value is trying to be set on a copy of a slice from a DataFrame.\n",
      "Try using .loc[row_indexer,col_indexer] = value instead\n",
      "\n",
      "See the caveats in the documentation: http://pandas.pydata.org/pandas-docs/stable/indexing.html#indexing-view-versus-copy\n",
      "  \n"
     ]
    }
   ],
   "source": [
    "date_rev = df[['release_date','revenue']]\n",
    "date_rev['release_date']=date_rev['release_date'].str[5:7]"
   ]
  },
  {
   "cell_type": "code",
   "execution_count": 21,
   "metadata": {},
   "outputs": [
    {
     "data": {
      "image/png": "[encoded data removed]",
      "text/plain": [
       "<Figure size 432x288 with 1 Axes>"
      ]
     },
     "metadata": {
      "needs_background": "light"
     },
     "output_type": "display_data"
    }
   ],
   "source": [
    "pd.value_counts(date_rev.head(50)['release_date']).plot.bar()\n",
    "f1 = plt.gcf()"
   ]
  },
  {
   "cell_type": "markdown",
   "metadata": {},
   "source": [
    "An OLS regression test was performed to provide further insight into the correlation between the release month and the movie revenue, using an alpha value of 0.05. June has a p value of 0.000, indicating that June is indeed correlated with higher movie revenues."
   ]
  },
  {
   "cell_type": "code",
   "execution_count": 22,
   "metadata": {},
   "outputs": [
    {
     "name": "stdout",
     "output_type": "stream",
     "text": [
      "                            OLS Regression Results                            \n",
      "==============================================================================\n",
      "Dep. Variable:                revenue   R-squared:                       0.038\n",
      "Model:                            OLS   Adj. R-squared:                  0.037\n",
      "Method:                 Least Squares   F-statistic:                     26.24\n",
      "Date:                Wed, 12 Jun 2019   Prob (F-statistic):           2.99e-54\n",
      "Time:                        01:10:06   Log-Likelihood:            -1.4655e+05\n",
      "No. Observations:                7254   AIC:                         2.931e+05\n",
      "Df Residuals:                    7242   BIC:                         2.932e+05\n",
      "Df Model:                          11                                         \n",
      "Covariance Type:            nonrobust                                         \n",
      "=======================================================================================\n",
      "                          coef    std err          t      P>|t|      [0.025      0.975]\n",
      "---------------------------------------------------------------------------------------\n",
      "Intercept            3.213e+07   6.41e+06      5.013      0.000    1.96e+07    4.47e+07\n",
      "release_month[T.02]  1.958e+07   9.06e+06      2.160      0.031    1.81e+06    3.73e+07\n",
      "release_month[T.03]  3.165e+07   8.88e+06      3.566      0.000    1.42e+07     4.9e+07\n",
      "release_month[T.04]  3.088e+07    8.9e+06      3.470      0.001    1.34e+07    4.83e+07\n",
      "release_month[T.05]  6.576e+07   8.74e+06      7.521      0.000    4.86e+07    8.29e+07\n",
      "release_month[T.06]  8.789e+07   8.75e+06     10.039      0.000    7.07e+07    1.05e+08\n",
      "release_month[T.07]  6.122e+07   8.86e+06      6.910      0.000    4.39e+07    7.86e+07\n",
      "release_month[T.08]  1.332e+07   8.55e+06      1.558      0.119   -3.44e+06    3.01e+07\n",
      "release_month[T.09]  4.258e+05   8.02e+06      0.053      0.958   -1.53e+07    1.62e+07\n",
      "release_month[T.10]  1.696e+07   8.44e+06      2.009      0.045    4.09e+05    3.35e+07\n",
      "release_month[T.11]  6.561e+07   8.96e+06      7.323      0.000     4.8e+07    8.32e+07\n",
      "release_month[T.12]   6.46e+07   8.45e+06      7.648      0.000     4.8e+07    8.12e+07\n",
      "==============================================================================\n",
      "Omnibus:                     7482.742   Durbin-Watson:                   0.079\n",
      "Prob(Omnibus):                  0.000   Jarque-Bera (JB):           603672.653\n",
      "Skew:                           5.061   Prob(JB):                         0.00\n",
      "Kurtosis:                      46.530   Cond. No.                         14.1\n",
      "==============================================================================\n",
      "\n",
      "Warnings:\n",
      "[1] Standard Errors assume that the covariance matrix of the errors is correctly specified.\n"
     ]
    }
   ],
   "source": [
    "date_rev.rename(columns={'release_date':'release_month'}, inplace=True)\n",
    "outcome_1, predictors_1 = patsy.dmatrices(\"revenue~release_month\",date_rev)\n",
    "mod_1 = sm.OLS(outcome_1, predictors_1)\n",
    "res_1 = mod_1.fit()\n",
    "print(res_1.summary())"
   ]
  },
  {
   "cell_type": "markdown",
   "metadata": {},
   "source": [
    "Because the potential audiences would go to online forums to see the comments and critiques of the movie before buying the ticket, the average vote posted online is expected to have an effect on the final movie revenue."
   ]
  },
  {
   "cell_type": "markdown",
   "metadata": {},
   "source": [
    "## Relation between the vote average and revenue"
   ]
  },
  {
   "cell_type": "markdown",
   "metadata": {},
   "source": [
    "We created a scatter plot to visualize the data and then computed a linear regression baed on the scatter plot. As suggested by the plot, there is some kind of correlation between vote average and revenue."
   ]
  },
  {
   "cell_type": "code",
   "execution_count": 23,
   "metadata": {},
   "outputs": [
    {
     "data": {
      "text/plain": [
       "Text(0, 0.5, 'revenue')"
      ]
     },
     "execution_count": 23,
     "metadata": {},
     "output_type": "execute_result"
    },
    {
     "data": {
      "image/png": "[encoded data removed]",
      "text/plain": [
       "<Figure size 432x288 with 1 Axes>"
      ]
     },
     "metadata": {
      "needs_background": "light"
     },
     "output_type": "display_data"
    }
   ],
   "source": [
    "voteagv_rev = df[['vote_average','revenue']]\n",
    "a, b = np.polyfit(voteagv_rev['vote_average'], voteagv_rev['revenue'], 1)\n",
    "vot_average = np.arange(0,10,dtype = 'float')\n",
    "pred_vote = a * vot_average + b\n",
    "plt.scatter(x = voteagv_rev['vote_average'], y = voteagv_rev['revenue'])\n",
    "plt.plot(vot_average, pred_vote, linestyle='-',color = \"red\")\n",
    "plt.xlabel('vote_average')\n",
    "plt.ylabel('revenue')"
   ]
  },
  {
   "cell_type": "markdown",
   "metadata": {},
   "source": [
    "An OLS regression test has provided further information pertaining to the correlation between the average vote and the movie revenue. The test has returned a p values of 0.000, which is smaller than the alpha value used (0.05). This suggests the existance of a correlation. Yet, the R-squared value is 0.022, which suggests that a linear regression is a poor fitting for the correlation between the average vote and the movie revenue."
   ]
  },
  {
   "cell_type": "code",
   "execution_count": 24,
   "metadata": {
    "scrolled": true
   },
   "outputs": [
    {
     "name": "stdout",
     "output_type": "stream",
     "text": [
      "                            OLS Regression Results                            \n",
      "==============================================================================\n",
      "Dep. Variable:                revenue   R-squared:                       0.022\n",
      "Model:                            OLS   Adj. R-squared:                  0.022\n",
      "Method:                 Least Squares   F-statistic:                     163.1\n",
      "Date:                Wed, 12 Jun 2019   Prob (F-statistic):           5.79e-37\n",
      "Time:                        01:10:06   Log-Likelihood:            -1.4661e+05\n",
      "No. Observations:                7254   AIC:                         2.932e+05\n",
      "Df Residuals:                    7252   BIC:                         2.932e+05\n",
      "Df Model:                           1                                         \n",
      "Covariance Type:            nonrobust                                         \n",
      "================================================================================\n",
      "                   coef    std err          t      P>|t|      [0.025      0.975]\n",
      "--------------------------------------------------------------------------------\n",
      "Intercept    -6.423e+07   1.06e+07     -6.080      0.000   -8.49e+07   -4.35e+07\n",
      "vote_average   2.14e+07   1.68e+06     12.773      0.000    1.81e+07    2.47e+07\n",
      "==============================================================================\n",
      "Omnibus:                     7453.695   Durbin-Watson:                   0.048\n",
      "Prob(Omnibus):                  0.000   Jarque-Bera (JB):           578376.552\n",
      "Skew:                           5.043   Prob(JB):                         0.00\n",
      "Kurtosis:                      45.566   Cond. No.                         40.1\n",
      "==============================================================================\n",
      "\n",
      "Warnings:\n",
      "[1] Standard Errors assume that the covariance matrix of the errors is correctly specified.\n"
     ]
    }
   ],
   "source": [
    "outcome_1, predictors_1 = patsy.dmatrices(\"revenue~vote_average\",voteagv_rev)\n",
    "mod_1 = sm.OLS(outcome_1, predictors_1)\n",
    "res_1 = mod_1.fit()\n",
    "print(res_1.summary())"
   ]
  },
  {
   "cell_type": "markdown",
   "metadata": {},
   "source": [
    "We speculated the possible correlation between bodget and revenue because audiences are often attracted by the special effects, which costs a significant portion of budget."
   ]
  },
  {
   "cell_type": "markdown",
   "metadata": {},
   "source": [
    "## Relation between the budget and revenue"
   ]
  },
  {
   "cell_type": "markdown",
   "metadata": {},
   "source": [
    "We plotted the scatter plot with the budget in million dollars against the movie revenue. A linear regression was computed on the same scatter plot. According to the final plot, the budget appears to have a correlation with the movie revenue."
   ]
  },
  {
   "cell_type": "code",
   "execution_count": 25,
   "metadata": {
    "scrolled": true
   },
   "outputs": [
    {
     "name": "stderr",
     "output_type": "stream",
     "text": [
      "/Users/chengcheng/anaconda3/lib/python3.7/site-packages/ipykernel_launcher.py:2: SettingWithCopyWarning: \n",
      "A value is trying to be set on a copy of a slice from a DataFrame.\n",
      "Try using .loc[row_indexer,col_indexer] = value instead\n",
      "\n",
      "See the caveats in the documentation: http://pandas.pydata.org/pandas-docs/stable/indexing.html#indexing-view-versus-copy\n",
      "  \n",
      "/Users/chengcheng/anaconda3/lib/python3.7/site-packages/ipykernel_launcher.py:3: SettingWithCopyWarning: \n",
      "A value is trying to be set on a copy of a slice from a DataFrame.\n",
      "Try using .loc[row_indexer,col_indexer] = value instead\n",
      "\n",
      "See the caveats in the documentation: http://pandas.pydata.org/pandas-docs/stable/indexing.html#indexing-view-versus-copy\n",
      "  This is separate from the ipykernel package so we can avoid doing imports until\n"
     ]
    },
    {
     "data": {
      "text/plain": [
       "Text(0, 0.5, 'revenue')"
      ]
     },
     "execution_count": 25,
     "metadata": {},
     "output_type": "execute_result"
    },
    {
     "data": {
      "image/png": "[encoded data removed]",
      "text/plain": [
       "<Figure size 432x288 with 1 Axes>"
      ]
     },
     "metadata": {
      "needs_background": "light"
     },
     "output_type": "display_data"
    }
   ],
   "source": [
    "budget_rev = df[['budget','revenue']]\n",
    "budget_rev['budget'] = budget_rev['budget']/1000000\n",
    "budget_rev['revenue'] = budget_rev['revenue']/1000000\n",
    "a, b = np.polyfit(budget_rev['budget'], budget_rev['revenue'], 1)\n",
    "budget = np.arange(0,350,dtype = 'float')\n",
    "pred_budget = a * budget + b\n",
    "plt.scatter(x = budget_rev['budget'], y = budget_rev['revenue'])\n",
    "plt.plot(budget, pred_budget, linestyle='-',color = \"red\")\n",
    "plt.xlabel('budget')\n",
    "plt.ylabel('revenue')"
   ]
  },
  {
   "cell_type": "markdown",
   "metadata": {},
   "source": [
    "The OLS regression test has returned a p value of 0.000, which is smaller than the alpha value we used (0.05). Meanwhile, the R-squared value is 0.557. These two results indicate that there is a linear collrelation between the movie budget and the movie revenue."
   ]
  },
  {
   "cell_type": "code",
   "execution_count": 26,
   "metadata": {
    "scrolled": true
   },
   "outputs": [
    {
     "name": "stdout",
     "output_type": "stream",
     "text": [
      "                            OLS Regression Results                            \n",
      "==============================================================================\n",
      "Dep. Variable:                revenue   R-squared:                       0.557\n",
      "Model:                            OLS   Adj. R-squared:                  0.557\n",
      "Method:                 Least Squares   F-statistic:                     9108.\n",
      "Date:                Wed, 12 Jun 2019   Prob (F-statistic):               0.00\n",
      "Time:                        01:10:07   Log-Likelihood:                -43523.\n",
      "No. Observations:                7254   AIC:                         8.705e+04\n",
      "Df Residuals:                    7252   BIC:                         8.706e+04\n",
      "Df Model:                           1                                         \n",
      "Covariance Type:            nonrobust                                         \n",
      "==============================================================================\n",
      "                 coef    std err          t      P>|t|      [0.025      0.975]\n",
      "------------------------------------------------------------------------------\n",
      "Intercept      1.9546      1.344      1.454      0.146      -0.680       4.589\n",
      "budget         2.9529      0.031     95.436      0.000       2.892       3.014\n",
      "==============================================================================\n",
      "Omnibus:                     6998.804   Durbin-Watson:                   1.004\n",
      "Prob(Omnibus):                  0.000   Jarque-Bera (JB):           919260.536\n",
      "Skew:                           4.302   Prob(JB):                         0.00\n",
      "Kurtosis:                      57.473   Cond. No.                         50.9\n",
      "==============================================================================\n",
      "\n",
      "Warnings:\n",
      "[1] Standard Errors assume that the covariance matrix of the errors is correctly specified.\n"
     ]
    }
   ],
   "source": [
    "outcome_1, predictors_1 = patsy.dmatrices(\"revenue~budget\",budget_rev)\n",
    "mod_1 = sm.OLS(outcome_1, predictors_1)\n",
    "res_1 = mod_1.fit()\n",
    "print(res_1.summary())"
   ]
  },
  {
   "cell_type": "markdown",
   "metadata": {},
   "source": [
    "## Revenue Trend Over The Years"
   ]
  },
  {
   "cell_type": "code",
   "execution_count": 27,
   "metadata": {},
   "outputs": [
    {
     "name": "stderr",
     "output_type": "stream",
     "text": [
      "/Users/chengcheng/anaconda3/lib/python3.7/site-packages/ipykernel_launcher.py:2: SettingWithCopyWarning: \n",
      "A value is trying to be set on a copy of a slice from a DataFrame.\n",
      "Try using .loc[row_indexer,col_indexer] = value instead\n",
      "\n",
      "See the caveats in the documentation: http://pandas.pydata.org/pandas-docs/stable/indexing.html#indexing-view-versus-copy\n",
      "  \n",
      "/Users/chengcheng/anaconda3/lib/python3.7/site-packages/ipykernel_launcher.py:3: SettingWithCopyWarning: \n",
      "A value is trying to be set on a copy of a slice from a DataFrame.\n",
      "Try using .loc[row_indexer,col_indexer] = value instead\n",
      "\n",
      "See the caveats in the documentation: http://pandas.pydata.org/pandas-docs/stable/indexing.html#indexing-view-versus-copy\n",
      "  This is separate from the ipykernel package so we can avoid doing imports until\n"
     ]
    }
   ],
   "source": [
    "year_rev = df[['release_date','revenue']]\n",
    "year_rev['release_date']=year_rev['release_date'].str[0:4]\n",
    "year_rev['release_date'] = year_rev['release_date'].apply(int)"
   ]
  },
  {
   "cell_type": "code",
   "execution_count": 28,
   "metadata": {},
   "outputs": [
    {
     "data": {
      "image/png": "[encoded data removed]",
      "text/plain": [
       "<Figure size 1296x576 with 1 Axes>"
      ]
     },
     "metadata": {
      "needs_background": "light"
     },
     "output_type": "display_data"
    }
   ],
   "source": [
    "year = year_rev.groupby('release_date').mean()\n",
    "ax = year.plot(figsize = (18, 8))"
   ]
  },
  {
   "cell_type": "markdown",
   "metadata": {},
   "source": [
    "# Ethics & Privacy"
   ]
  },
  {
   "cell_type": "markdown",
   "metadata": {},
   "source": [
    "Our question is about what contribute to a movie’s revenue. The datasets we used are extracted from two large and famous movie databases. The user names or any other user information are not presented in the datasets, so there is no worry about the privacy or informed consent problem. The datasets included any language, any genre and from any country, so there would be no territory bias on the movies themselves. However, we were concerned about the user distribution of the two movie databases, in other words, who would make the ratings. We found that data from these two databases were frequently used to determine the contribution of factors to the revenue, while they were used to predict American movie revenues most of the time. We thought that the reason behind this was that they were used mainly by users from English-speaking countries and were popular in the US. \n",
    "\n",
    "There is also a concern about the balance between movie revenue and diversity protection. By figuring out how the movie’s genre, content, and the megascore, etc affect the revenue, movie investors would have an easier time to decide which movie would be more profitable.  However, after finding out that there is a specific type of movie that will make a higher revenue,  the society will have a higher probability to have more of that type of movie being produced since less people will be willing to take a higher risk. This kind of studies will potentially lead to a less diverse movie market.\n",
    "\n",
    "The movie trend at a certain time era may also affect the revenue. For example, people now may be more into action movies, and then romantic movies may become more popular after a few years. Thus there may be bias over the time frame of the data set collected. Although we are trying to use up-to-date data, the prediction model needs to be updated in the future in order to predict the most accurate results that reflect the trend of that particular time. "
   ]
  },
  {
   "cell_type": "markdown",
   "metadata": {},
   "source": [
    "# Conclusion & Discussion"
   ]
  },
  {
   "cell_type": "markdown",
   "metadata": {},
   "source": [
    "*Fill in your discussion information here*"
   ]
  }
 ],
 "metadata": {
  "kernelspec": {
   "display_name": "Python 3",
   "language": "python",
   "name": "python3"
  },
  "language_info": {
   "codemirror_mode": {
    "name": "ipython",
    "version": 3
   },
   "file_extension": ".py",
   "mimetype": "text/x-python",
   "name": "python",
   "nbconvert_exporter": "python",
   "pygments_lexer": "ipython3",
   "version": "3.7.1"
  }
 },
 "nbformat": 4,
 "nbformat_minor": 2
}
