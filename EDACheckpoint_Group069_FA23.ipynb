{
 "cells": [
  {
   "cell_type": "markdown",
   "metadata": {},
   "source": [
    "**If you lost points on the last checkpoint you can get them back by responding to TA/IA feedback**  \n",
    "\n",
    "Update/change the relevant sections where you lost those points, make sure you respond on GitHub Issues to your TA/IA to call their attention to the changes you made here.\n",
    "\n",
    "Please update your Timeline... no battle plan survives contact with the enemy, so make sure we understand how your plans have changed."
   ]
  },
  {
   "cell_type": "markdown",
   "metadata": {},
   "source": [
    "# COGS 108 - EDA Checkpoint"
   ]
  },
  {
   "cell_type": "markdown",
   "metadata": {},
   "source": [
    "# Names\n",
    "\n",
    "- Michelle Shen\n",
    "- Tracy Vu\n",
    "- Amber Wang\n",
    "- Yoyo Wu\n",
    "- Elaine Zhou"
   ]
  },
  {
   "cell_type": "markdown",
   "metadata": {},
   "source": [
    "# Research Question"
   ]
  },
  {
   "cell_type": "markdown",
   "metadata": {},
   "source": [
    "### How do gender-based pricing differences vary across different product categories in retail clothing?\n",
    "\n",
    "- Is the price difference significant for male and female products in any of the clothing categories?\n",
    "- If so, which clothing categories and which ones are more expensive?\n",
    "\n",
    "Product categories:\n",
    "- Apparel & Accessories (Shirts, Jeans, Jackets, etc.)\n",
    "\n",
    "Retail clothing: \n",
    "- Zara\n",
    "    \n",
    "\n"
   ]
  },
  {
   "cell_type": "markdown",
   "metadata": {},
   "source": [
    "## Background and Prior Work"
   ]
  },
  {
   "cell_type": "markdown",
   "metadata": {},
   "source": [
    "\n",
    "Recent studies have focused on the \"pink tax,\" examining whether systematic gender-based pricing discrepancies exist for consumer products marketed to women versus men. However, findings on whether such pricing differences actually occur, especially online, have been contradictory.\n",
    "\n",
    "For instance, a 2018 Government Accountability Office report <a name=\"cite_ref-1\"></a>[<sup>1</sup>](#cite_note-1) did not find consistent evidence of significant gender pricing differences overall across the products and brands included in their analysis.\n",
    "\n",
    "In contrast, a more recent 2021 study <a name=\"cite_ref-2\"></a>[<sup>2</sup>](#cite_note-2) by the New York City Department of Consumer and Worker Protection did find clear pricing differences, with women’s and girls’ products costing 7% more on average than men’s and boys’ items.\n",
    "\n",
    "These results indicate that more research is still needed to understand whether and how pricing may differ based on gender, particularly in online shopping where  price transparency and comparison should be easier. Isolating pricing differences between highly similar or identical products targeted at men versus women could provide clearer insight.\n",
    "\n",
    "\n",
    "\n",
    "1. <a name=\"cite_note-1\"></a> [^](#cite_ref-1) U.S. Government Accountability Office. (2018). Gender-Related Price Differences for Goods and Services. https://www.gao.gov/assets/gao-18-500.pdf\n",
    "2. <a name=\"cite_note-2\"></a> [^](#cite_ref-2) NYC Department of Consumer and Worker Protection. (2021). From Cradle to Cane: The Cost of Being a Female Consumer. . https://www1.nyc.gov/assets/dca/downloads/pdf/partners/Study-of-Gender-Pricing-in-NYC.pdf \n"
   ]
  },
  {
   "cell_type": "markdown",
   "metadata": {},
   "source": [
    "# Hypothesis\n"
   ]
  },
  {
   "cell_type": "markdown",
   "metadata": {},
   "source": [
    "\n",
    "#### Our hypothesis is that gender-based price disparities are significant in the categories investigated and that women pay more than men for functionally identical products in different clothing categories.\n",
    "\n",
    "We predict that this difference occurs because social norms expect women to put more effort into self-maintenance and appearance which leads to women being usually willing to pay more for products related to beauty. This inclines the sellers to increase the price of women’s products.   \n"
   ]
  },
  {
   "cell_type": "markdown",
   "metadata": {},
   "source": [
    "# Data"
   ]
  },
  {
   "cell_type": "markdown",
   "metadata": {},
   "source": [
    "## Data overview\n",
    "\n",
    "We will be using a dataset from the Zara Clothing Collection which contains information for men's and women’s fashion items in order to answer our research question. You can click on this [link](https://www.kaggle.com/datasets/abhinavtyagi2708/zara-dataset-men-and-women-clothing) to find the data. "
   ]
  },
  {
   "cell_type": "code",
   "execution_count": 1,
   "metadata": {},
   "outputs": [],
   "source": [
    "# import statements\n",
    "import pandas as pd\n",
    "import numpy as numpy"
   ]
  },
  {
   "cell_type": "code",
   "execution_count": 2,
   "metadata": {},
   "outputs": [],
   "source": [
    "# methods to help clean data\n",
    "\n",
    "# return product type depending on which file is being read\n",
    "def getProductType(file):\n",
    "    switch_dict = {\n",
    "        0: 'blazers',\n",
    "        1: 'jackets',\n",
    "        2: 'jeans',\n",
    "        3: 'shirts',\n",
    "        4: 'shoes',\n",
    "        5: 'trousers'\n",
    "    }\n",
    "    return switch_dict.get(file, 'Other')\n",
    "\n",
    "# import the files and add the product type to a new 'product_type' column\n",
    "def import_and_add_product_type(files):\n",
    "    df = pd.DataFrame()\n",
    "    i = 0\n",
    "    df['product_type'] = ''\n",
    "    for file in files:\n",
    "        new_file = pd.read_csv(files[i])\n",
    "        start_index = len(df)\n",
    "        end_index = start_index + len(new_file)\n",
    "        product_type = getProductType(i)\n",
    "        df = pd.concat([df, new_file], ignore_index=True)\n",
    "        df.loc[start_index:(end_index - 1), 'product_type'] = product_type\n",
    "        i += 1\n",
    "        \n",
    "    df = df.reset_index(drop = True)\n",
    "    return df"
   ]
  },
  {
   "cell_type": "code",
   "execution_count": 3,
   "metadata": {},
   "outputs": [
    {
     "data": {
      "text/html": [
       "<div>\n",
       "<style scoped>\n",
       "    .dataframe tbody tr th:only-of-type {\n",
       "        vertical-align: middle;\n",
       "    }\n",
       "\n",
       "    .dataframe tbody tr th {\n",
       "        vertical-align: top;\n",
       "    }\n",
       "\n",
       "    .dataframe thead th {\n",
       "        text-align: right;\n",
       "    }\n",
       "</style>\n",
       "<table border=\"1\" class=\"dataframe\">\n",
       "  <thead>\n",
       "    <tr style=\"text-align: right;\">\n",
       "      <th></th>\n",
       "      <th>Unnamed: 0</th>\n",
       "      <th>Product_Name</th>\n",
       "      <th>Link</th>\n",
       "      <th>Product_Image</th>\n",
       "      <th>Price</th>\n",
       "      <th>Details</th>\n",
       "    </tr>\n",
       "  </thead>\n",
       "  <tbody>\n",
       "    <tr>\n",
       "      <th>0</th>\n",
       "      <td>0</td>\n",
       "      <td>WIDE WAISTBAND LEGGINGS</td>\n",
       "      <td>https://www.zara.com/in/en/wide-waistband-legg...</td>\n",
       "      <td>[]</td>\n",
       "      <td>₹ 2,290.00</td>\n",
       "      <td>High-waist leggings with a wide elastic waistb...</td>\n",
       "    </tr>\n",
       "    <tr>\n",
       "      <th>1</th>\n",
       "      <td>1</td>\n",
       "      <td>PLEATED SATIN-FINISH TROUSERS</td>\n",
       "      <td>https://www.zara.com/in/en/pleated-satin-finis...</td>\n",
       "      <td>[]</td>\n",
       "      <td>₹ 2,990.00</td>\n",
       "      <td>Trousers made of pleated satin fabric. Elastic...</td>\n",
       "    </tr>\n",
       "    <tr>\n",
       "      <th>2</th>\n",
       "      <td>2</td>\n",
       "      <td>PRINTED FOIL TROUSERS</td>\n",
       "      <td>https://www.zara.com/in/en/printed-foil-trouse...</td>\n",
       "      <td>[]</td>\n",
       "      <td>₹ 2,990.00</td>\n",
       "      <td>High-waist trousers with an elasticated waistb...</td>\n",
       "    </tr>\n",
       "    <tr>\n",
       "      <th>3</th>\n",
       "      <td>3</td>\n",
       "      <td>FOIL TROUSERS</td>\n",
       "      <td>https://www.zara.com/in/en/foil-trousers-p0840...</td>\n",
       "      <td>[]</td>\n",
       "      <td>₹ 2,990.00</td>\n",
       "      <td>High-waist trousers made of metallic satin fab...</td>\n",
       "    </tr>\n",
       "    <tr>\n",
       "      <th>4</th>\n",
       "      <td>5</td>\n",
       "      <td>BODY SHAPING LEGGINGS</td>\n",
       "      <td>https://www.zara.com/in/en/body-shaping-leggin...</td>\n",
       "      <td>[]</td>\n",
       "      <td>₹ 2,290.00</td>\n",
       "      <td>High-waist leggings with a fitted elasticated ...</td>\n",
       "    </tr>\n",
       "    <tr>\n",
       "      <th>...</th>\n",
       "      <td>...</td>\n",
       "      <td>...</td>\n",
       "      <td>...</td>\n",
       "      <td>...</td>\n",
       "      <td>...</td>\n",
       "      <td>...</td>\n",
       "    </tr>\n",
       "    <tr>\n",
       "      <th>102</th>\n",
       "      <td>141</td>\n",
       "      <td>PARACHUTE TROUSERS</td>\n",
       "      <td>https://www.zara.com/in/en/parachute-trousers-...</td>\n",
       "      <td>[]</td>\n",
       "      <td>₹ 3,290.00</td>\n",
       "      <td>Mid-rise trousers featuring an elasticated wai...</td>\n",
       "    </tr>\n",
       "    <tr>\n",
       "      <th>103</th>\n",
       "      <td>144</td>\n",
       "      <td>JOGGER TROUSERS</td>\n",
       "      <td>https://www.zara.com/in/en/jogger-trousers-p07...</td>\n",
       "      <td>[]</td>\n",
       "      <td>₹ 2,590.00</td>\n",
       "      <td>High-waist cropped trousers featuring an elast...</td>\n",
       "    </tr>\n",
       "    <tr>\n",
       "      <th>104</th>\n",
       "      <td>146</td>\n",
       "      <td>EMBROIDERED CARGO TROUSERS</td>\n",
       "      <td>https://www.zara.com/in/en/embroidered-cargo-t...</td>\n",
       "      <td>[]</td>\n",
       "      <td>₹ 5,990.00</td>\n",
       "      <td>Mid-rise trousers with an elasticated waistban...</td>\n",
       "    </tr>\n",
       "    <tr>\n",
       "      <th>105</th>\n",
       "      <td>148</td>\n",
       "      <td>PRINTED CARGO TROUSERS</td>\n",
       "      <td>https://www.zara.com/in/en/printed-cargo-trous...</td>\n",
       "      <td>[]</td>\n",
       "      <td>₹ 5,990.00</td>\n",
       "      <td>Mid-rise trousers made of 100% cotton. Featuri...</td>\n",
       "    </tr>\n",
       "    <tr>\n",
       "      <th>106</th>\n",
       "      <td>149</td>\n",
       "      <td>HIGH-WAIST REGULAR TROUSERS</td>\n",
       "      <td>https://www.zara.com/in/en/high-waist-regular-...</td>\n",
       "      <td>[]</td>\n",
       "      <td>₹ 2,990.00</td>\n",
       "      <td>Flowing high-waist trousers with a straight-le...</td>\n",
       "    </tr>\n",
       "  </tbody>\n",
       "</table>\n",
       "<p>107 rows × 6 columns</p>\n",
       "</div>"
      ],
      "text/plain": [
       "     Unnamed: 0                   Product_Name  \\\n",
       "0             0        WIDE WAISTBAND LEGGINGS   \n",
       "1             1  PLEATED SATIN-FINISH TROUSERS   \n",
       "2             2          PRINTED FOIL TROUSERS   \n",
       "3             3                  FOIL TROUSERS   \n",
       "4             5          BODY SHAPING LEGGINGS   \n",
       "..          ...                            ...   \n",
       "102         141             PARACHUTE TROUSERS   \n",
       "103         144                JOGGER TROUSERS   \n",
       "104         146     EMBROIDERED CARGO TROUSERS   \n",
       "105         148         PRINTED CARGO TROUSERS   \n",
       "106         149    HIGH-WAIST REGULAR TROUSERS   \n",
       "\n",
       "                                                  Link Product_Image  \\\n",
       "0    https://www.zara.com/in/en/wide-waistband-legg...            []   \n",
       "1    https://www.zara.com/in/en/pleated-satin-finis...            []   \n",
       "2    https://www.zara.com/in/en/printed-foil-trouse...            []   \n",
       "3    https://www.zara.com/in/en/foil-trousers-p0840...            []   \n",
       "4    https://www.zara.com/in/en/body-shaping-leggin...            []   \n",
       "..                                                 ...           ...   \n",
       "102  https://www.zara.com/in/en/parachute-trousers-...            []   \n",
       "103  https://www.zara.com/in/en/jogger-trousers-p07...            []   \n",
       "104  https://www.zara.com/in/en/embroidered-cargo-t...            []   \n",
       "105  https://www.zara.com/in/en/printed-cargo-trous...            []   \n",
       "106  https://www.zara.com/in/en/high-waist-regular-...            []   \n",
       "\n",
       "          Price                                            Details  \n",
       "0    ₹ 2,290.00  High-waist leggings with a wide elastic waistb...  \n",
       "1    ₹ 2,990.00  Trousers made of pleated satin fabric. Elastic...  \n",
       "2    ₹ 2,990.00  High-waist trousers with an elasticated waistb...  \n",
       "3    ₹ 2,990.00  High-waist trousers made of metallic satin fab...  \n",
       "4    ₹ 2,290.00  High-waist leggings with a fitted elasticated ...  \n",
       "..          ...                                                ...  \n",
       "102  ₹ 3,290.00  Mid-rise trousers featuring an elasticated wai...  \n",
       "103  ₹ 2,590.00  High-waist cropped trousers featuring an elast...  \n",
       "104  ₹ 5,990.00  Mid-rise trousers with an elasticated waistban...  \n",
       "105  ₹ 5,990.00  Mid-rise trousers made of 100% cotton. Featuri...  \n",
       "106  ₹ 2,990.00  Flowing high-waist trousers with a straight-le...  \n",
       "\n",
       "[107 rows x 6 columns]"
      ]
     },
     "execution_count": 3,
     "metadata": {},
     "output_type": "execute_result"
    }
   ],
   "source": [
    "pd.read_csv('BLAZERS_men.csv')\n",
    "pd.read_csv('BLAZERS_women.csv')\n",
    "pd.read_csv('JACKETS_men.csv')\n",
    "pd.read_csv('JACKETS_women.csv')\n",
    "pd.read_csv('JEANS_men.csv')\n",
    "pd.read_csv('JEANS_women.csv')\n",
    "pd.read_csv('SHOES_men.csv')\n",
    "pd.read_csv('SHOES_women.csv')\n",
    "pd.read_csv('SHIRTS_men.csv')\n",
    "pd.read_csv('SHIRTS_women.csv')\n",
    "pd.read_csv('TROUSERS_men.csv')\n",
    "pd.read_csv('TROUSERS_women.csv')"
   ]
  },
  {
   "cell_type": "markdown",
   "metadata": {},
   "source": [
    "## Dataset #1: Men's Clothing\n",
    "- Total number of observations: 563\n",
    "- Dataset Name: Mens/ Womens Zara Products\n",
    "- Link to dataset: [https://www.kaggle.com/datasets/abhinavtyagi2708/zara-dataset-men-and-women-clothing](https://www.kaggle.com/datasets/abhinavtyagi2708/zara-dataset-men-and-women-clothing)\n",
    "- Description: We will be using a dataset from the Zara Clothing Collection which contains information for men’s fashion items. This dataset includes categories which are listed as follows: shirts, pants, trousers, shorts, suits, jackets, accessories, etc. The features that this specific dataset contains include the following: product name, a brief textual description of the clothing item, images, and price. There were 563 individual observations recorded with 7 columns, but 4 columns were dropped during data cleaning, as they did not contain relevant information in regards to answering our research question.\n"
   ]
  },
  {
   "cell_type": "code",
   "execution_count": 4,
   "metadata": {},
   "outputs": [
    {
     "name": "stdout",
     "output_type": "stream",
     "text": [
      "(563, 7)\n"
     ]
    },
    {
     "data": {
      "text/html": [
       "<div>\n",
       "<style scoped>\n",
       "    .dataframe tbody tr th:only-of-type {\n",
       "        vertical-align: middle;\n",
       "    }\n",
       "\n",
       "    .dataframe tbody tr th {\n",
       "        vertical-align: top;\n",
       "    }\n",
       "\n",
       "    .dataframe thead th {\n",
       "        text-align: right;\n",
       "    }\n",
       "</style>\n",
       "<table border=\"1\" class=\"dataframe\">\n",
       "  <thead>\n",
       "    <tr style=\"text-align: right;\">\n",
       "      <th></th>\n",
       "      <th>product_type</th>\n",
       "      <th>Unnamed: 0</th>\n",
       "      <th>product_name</th>\n",
       "      <th>link</th>\n",
       "      <th>product_images</th>\n",
       "      <th>price</th>\n",
       "      <th>details</th>\n",
       "    </tr>\n",
       "  </thead>\n",
       "  <tbody>\n",
       "    <tr>\n",
       "      <th>0</th>\n",
       "      <td>blazers</td>\n",
       "      <td>0.0</td>\n",
       "      <td>BASIC BLAZER</td>\n",
       "      <td>https://www.zara.com/in/en/basic-blazer-p05899...</td>\n",
       "      <td>[{'https://static.zara.net/photos///2023/I/0/2...</td>\n",
       "      <td>₹ 7,590.00</td>\n",
       "      <td>Straight-fit blazer with a notched lapel colla...</td>\n",
       "    </tr>\n",
       "    <tr>\n",
       "      <th>1</th>\n",
       "      <td>blazers</td>\n",
       "      <td>4.0</td>\n",
       "      <td>100% WOOL SUIT BLAZER - LIMITED EDITION</td>\n",
       "      <td>https://www.zara.com/in/en/100-wool-suit-blaze...</td>\n",
       "      <td>[{'https://static.zara.net/photos///2023/I/0/2...</td>\n",
       "      <td>₹ 11,990.00</td>\n",
       "      <td>Blazer made of wool. Peak lapel collar and lon...</td>\n",
       "    </tr>\n",
       "    <tr>\n",
       "      <th>2</th>\n",
       "      <td>blazers</td>\n",
       "      <td>5.0</td>\n",
       "      <td>100% WOOL SUIT BLAZER</td>\n",
       "      <td>https://www.zara.com/in/en/100-wool-suit-blaze...</td>\n",
       "      <td>[{'https://static.zara.net/photos///2023/I/0/2...</td>\n",
       "      <td>₹ 11,990.00</td>\n",
       "      <td>Blazer made of Italian wool fabric. Notch lape...</td>\n",
       "    </tr>\n",
       "    <tr>\n",
       "      <th>3</th>\n",
       "      <td>blazers</td>\n",
       "      <td>9.0</td>\n",
       "      <td>100% WOOL PINSTRIPE SUIT BLAZER</td>\n",
       "      <td>https://www.zara.com/in/en/100-wool-pinstripe-...</td>\n",
       "      <td>[{'https://static.zara.net/photos///2023/I/0/2...</td>\n",
       "      <td>₹ 11,990.00</td>\n",
       "      <td>Straight fit blazer made of Italian wool fabri...</td>\n",
       "    </tr>\n",
       "    <tr>\n",
       "      <th>4</th>\n",
       "      <td>blazers</td>\n",
       "      <td>11.0</td>\n",
       "      <td>100% WOOL OVERSIZE BLAZER</td>\n",
       "      <td>https://www.zara.com/in/en/100-wool-oversize-b...</td>\n",
       "      <td>[{'https://static.zara.net/photos///2023/I/0/2...</td>\n",
       "      <td>₹ 11,990.00</td>\n",
       "      <td>Oversize blazer made of wool. Notched lapel co...</td>\n",
       "    </tr>\n",
       "  </tbody>\n",
       "</table>\n",
       "</div>"
      ],
      "text/plain": [
       "  product_type  Unnamed: 0                             product_name  \\\n",
       "0      blazers         0.0                             BASIC BLAZER   \n",
       "1      blazers         4.0  100% WOOL SUIT BLAZER - LIMITED EDITION   \n",
       "2      blazers         5.0                    100% WOOL SUIT BLAZER   \n",
       "3      blazers         9.0          100% WOOL PINSTRIPE SUIT BLAZER   \n",
       "4      blazers        11.0                100% WOOL OVERSIZE BLAZER   \n",
       "\n",
       "                                                link  \\\n",
       "0  https://www.zara.com/in/en/basic-blazer-p05899...   \n",
       "1  https://www.zara.com/in/en/100-wool-suit-blaze...   \n",
       "2  https://www.zara.com/in/en/100-wool-suit-blaze...   \n",
       "3  https://www.zara.com/in/en/100-wool-pinstripe-...   \n",
       "4  https://www.zara.com/in/en/100-wool-oversize-b...   \n",
       "\n",
       "                                      product_images        price  \\\n",
       "0  [{'https://static.zara.net/photos///2023/I/0/2...   ₹ 7,590.00   \n",
       "1  [{'https://static.zara.net/photos///2023/I/0/2...  ₹ 11,990.00   \n",
       "2  [{'https://static.zara.net/photos///2023/I/0/2...  ₹ 11,990.00   \n",
       "3  [{'https://static.zara.net/photos///2023/I/0/2...  ₹ 11,990.00   \n",
       "4  [{'https://static.zara.net/photos///2023/I/0/2...  ₹ 11,990.00   \n",
       "\n",
       "                                             details  \n",
       "0  Straight-fit blazer with a notched lapel colla...  \n",
       "1  Blazer made of wool. Peak lapel collar and lon...  \n",
       "2  Blazer made of Italian wool fabric. Notch lape...  \n",
       "3  Straight fit blazer made of Italian wool fabri...  \n",
       "4  Oversize blazer made of wool. Notched lapel co...  "
      ]
     },
     "execution_count": 4,
     "metadata": {},
     "output_type": "execute_result"
    }
   ],
   "source": [
    "# list of file names\n",
    "men_files = ['BLAZERS_men.csv', 'JACKETS_men.csv', 'JEANS_men.csv',\n",
    "            'SHIRTS_men.csv', 'SHOES_men.csv', 'TROUSERS_men.csv']\n",
    "\n",
    "# import data add a 'product_type' column\n",
    "men_data = import_and_add_product_type(men_files)\n",
    "\n",
    "# look at the number of observations\n",
    "print(men_data.shape)\n",
    "\n",
    "men_data.head()"
   ]
  },
  {
   "cell_type": "markdown",
   "metadata": {},
   "source": [
    "As you can see, there were 563 individual observations recorded with 7 columns, but we will drop the following columns as they are not useful in the process of comparing prices:\n",
    "- Unnamed: 0\n",
    "- link\n",
    "- product_images\n",
    "- details"
   ]
  },
  {
   "cell_type": "code",
   "execution_count": 5,
   "metadata": {},
   "outputs": [
    {
     "name": "stdout",
     "output_type": "stream",
     "text": [
      "product_type    0\n",
      "product_name    0\n",
      "price           0\n",
      "dtype: int64\n"
     ]
    }
   ],
   "source": [
    "# drop unnecessary columns\n",
    "men_data = men_data.drop(columns = ['Unnamed: 0', 'link', ' product_images', 'details'])\n",
    "\n",
    "# convert categorical variables to lowercase\n",
    "men_data = men_data.apply(lambda x: x.lower() if isinstance(x, str) else x)\n",
    "\n",
    "# check for missing values\n",
    "print(men_data.isna().sum())"
   ]
  },
  {
   "cell_type": "markdown",
   "metadata": {},
   "source": [
    "There are no missing values!"
   ]
  },
  {
   "cell_type": "markdown",
   "metadata": {},
   "source": [
    "## Dataset #2: Women's Clothing\n",
    "- Total number of observations: 796\n",
    "- Dataset Name: Mens/ Womens Zara Products\n",
    "- Link to dataset: [https://www.kaggle.com/datasets/abhinavtyagi2708/zara-dataset-men-and-women-clothing](https://www.kaggle.com/datasets/abhinavtyagi2708/zara-dataset-men-and-women-clothing)\n",
    "- Description: We will be using a second dataset from the Zara Clothing Collection which contains information for women’s fashion items. Categories within this dataset include: shirts, pants, trousers, shorts/ skorts, dresses, jackets, accessories, etc. The features that this specific dataset contains include the following: product name, a brief textual description of the clothing item, images, and price. There were 796 individual observations recorded with 7 columns, but 4 columns were also dropped as they did not contain relevant information in regards to answering our research question.\n"
   ]
  },
  {
   "cell_type": "code",
   "execution_count": 6,
   "metadata": {
    "scrolled": true
   },
   "outputs": [
    {
     "name": "stdout",
     "output_type": "stream",
     "text": [
      "(796, 7)\n"
     ]
    },
    {
     "data": {
      "text/html": [
       "<div>\n",
       "<style scoped>\n",
       "    .dataframe tbody tr th:only-of-type {\n",
       "        vertical-align: middle;\n",
       "    }\n",
       "\n",
       "    .dataframe tbody tr th {\n",
       "        vertical-align: top;\n",
       "    }\n",
       "\n",
       "    .dataframe thead th {\n",
       "        text-align: right;\n",
       "    }\n",
       "</style>\n",
       "<table border=\"1\" class=\"dataframe\">\n",
       "  <thead>\n",
       "    <tr style=\"text-align: right;\">\n",
       "      <th></th>\n",
       "      <th>product_type</th>\n",
       "      <th>Unnamed: 0</th>\n",
       "      <th>Product_Name</th>\n",
       "      <th>Link</th>\n",
       "      <th>Product_Image</th>\n",
       "      <th>Price</th>\n",
       "      <th>Details</th>\n",
       "    </tr>\n",
       "  </thead>\n",
       "  <tbody>\n",
       "    <tr>\n",
       "      <th>0</th>\n",
       "      <td>blazers</td>\n",
       "      <td>0.0</td>\n",
       "      <td>TAILORED DOUBLE-BREASTED BLAZER</td>\n",
       "      <td>https://www.zara.com/in/en/tailored-double-bre...</td>\n",
       "      <td>[{'https://static.zara.net/photos///2023/I/0/1...</td>\n",
       "      <td>₹ 5,590.00</td>\n",
       "      <td>Blazer featuring a lapel collar with long slee...</td>\n",
       "    </tr>\n",
       "    <tr>\n",
       "      <th>1</th>\n",
       "      <td>blazers</td>\n",
       "      <td>1.0</td>\n",
       "      <td>STRIPE TEXTURED BLAZER</td>\n",
       "      <td>https://www.zara.com/in/en/stripe-textured-bla...</td>\n",
       "      <td>[{'https://static.zara.net/photos///2023/I/0/1...</td>\n",
       "      <td>₹ 5,990.00</td>\n",
       "      <td>Lapelless blazer with long sleeves and shoulde...</td>\n",
       "    </tr>\n",
       "    <tr>\n",
       "      <th>2</th>\n",
       "      <td>blazers</td>\n",
       "      <td>2.0</td>\n",
       "      <td>TAILORED WAISTCOAT</td>\n",
       "      <td>https://www.zara.com/in/en/tailored-waistcoat-...</td>\n",
       "      <td>[{'https://static.zara.net/photos///2023/I/0/1...</td>\n",
       "      <td>₹ 2,990.00</td>\n",
       "      <td>Sleeveless waistcoat with a V-neck. Front jett...</td>\n",
       "    </tr>\n",
       "    <tr>\n",
       "      <th>3</th>\n",
       "      <td>blazers</td>\n",
       "      <td>3.0</td>\n",
       "      <td>STRAIGHT BLAZER</td>\n",
       "      <td>https://www.zara.com/in/en/straight-blazer-p09...</td>\n",
       "      <td>[{'https://static.zara.net/photos///2023/I/0/1...</td>\n",
       "      <td>₹ 4,990.00</td>\n",
       "      <td>Blazer featuring a lapel collar with long slee...</td>\n",
       "    </tr>\n",
       "    <tr>\n",
       "      <th>4</th>\n",
       "      <td>blazers</td>\n",
       "      <td>4.0</td>\n",
       "      <td>BLAZER WITH ROLLED-UP SLEEVES</td>\n",
       "      <td>https://www.zara.com/in/en/blazer-with-rolled-...</td>\n",
       "      <td>[{'https://static.zara.net/photos///2023/I/0/1...</td>\n",
       "      <td>₹ 4,490.00</td>\n",
       "      <td>Open blazer with a lapel collar and padded sho...</td>\n",
       "    </tr>\n",
       "  </tbody>\n",
       "</table>\n",
       "</div>"
      ],
      "text/plain": [
       "  product_type  Unnamed: 0                     Product_Name  \\\n",
       "0      blazers         0.0  TAILORED DOUBLE-BREASTED BLAZER   \n",
       "1      blazers         1.0           STRIPE TEXTURED BLAZER   \n",
       "2      blazers         2.0               TAILORED WAISTCOAT   \n",
       "3      blazers         3.0                  STRAIGHT BLAZER   \n",
       "4      blazers         4.0    BLAZER WITH ROLLED-UP SLEEVES   \n",
       "\n",
       "                                                Link  \\\n",
       "0  https://www.zara.com/in/en/tailored-double-bre...   \n",
       "1  https://www.zara.com/in/en/stripe-textured-bla...   \n",
       "2  https://www.zara.com/in/en/tailored-waistcoat-...   \n",
       "3  https://www.zara.com/in/en/straight-blazer-p09...   \n",
       "4  https://www.zara.com/in/en/blazer-with-rolled-...   \n",
       "\n",
       "                                       Product_Image       Price  \\\n",
       "0  [{'https://static.zara.net/photos///2023/I/0/1...  ₹ 5,590.00   \n",
       "1  [{'https://static.zara.net/photos///2023/I/0/1...  ₹ 5,990.00   \n",
       "2  [{'https://static.zara.net/photos///2023/I/0/1...  ₹ 2,990.00   \n",
       "3  [{'https://static.zara.net/photos///2023/I/0/1...  ₹ 4,990.00   \n",
       "4  [{'https://static.zara.net/photos///2023/I/0/1...  ₹ 4,490.00   \n",
       "\n",
       "                                             Details  \n",
       "0  Blazer featuring a lapel collar with long slee...  \n",
       "1  Lapelless blazer with long sleeves and shoulde...  \n",
       "2  Sleeveless waistcoat with a V-neck. Front jett...  \n",
       "3  Blazer featuring a lapel collar with long slee...  \n",
       "4  Open blazer with a lapel collar and padded sho...  "
      ]
     },
     "execution_count": 6,
     "metadata": {},
     "output_type": "execute_result"
    }
   ],
   "source": [
    "# list of file names\n",
    "women_files = ['BLAZERS_women.csv', 'JACKETS_women.csv', 'JEANS_women.csv',\n",
    "                'SHIRTS_women.csv', 'SHOES_women.csv', 'TROUSERS_women.csv']\n",
    "\n",
    "# import data and add a 'product_type' column\n",
    "women_data = import_and_add_product_type(women_files)\n",
    "\n",
    "# look at the number of observations\n",
    "print(women_data.shape)\n",
    "\n",
    "women_data.head()"
   ]
  },
  {
   "cell_type": "markdown",
   "metadata": {},
   "source": [
    "As you can see, there were 796 individual observations recorded with 7 columns, but we will drop the following columns as they are not useful in the process of comparing prices:\n",
    "- Unnamed: 0\n",
    "- Link\n",
    "- Product_Image\n",
    "- Details"
   ]
  },
  {
   "cell_type": "code",
   "execution_count": 7,
   "metadata": {},
   "outputs": [
    {
     "name": "stdout",
     "output_type": "stream",
     "text": [
      "product_type    0\n",
      "product_name    2\n",
      "price           0\n",
      "dtype: int64\n"
     ]
    }
   ],
   "source": [
    "# drop unnecessary columns\n",
    "women_data = women_data.drop(columns = ['Unnamed: 0', 'Link', 'Product_Image', 'Details'])\n",
    "\n",
    "# convert categorical variables to lowercase\n",
    "women_data = women_data.apply(lambda x: x.lower() if isinstance(x, str) else x)\n",
    "women_data.columns = women_data.columns.str.lower()\n",
    "\n",
    "# check for missing values\n",
    "print(women_data.isna().sum())"
   ]
  },
  {
   "cell_type": "markdown",
   "metadata": {},
   "source": [
    "There are two missing values in the Product_Name column, so let's see what entries those are."
   ]
  },
  {
   "cell_type": "code",
   "execution_count": 8,
   "metadata": {},
   "outputs": [
    {
     "name": "stdout",
     "output_type": "stream",
     "text": [
      "    product_type product_name       price\n",
      "590        shoes          NaN  ₹ 2,890.00\n",
      "645        shoes          NaN  ₹ 5,590.00\n"
     ]
    }
   ],
   "source": [
    "# finding rows with missing values\n",
    "print(women_data[women_data['product_name'].isna()])"
   ]
  },
  {
   "cell_type": "markdown",
   "metadata": {},
   "source": [
    "Since only the product name is missing, we will just replace the name with \"trousers\" as this does not affect the analysis of the price."
   ]
  },
  {
   "cell_type": "code",
   "execution_count": 9,
   "metadata": {},
   "outputs": [
    {
     "name": "stdout",
     "output_type": "stream",
     "text": [
      "product_type    0\n",
      "product_name    0\n",
      "price           0\n",
      "dtype: int64\n"
     ]
    }
   ],
   "source": [
    "# set the missing product_name to 'trousers'\n",
    "women_data[women_data['product_name'].isna()] = 'trousers'\n",
    "\n",
    "# check to ensure no more missing values\n",
    "print(women_data.isna().sum())"
   ]
  },
  {
   "cell_type": "markdown",
   "metadata": {},
   "source": [
    "## Price Conversion\n",
    "Now, we have to convert the rupees into U.S. dollars. The conversion rate is 1 rupee = 0.012 USD."
   ]
  },
  {
   "cell_type": "code",
   "execution_count": 10,
   "metadata": {},
   "outputs": [],
   "source": [
    "# delete rupee symbol and comma\n",
    "men_data['price'] = pd.to_numeric(men_data['price'].str.replace('[^\\d.]', '', regex=True))\n",
    "women_data['price'] = pd.to_numeric(women_data['price'].str.replace('[^\\d.]', '', regex=True))\n",
    "\n",
    "# apply the conversion between rupees and USD\n",
    "men_data['price'] = men_data['price'].apply(lambda x: x * 0.012)\n",
    "women_data['price'] = women_data['price'].apply(lambda x: x * 0.012)\n",
    "\n",
    "# rename the 'price' column to 'price_dollars'\n",
    "men_data = men_data.rename(columns={'price': 'price_dollars'})\n",
    "women_data = women_data.rename(columns={'price': 'price_dollars'})"
   ]
  },
  {
   "cell_type": "markdown",
   "metadata": {},
   "source": [
    "Finally, we can display the data."
   ]
  },
  {
   "cell_type": "code",
   "execution_count": 11,
   "metadata": {
    "scrolled": true
   },
   "outputs": [
    {
     "data": {
      "text/html": [
       "<div>\n",
       "<style scoped>\n",
       "    .dataframe tbody tr th:only-of-type {\n",
       "        vertical-align: middle;\n",
       "    }\n",
       "\n",
       "    .dataframe tbody tr th {\n",
       "        vertical-align: top;\n",
       "    }\n",
       "\n",
       "    .dataframe thead th {\n",
       "        text-align: right;\n",
       "    }\n",
       "</style>\n",
       "<table border=\"1\" class=\"dataframe\">\n",
       "  <thead>\n",
       "    <tr style=\"text-align: right;\">\n",
       "      <th></th>\n",
       "      <th>product_type</th>\n",
       "      <th>product_name</th>\n",
       "      <th>price_dollars</th>\n",
       "    </tr>\n",
       "  </thead>\n",
       "  <tbody>\n",
       "    <tr>\n",
       "      <th>0</th>\n",
       "      <td>blazers</td>\n",
       "      <td>BASIC BLAZER</td>\n",
       "      <td>91.08</td>\n",
       "    </tr>\n",
       "    <tr>\n",
       "      <th>1</th>\n",
       "      <td>blazers</td>\n",
       "      <td>100% WOOL SUIT BLAZER - LIMITED EDITION</td>\n",
       "      <td>143.88</td>\n",
       "    </tr>\n",
       "    <tr>\n",
       "      <th>2</th>\n",
       "      <td>blazers</td>\n",
       "      <td>100% WOOL SUIT BLAZER</td>\n",
       "      <td>143.88</td>\n",
       "    </tr>\n",
       "    <tr>\n",
       "      <th>3</th>\n",
       "      <td>blazers</td>\n",
       "      <td>100% WOOL PINSTRIPE SUIT BLAZER</td>\n",
       "      <td>143.88</td>\n",
       "    </tr>\n",
       "    <tr>\n",
       "      <th>4</th>\n",
       "      <td>blazers</td>\n",
       "      <td>100% WOOL OVERSIZE BLAZER</td>\n",
       "      <td>143.88</td>\n",
       "    </tr>\n",
       "    <tr>\n",
       "      <th>5</th>\n",
       "      <td>blazers</td>\n",
       "      <td>SLIM FIT SUIT BLAZER</td>\n",
       "      <td>71.88</td>\n",
       "    </tr>\n",
       "    <tr>\n",
       "      <th>6</th>\n",
       "      <td>blazers</td>\n",
       "      <td>CHECKED SUIT BLAZER</td>\n",
       "      <td>115.08</td>\n",
       "    </tr>\n",
       "    <tr>\n",
       "      <th>7</th>\n",
       "      <td>blazers</td>\n",
       "      <td>CHECKED SUIT BLAZER</td>\n",
       "      <td>115.08</td>\n",
       "    </tr>\n",
       "    <tr>\n",
       "      <th>8</th>\n",
       "      <td>blazers</td>\n",
       "      <td>SUIT BLAZER</td>\n",
       "      <td>115.08</td>\n",
       "    </tr>\n",
       "    <tr>\n",
       "      <th>9</th>\n",
       "      <td>blazers</td>\n",
       "      <td>BLAZER WITH POCKETS</td>\n",
       "      <td>103.08</td>\n",
       "    </tr>\n",
       "  </tbody>\n",
       "</table>\n",
       "</div>"
      ],
      "text/plain": [
       "  product_type                             product_name  price_dollars\n",
       "0      blazers                             BASIC BLAZER          91.08\n",
       "1      blazers  100% WOOL SUIT BLAZER - LIMITED EDITION         143.88\n",
       "2      blazers                    100% WOOL SUIT BLAZER         143.88\n",
       "3      blazers          100% WOOL PINSTRIPE SUIT BLAZER         143.88\n",
       "4      blazers                100% WOOL OVERSIZE BLAZER         143.88\n",
       "5      blazers                     SLIM FIT SUIT BLAZER          71.88\n",
       "6      blazers                      CHECKED SUIT BLAZER         115.08\n",
       "7      blazers                      CHECKED SUIT BLAZER         115.08\n",
       "8      blazers                              SUIT BLAZER         115.08\n",
       "9      blazers                      BLAZER WITH POCKETS         103.08"
      ]
     },
     "execution_count": 11,
     "metadata": {},
     "output_type": "execute_result"
    }
   ],
   "source": [
    "men_data.head(10)"
   ]
  },
  {
   "cell_type": "code",
   "execution_count": 12,
   "metadata": {},
   "outputs": [
    {
     "data": {
      "text/html": [
       "<div>\n",
       "<style scoped>\n",
       "    .dataframe tbody tr th:only-of-type {\n",
       "        vertical-align: middle;\n",
       "    }\n",
       "\n",
       "    .dataframe tbody tr th {\n",
       "        vertical-align: top;\n",
       "    }\n",
       "\n",
       "    .dataframe thead th {\n",
       "        text-align: right;\n",
       "    }\n",
       "</style>\n",
       "<table border=\"1\" class=\"dataframe\">\n",
       "  <thead>\n",
       "    <tr style=\"text-align: right;\">\n",
       "      <th></th>\n",
       "      <th>product_type</th>\n",
       "      <th>product_name</th>\n",
       "      <th>price_dollars</th>\n",
       "    </tr>\n",
       "  </thead>\n",
       "  <tbody>\n",
       "    <tr>\n",
       "      <th>0</th>\n",
       "      <td>blazers</td>\n",
       "      <td>TAILORED DOUBLE-BREASTED BLAZER</td>\n",
       "      <td>67.08</td>\n",
       "    </tr>\n",
       "    <tr>\n",
       "      <th>1</th>\n",
       "      <td>blazers</td>\n",
       "      <td>STRIPE TEXTURED BLAZER</td>\n",
       "      <td>71.88</td>\n",
       "    </tr>\n",
       "    <tr>\n",
       "      <th>2</th>\n",
       "      <td>blazers</td>\n",
       "      <td>TAILORED WAISTCOAT</td>\n",
       "      <td>35.88</td>\n",
       "    </tr>\n",
       "    <tr>\n",
       "      <th>3</th>\n",
       "      <td>blazers</td>\n",
       "      <td>STRAIGHT BLAZER</td>\n",
       "      <td>59.88</td>\n",
       "    </tr>\n",
       "    <tr>\n",
       "      <th>4</th>\n",
       "      <td>blazers</td>\n",
       "      <td>BLAZER WITH ROLLED-UP SLEEVES</td>\n",
       "      <td>53.88</td>\n",
       "    </tr>\n",
       "    <tr>\n",
       "      <th>5</th>\n",
       "      <td>blazers</td>\n",
       "      <td>HIGH NECK TEXTURED BLAZER</td>\n",
       "      <td>71.88</td>\n",
       "    </tr>\n",
       "    <tr>\n",
       "      <th>6</th>\n",
       "      <td>blazers</td>\n",
       "      <td>SHORT TAILORED WAISTCOAT</td>\n",
       "      <td>35.88</td>\n",
       "    </tr>\n",
       "    <tr>\n",
       "      <th>7</th>\n",
       "      <td>blazers</td>\n",
       "      <td>FITTED BLAZER WITH SEAMS</td>\n",
       "      <td>71.88</td>\n",
       "    </tr>\n",
       "    <tr>\n",
       "      <th>8</th>\n",
       "      <td>blazers</td>\n",
       "      <td>LONG BLAZER WITH BELT</td>\n",
       "      <td>91.08</td>\n",
       "    </tr>\n",
       "    <tr>\n",
       "      <th>9</th>\n",
       "      <td>blazers</td>\n",
       "      <td>CROPPED BLAZER WITH FEATHERS</td>\n",
       "      <td>143.88</td>\n",
       "    </tr>\n",
       "  </tbody>\n",
       "</table>\n",
       "</div>"
      ],
      "text/plain": [
       "  product_type                     product_name  price_dollars\n",
       "0      blazers  TAILORED DOUBLE-BREASTED BLAZER          67.08\n",
       "1      blazers           STRIPE TEXTURED BLAZER          71.88\n",
       "2      blazers               TAILORED WAISTCOAT          35.88\n",
       "3      blazers                  STRAIGHT BLAZER          59.88\n",
       "4      blazers    BLAZER WITH ROLLED-UP SLEEVES          53.88\n",
       "5      blazers        HIGH NECK TEXTURED BLAZER          71.88\n",
       "6      blazers         SHORT TAILORED WAISTCOAT          35.88\n",
       "7      blazers         FITTED BLAZER WITH SEAMS          71.88\n",
       "8      blazers            LONG BLAZER WITH BELT          91.08\n",
       "9      blazers     CROPPED BLAZER WITH FEATHERS         143.88"
      ]
     },
     "execution_count": 12,
     "metadata": {},
     "output_type": "execute_result"
    }
   ],
   "source": [
    "women_data.head(10)"
   ]
  },
  {
   "cell_type": "markdown",
   "metadata": {},
   "source": [
    "# Results\n",
    "\n",
    "## Exploratory Data Analysis\n",
    "\n",
    "Carry out whatever EDA you need to for your project.  Because every project will be different we can't really give you much of a template at this point. But please make sure you describe the what and why in text here as well as providing interpretation of results and context."
   ]
  },
  {
   "cell_type": "markdown",
   "metadata": {},
   "source": [
    "### Distribution of prices of the different clothing categories\n",
    "\n",
    "First, let's look at the summary of our data sets to see the overall distribution of price of men's and women's fashion items in Zara."
   ]
  },
  {
   "cell_type": "code",
   "execution_count": 13,
   "metadata": {},
   "outputs": [],
   "source": [
    "# import plotting statements\n",
    "import seaborn as sns\n",
    "import matplotlib.pyplot as plt"
   ]
  },
  {
   "cell_type": "code",
   "execution_count": 14,
   "metadata": {
    "scrolled": false
   },
   "outputs": [
    {
     "data": {
      "text/html": [
       "<div>\n",
       "<style scoped>\n",
       "    .dataframe tbody tr th:only-of-type {\n",
       "        vertical-align: middle;\n",
       "    }\n",
       "\n",
       "    .dataframe tbody tr th {\n",
       "        vertical-align: top;\n",
       "    }\n",
       "\n",
       "    .dataframe thead th {\n",
       "        text-align: right;\n",
       "    }\n",
       "</style>\n",
       "<table border=\"1\" class=\"dataframe\">\n",
       "  <thead>\n",
       "    <tr style=\"text-align: right;\">\n",
       "      <th></th>\n",
       "      <th>price_dollars</th>\n",
       "    </tr>\n",
       "  </thead>\n",
       "  <tbody>\n",
       "    <tr>\n",
       "      <th>count</th>\n",
       "      <td>563.000000</td>\n",
       "    </tr>\n",
       "    <tr>\n",
       "      <th>mean</th>\n",
       "      <td>57.673961</td>\n",
       "    </tr>\n",
       "    <tr>\n",
       "      <th>std</th>\n",
       "      <td>25.122417</td>\n",
       "    </tr>\n",
       "    <tr>\n",
       "      <th>min</th>\n",
       "      <td>17.880000</td>\n",
       "    </tr>\n",
       "    <tr>\n",
       "      <th>25%</th>\n",
       "      <td>39.480000</td>\n",
       "    </tr>\n",
       "    <tr>\n",
       "      <th>50%</th>\n",
       "      <td>47.880000</td>\n",
       "    </tr>\n",
       "    <tr>\n",
       "      <th>75%</th>\n",
       "      <td>59.880000</td>\n",
       "    </tr>\n",
       "    <tr>\n",
       "      <th>max</th>\n",
       "      <td>191.880000</td>\n",
       "    </tr>\n",
       "  </tbody>\n",
       "</table>\n",
       "</div>"
      ],
      "text/plain": [
       "       price_dollars\n",
       "count     563.000000\n",
       "mean       57.673961\n",
       "std        25.122417\n",
       "min        17.880000\n",
       "25%        39.480000\n",
       "50%        47.880000\n",
       "75%        59.880000\n",
       "max       191.880000"
      ]
     },
     "execution_count": 14,
     "metadata": {},
     "output_type": "execute_result"
    }
   ],
   "source": [
    "men_data.describe()"
   ]
  },
  {
   "cell_type": "code",
   "execution_count": 53,
   "metadata": {},
   "outputs": [
    {
     "data": {
      "image/png": "[encoded data removed]",
      "text/plain": [
       "<Figure size 576x360 with 1 Axes>"
      ]
     },
     "metadata": {
      "needs_background": "light"
     },
     "output_type": "display_data"
    }
   ],
   "source": [
    "# distribution of the price of all of the men's clothing categories \n",
    "plt.figure(figsize=(8,5))\n",
    "sns.histplot(men_data['price_dollars'], bins=20, color='skyblue')\n",
    "plt.xlabel('Price')\n",
    "plt.show()"
   ]
  },
  {
   "cell_type": "code",
   "execution_count": 16,
   "metadata": {
    "scrolled": true
   },
   "outputs": [
    {
     "data": {
      "text/html": [
       "<div>\n",
       "<style scoped>\n",
       "    .dataframe tbody tr th:only-of-type {\n",
       "        vertical-align: middle;\n",
       "    }\n",
       "\n",
       "    .dataframe tbody tr th {\n",
       "        vertical-align: top;\n",
       "    }\n",
       "\n",
       "    .dataframe thead th {\n",
       "        text-align: right;\n",
       "    }\n",
       "</style>\n",
       "<table border=\"1\" class=\"dataframe\">\n",
       "  <thead>\n",
       "    <tr style=\"text-align: right;\">\n",
       "      <th></th>\n",
       "      <th>price_dollars</th>\n",
       "    </tr>\n",
       "  </thead>\n",
       "  <tbody>\n",
       "    <tr>\n",
       "      <th>count</th>\n",
       "      <td>793.000000</td>\n",
       "    </tr>\n",
       "    <tr>\n",
       "      <th>mean</th>\n",
       "      <td>50.370794</td>\n",
       "    </tr>\n",
       "    <tr>\n",
       "      <th>std</th>\n",
       "      <td>18.846724</td>\n",
       "    </tr>\n",
       "    <tr>\n",
       "      <th>min</th>\n",
       "      <td>23.880000</td>\n",
       "    </tr>\n",
       "    <tr>\n",
       "      <th>25%</th>\n",
       "      <td>35.880000</td>\n",
       "    </tr>\n",
       "    <tr>\n",
       "      <th>50%</th>\n",
       "      <td>39.480000</td>\n",
       "    </tr>\n",
       "    <tr>\n",
       "      <th>75%</th>\n",
       "      <td>59.880000</td>\n",
       "    </tr>\n",
       "    <tr>\n",
       "      <th>max</th>\n",
       "      <td>155.880000</td>\n",
       "    </tr>\n",
       "  </tbody>\n",
       "</table>\n",
       "</div>"
      ],
      "text/plain": [
       "       price_dollars\n",
       "count     793.000000\n",
       "mean       50.370794\n",
       "std        18.846724\n",
       "min        23.880000\n",
       "25%        35.880000\n",
       "50%        39.480000\n",
       "75%        59.880000\n",
       "max       155.880000"
      ]
     },
     "execution_count": 16,
     "metadata": {},
     "output_type": "execute_result"
    }
   ],
   "source": [
    "women_data.describe()"
   ]
  },
  {
   "cell_type": "code",
   "execution_count": 51,
   "metadata": {},
   "outputs": [
    {
     "data": {
      "image/png": "[encoded data removed]",
      "text/plain": [
       "<Figure size 576x360 with 1 Axes>"
      ]
     },
     "metadata": {
      "needs_background": "light"
     },
     "output_type": "display_data"
    }
   ],
   "source": [
    "# distribution of the price of all of the women's clothing categories \n",
    "plt.figure(figsize=(8,5))\n",
    "sns.histplot(women_data['price_dollars'], bins=20, color='lightpink')\n",
    "plt.xlabel('Price')\n",
    "plt.show()"
   ]
  },
  {
   "cell_type": "markdown",
   "metadata": {},
   "source": [
    "From the summary of data we have above, we can see that men's data has a a larger range and a slightly higher mean price. So now let's look the breakdown of the distribution of price in each of the clothing categories."
   ]
  },
  {
   "cell_type": "code",
   "execution_count": 18,
   "metadata": {
    "scrolled": true
   },
   "outputs": [
    {
     "data": {
      "image/png": "[encoded data removed]",
      "text/plain": [
       "<Figure size 576x360 with 1 Axes>"
      ]
     },
     "metadata": {
      "needs_background": "light"
     },
     "output_type": "display_data"
    }
   ],
   "source": [
    "# the distribution of the prices of blazers\n",
    "men_blazers = men_data[men_data['product_type'] == 'blazers']\n",
    "women_blazers = women_data[women_data['product_type'] == 'blazers']\n",
    "\n",
    "plt.figure(figsize=(8,5))\n",
    "sns.histplot(data=women_blazers, x='price_dollars', bins=10, color='lightpink', label=\"Women's Blazers\")\n",
    "sns.histplot(data=men_blazers, x='price_dollars', bins=10, color='skyblue', label=\"Men's Blazers\")\n",
    "\n",
    "plt.xlabel('Price')\n",
    "plt.ylabel('Count')\n",
    "plt.legend()\n",
    "\n",
    "plt.show()"
   ]
  },
  {
   "cell_type": "code",
   "execution_count": 19,
   "metadata": {},
   "outputs": [
    {
     "name": "stdout",
     "output_type": "stream",
     "text": [
      "The mean price of men's blazers is 105.91636363636366\n",
      "The mean price of women's blazers is 65.2889552238806\n"
     ]
    }
   ],
   "source": [
    "print(\"The mean price of men's blazers is \" + str(men_blazers['price_dollars'].mean()))\n",
    "print(\"The mean price of women's blazers is \" + str(women_blazers['price_dollars'].mean()))"
   ]
  },
  {
   "cell_type": "markdown",
   "metadata": {},
   "source": [
    "From the histogram, we can see that the price distribution of women's blazers shows a positive skew, indicating that there are relatively fewer high-priced items. In contrast, the distribution for men's blazers appears more uniform, suggesting a relatively even spread of prices. It is hard for us to compare the central tendency due to the differing counts of blazers for men and women."
   ]
  },
  {
   "cell_type": "code",
   "execution_count": 56,
   "metadata": {
    "scrolled": false
   },
   "outputs": [
    {
     "data": {
      "image/png": "[encoded data removed]",
      "text/plain": [
       "<Figure size 576x360 with 2 Axes>"
      ]
     },
     "metadata": {
      "needs_background": "light"
     },
     "output_type": "display_data"
    }
   ],
   "source": [
    "# price range of blazers\n",
    "price_min = min(men_blazers['price_dollars'].min(), women_blazers['price_dollars'].min())-5\n",
    "price_max = max(men_blazers['price_dollars'].max(), women_blazers['price_dollars'].max())+5\n",
    "\n",
    "plt.figure(figsize=(8,5))\n",
    "\n",
    "plt.subplot(2, 1, 1)\n",
    "sns.boxplot(data=men_blazers, x='price_dollars', color='skyblue')\n",
    "plt.title(\"Men's Blazers\")\n",
    "plt.xlabel('')\n",
    "plt.xticks([])\n",
    "plt.xlim(price_min, price_max)\n",
    "\n",
    "plt.subplot(2, 1, 2)\n",
    "sns.boxplot(data=women_blazers, x='price_dollars', color='lightpink')\n",
    "plt.title(\"Women's Blazers\")\n",
    "plt.xlim(price_min, price_max)\n",
    "plt.xlabel('Price')\n",
    "\n",
    "plt.show()"
   ]
  },
  {
   "cell_type": "code",
   "execution_count": 21,
   "metadata": {},
   "outputs": [
    {
     "name": "stdout",
     "output_type": "stream",
     "text": [
      "The range of the price of men's blazers is 96.0\n",
      "The range of the price of women's blazers is 108.0\n"
     ]
    }
   ],
   "source": [
    "print(\"The range of the price of men's blazers is \" + str(men_blazers['price_dollars'].max()-men_blazers['price_dollars'].min()))\n",
    "print(\"The range of the price of women's blazers is \" + str(women_blazers['price_dollars'].max()-women_blazers['price_dollars'].min()))"
   ]
  },
  {
   "cell_type": "markdown",
   "metadata": {},
   "source": [
    "From the boxplot, we can see that while women's blazers have 2 outliers, which indicates exceptionally higher prices. Yet men's blazers do not have any outlier, which indicates that the price is more consistent. We can also see that the range of the price of women's blazers is larger than men's."
   ]
  },
  {
   "cell_type": "code",
   "execution_count": 22,
   "metadata": {
    "scrolled": true
   },
   "outputs": [
    {
     "data": {
      "image/png": "[encoded data removed]",
      "text/plain": [
       "<Figure size 576x360 with 1 Axes>"
      ]
     },
     "metadata": {
      "needs_background": "light"
     },
     "output_type": "display_data"
    }
   ],
   "source": [
    "# the distribution of the prices of jackets\n",
    "men_jackets = men_data[men_data['product_type'] == 'jackets']\n",
    "women_jackets = women_data[women_data['product_type'] == 'jackets']\n",
    "\n",
    "plt.figure(figsize=(8,5))\n",
    "sns.histplot(data=women_jackets, x='price_dollars', bins=10, color='lightpink', label=\"Women's Jackets\")\n",
    "sns.histplot(data=men_jackets, x='price_dollars', bins=10, color='skyblue', label=\"Men's Jackets\")\n",
    "\n",
    "plt.xlabel('Price')\n",
    "plt.ylabel('Count')\n",
    "plt.legend()\n",
    "\n",
    "plt.show()"
   ]
  },
  {
   "cell_type": "code",
   "execution_count": 23,
   "metadata": {
    "scrolled": true
   },
   "outputs": [
    {
     "name": "stdout",
     "output_type": "stream",
     "text": [
      "The mean price of men's jackets is 77.06181818181818\n",
      "The mean price of women's jackets is 61.18619469026549\n"
     ]
    }
   ],
   "source": [
    "print(\"The mean price of men's jackets is \" + str(men_jackets['price_dollars'].mean()))\n",
    "print(\"The mean price of women's jackets is \" + str(women_jackets['price_dollars'].mean()))"
   ]
  },
  {
   "cell_type": "markdown",
   "metadata": {},
   "source": [
    "From the histogram, we can see that the price distribution of both women's and men's jackets are positively skewed, indicating that the majority of blazers have low prices. Yet we can also note that there are some higher-priced items for men's jackets. It is hard for us to compare the central tendency due to the differing counts of jackets for men and women."
   ]
  },
  {
   "cell_type": "code",
   "execution_count": 24,
   "metadata": {
    "scrolled": true
   },
   "outputs": [
    {
     "data": {
      "image/png": "[encoded data removed]",
      "text/plain": [
       "<Figure size 576x360 with 2 Axes>"
      ]
     },
     "metadata": {
      "needs_background": "light"
     },
     "output_type": "display_data"
    }
   ],
   "source": [
    "# price range of jackets\n",
    "price_min = min(men_jackets['price_dollars'].min(), women_jackets['price_dollars'].min())-5\n",
    "price_max = max(men_jackets['price_dollars'].max(), women_jackets['price_dollars'].max())+5\n",
    "\n",
    "\n",
    "plt.figure(figsize=(8,5))\n",
    "\n",
    "plt.subplot(2, 1, 1)\n",
    "sns.boxplot(data=men_jackets, x='price_dollars', color='skyblue')\n",
    "plt.title(\"Men's Jackets\")\n",
    "plt.xlabel('')\n",
    "plt.xticks([])\n",
    "plt.xlim(price_min, price_max)\n",
    "\n",
    "plt.subplot(2, 1, 2)\n",
    "sns.boxplot(data=women_jackets, x='price_dollars', color='lightpink')\n",
    "plt.title(\"Women's Jackets\")\n",
    "plt.xlim(price_min, price_max)\n",
    "plt.xlabel('Price')\n",
    "\n",
    "plt.show()"
   ]
  },
  {
   "cell_type": "code",
   "execution_count": 25,
   "metadata": {},
   "outputs": [
    {
     "name": "stdout",
     "output_type": "stream",
     "text": [
      "The range of the price of men's jackets is 156.0\n",
      "The range of the price of women's jackets is 108.0\n"
     ]
    }
   ],
   "source": [
    "print(\"The range of the price of men's jackets is \" + str(men_jackets['price_dollars'].max()-men_jackets['price_dollars'].min()))\n",
    "print(\"The range of the price of women's jackets is \" + str(women_jackets['price_dollars'].max()-women_jackets['price_dollars'].min()))"
   ]
  },
  {
   "cell_type": "markdown",
   "metadata": {},
   "source": [
    "From the boxplot, we can see that both women's and men's jackets have 2 outliers, showing exceptionally higher prices. The outliers for men's jackets have higher prices thatn women's jackets too. We can also see that the range of the price of men's jackets is larger than women's."
   ]
  },
  {
   "cell_type": "code",
   "execution_count": 26,
   "metadata": {
    "scrolled": false
   },
   "outputs": [
    {
     "data": {
      "image/png": "[encoded data removed]",
      "text/plain": [
       "<Figure size 576x360 with 1 Axes>"
      ]
     },
     "metadata": {
      "needs_background": "light"
     },
     "output_type": "display_data"
    }
   ],
   "source": [
    "# the distribution of the prices of jeans\n",
    "men_jeans = men_data[men_data['product_type'] == 'jeans']\n",
    "women_jeans = women_data[women_data['product_type'] == 'jeans']\n",
    "\n",
    "plt.figure(figsize=(8,5))\n",
    "sns.histplot(data=women_jeans, x='price_dollars', bins=10, color='lightpink', label=\"Women's Jeans\")\n",
    "sns.histplot(data=men_jeans, x='price_dollars', bins=10, color='skyblue', label=\"Men's Jeans\")\n",
    "\n",
    "plt.xlabel('Price')\n",
    "plt.ylabel('Count')\n",
    "plt.legend()\n",
    "\n",
    "plt.show()"
   ]
  },
  {
   "cell_type": "code",
   "execution_count": 27,
   "metadata": {},
   "outputs": [
    {
     "name": "stdout",
     "output_type": "stream",
     "text": [
      "The mean price of men's jeans is 53.96\n",
      "The mean price of women's jeans is 42.60000000000001\n"
     ]
    }
   ],
   "source": [
    "print(\"The mean price of men's jeans is \" + str(men_jeans['price_dollars'].mean()))\n",
    "print(\"The mean price of women's jeans is \" + str(women_jeans['price_dollars'].mean()))"
   ]
  },
  {
   "cell_type": "markdown",
   "metadata": {},
   "source": [
    "From the histogram, we can see that the price distribution of both women's and men's jeans does not exhibit a clear pattern, suggesting a lack of uniformity. Yet we can see that overall, men's jeans have more counts in the upper price range than women's jeans. Thus we can say that the most common price range for men's jeans is higher than women's."
   ]
  },
  {
   "cell_type": "code",
   "execution_count": 28,
   "metadata": {
    "scrolled": false
   },
   "outputs": [
    {
     "data": {
      "image/png": "[encoded data removed]",
      "text/plain": [
       "<Figure size 576x360 with 2 Axes>"
      ]
     },
     "metadata": {
      "needs_background": "light"
     },
     "output_type": "display_data"
    }
   ],
   "source": [
    "# price range of jeans\n",
    "price_min = min(men_jeans['price_dollars'].min(), women_jeans['price_dollars'].min())-5\n",
    "price_max = max(men_jeans['price_dollars'].max(), women_jeans['price_dollars'].max())+5\n",
    "\n",
    "\n",
    "plt.figure(figsize=(8,5))\n",
    "\n",
    "plt.subplot(2, 1, 1)\n",
    "sns.boxplot(data=men_jeans, x='price_dollars', color='skyblue')\n",
    "plt.title(\"Men's Jeans\")\n",
    "plt.xlabel('')\n",
    "plt.xticks([])\n",
    "plt.xlim(price_min, price_max)\n",
    "\n",
    "plt.subplot(2, 1, 2)\n",
    "sns.boxplot(data=women_jeans, x='price_dollars', color='lightpink')\n",
    "plt.title(\"Women's Jeans\")\n",
    "plt.xlim(price_min, price_max)\n",
    "plt.xlabel('Price')\n",
    "\n",
    "plt.show()"
   ]
  },
  {
   "cell_type": "code",
   "execution_count": 29,
   "metadata": {
    "scrolled": true
   },
   "outputs": [
    {
     "name": "stdout",
     "output_type": "stream",
     "text": [
      "The range of the price of men's jeans is 42.0\n",
      "The range of the price of women's jeans is 24.0\n"
     ]
    }
   ],
   "source": [
    "print(\"The range of the price of men's jeans is \" + str(men_jeans['price_dollars'].max()-men_jeans['price_dollars'].min()))\n",
    "print(\"The range of the price of women's jeans is \" + str(women_jeans['price_dollars'].max()-women_jeans['price_dollars'].min()))"
   ]
  },
  {
   "cell_type": "markdown",
   "metadata": {},
   "source": [
    "From the boxplot, we can see that while women's jeans have 1 outlier, men's blazers do not have any outlier, men's jeans do not have any outlier. We can also see that there is a substantial difference in the price range between men's and women's jeans"
   ]
  },
  {
   "cell_type": "code",
   "execution_count": 30,
   "metadata": {
    "scrolled": false
   },
   "outputs": [
    {
     "data": {
      "image/png": "[encoded data removed]",
      "text/plain": [
       "<Figure size 576x360 with 1 Axes>"
      ]
     },
     "metadata": {
      "needs_background": "light"
     },
     "output_type": "display_data"
    }
   ],
   "source": [
    "# the distribution of the prices of shirts\n",
    "men_shirts = men_data[men_data['product_type'] == 'shirts']\n",
    "women_shirts = women_data[women_data['product_type'] == 'shirts']\n",
    "\n",
    "plt.figure(figsize=(8,5))\n",
    "sns.histplot(data=women_shirts, x='price_dollars', bins=10, color='lightpink', label=\"Women's Shirts\")\n",
    "sns.histplot(data=men_shirts, x='price_dollars', bins=10, color='skyblue', label=\"Men's Shirts\")\n",
    "\n",
    "plt.xlabel('Price')\n",
    "plt.ylabel('Count')\n",
    "plt.legend()\n",
    "\n",
    "plt.show()"
   ]
  },
  {
   "cell_type": "code",
   "execution_count": 31,
   "metadata": {
    "scrolled": true
   },
   "outputs": [
    {
     "name": "stdout",
     "output_type": "stream",
     "text": [
      "The mean price of men's shirts is 45.77485714285716\n",
      "The mean price of women's shirts is 40.440000000000005\n"
     ]
    }
   ],
   "source": [
    "print(\"The mean price of men's shirts is \" + str(men_shirts['price_dollars'].mean()))\n",
    "print(\"The mean price of women's shirts is \" + str(women_shirts['price_dollars'].mean()))"
   ]
  },
  {
   "cell_type": "markdown",
   "metadata": {},
   "source": [
    "From the histogram, we can see that the price distribution of both women's and men's shirts show a positive skew, indicating that there are mostly low-priced items. The central tendency of both women's and men's shirts appears similar, reflected in their similar histogram shapes, despite that women's shirts have a higher count."
   ]
  },
  {
   "cell_type": "code",
   "execution_count": 32,
   "metadata": {
    "scrolled": false
   },
   "outputs": [
    {
     "data": {
      "image/png": "[encoded data removed]",
      "text/plain": [
       "<Figure size 576x360 with 2 Axes>"
      ]
     },
     "metadata": {
      "needs_background": "light"
     },
     "output_type": "display_data"
    }
   ],
   "source": [
    "# price range of shirts\n",
    "price_min = min(men_shirts['price_dollars'].min(), women_shirts['price_dollars'].min())-5\n",
    "price_max = max(men_shirts['price_dollars'].max(), women_shirts['price_dollars'].max())+5\n",
    "\n",
    "\n",
    "plt.figure(figsize=(8,5))\n",
    "\n",
    "plt.subplot(2, 1, 1)\n",
    "sns.boxplot(data=men_shirts, x='price_dollars', color='skyblue')\n",
    "plt.title(\"Men's Shirts\")\n",
    "plt.xlabel('')\n",
    "plt.xticks([])\n",
    "plt.xlim(price_min, price_max)\n",
    "\n",
    "plt.subplot(2, 1, 2)\n",
    "sns.boxplot(data=women_shirts, x='price_dollars', color='lightpink')\n",
    "plt.title(\"Women's Shirts\")\n",
    "plt.xlim(price_min, price_max)\n",
    "plt.xlabel('Price')\n",
    "\n",
    "plt.show()"
   ]
  },
  {
   "cell_type": "code",
   "execution_count": 33,
   "metadata": {
    "scrolled": true
   },
   "outputs": [
    {
     "name": "stdout",
     "output_type": "stream",
     "text": [
      "The range of the price of men's shirts is 108.0\n",
      "The range of the price of women's shirts is 91.2\n"
     ]
    }
   ],
   "source": [
    "print(\"The range of the price of men's shirts is \" + str(men_shirts['price_dollars'].max()-men_shirts['price_dollars'].min()))\n",
    "print(\"The range of the price of women's shirts is \" + str(women_shirts['price_dollars'].max()-women_shirts['price_dollars'].min()))"
   ]
  },
  {
   "cell_type": "markdown",
   "metadata": {},
   "source": [
    "From the boxplot, we can see that there are many outliers for both men's and women's shirts, and they have both exceptionally high and low prices. Women's shirts, in particular, have a greater number of outliers compared to men's. We can also see that the range of the price of men's shirts is larger than women's."
   ]
  },
  {
   "cell_type": "code",
   "execution_count": 34,
   "metadata": {
    "scrolled": false
   },
   "outputs": [
    {
     "data": {
      "image/png": "[encoded data removed]",
      "text/plain": [
       "<Figure size 576x360 with 1 Axes>"
      ]
     },
     "metadata": {
      "needs_background": "light"
     },
     "output_type": "display_data"
    }
   ],
   "source": [
    "# the distribution of the prices of shoes\n",
    "men_shoes = men_data[men_data['product_type'] == 'shoes']\n",
    "women_shoes = women_data[women_data['product_type'] == 'shoes']\n",
    "\n",
    "plt.figure(figsize=(8,5))\n",
    "sns.histplot(data=women_shoes, x='price_dollars', bins=10, color='lightpink', label=\"Women's Shoes\")\n",
    "sns.histplot(data=men_shoes, x='price_dollars', bins=10, color='skyblue', label=\"Men's Shoes\")\n",
    "\n",
    "plt.xlabel('Price')\n",
    "plt.ylabel('Count')\n",
    "plt.legend()\n",
    "\n",
    "plt.show()"
   ]
  },
  {
   "cell_type": "code",
   "execution_count": 35,
   "metadata": {},
   "outputs": [
    {
     "name": "stdout",
     "output_type": "stream",
     "text": [
      "The mean price of men's shoes is 59.8655421686747\n",
      "The mean price of women's shoes is 53.48711743772242\n"
     ]
    }
   ],
   "source": [
    "print(\"The mean price of men's shoes is \" + str(men_shoes['price_dollars'].mean()))\n",
    "print(\"The mean price of women's shoes is \" + str(women_shoes['price_dollars'].mean()))"
   ]
  },
  {
   "cell_type": "markdown",
   "metadata": {},
   "source": [
    "From the histogram, we can see that the price distribution of both women's and men's shoes are positively skewed, indicating that there are mostly low-priced items. The central tendency of both women's and men's shirts appears similar, reflected in their similar histogram shapes, even though women's shoes have a higher count."
   ]
  },
  {
   "cell_type": "code",
   "execution_count": 36,
   "metadata": {},
   "outputs": [
    {
     "data": {
      "image/png": "[encoded data removed]",
      "text/plain": [
       "<Figure size 576x360 with 2 Axes>"
      ]
     },
     "metadata": {
      "needs_background": "light"
     },
     "output_type": "display_data"
    }
   ],
   "source": [
    "# price range of shoes\n",
    "price_min = min(men_shoes['price_dollars'].min(), women_shoes['price_dollars'].min())-5\n",
    "price_max = max(men_shoes['price_dollars'].max(), women_shoes['price_dollars'].max())+5\n",
    "\n",
    "\n",
    "plt.figure(figsize=(8,5))\n",
    "\n",
    "plt.subplot(2, 1, 1)\n",
    "sns.boxplot(data=men_shoes, x='price_dollars', color='skyblue')\n",
    "plt.title(\"Men's Shoes\")\n",
    "plt.xlabel('')\n",
    "plt.xticks([])\n",
    "plt.xlim(price_min, price_max)\n",
    "\n",
    "plt.subplot(2, 1, 2)\n",
    "sns.boxplot(data=women_shoes, x='price_dollars', color='lightpink')\n",
    "plt.title(\"Women's Shoes\")\n",
    "plt.xlim(price_min, price_max)\n",
    "plt.xlabel('Price')\n",
    "\n",
    "plt.show()"
   ]
  },
  {
   "cell_type": "code",
   "execution_count": 37,
   "metadata": {
    "scrolled": true
   },
   "outputs": [
    {
     "name": "stdout",
     "output_type": "stream",
     "text": [
      "The range of the price of men's shoes is 126.0\n",
      "The range of the price of women's shoes is 132.0\n"
     ]
    }
   ],
   "source": [
    "print(\"The range of the price of men's shoes is \" + str(men_shoes['price_dollars'].max()-men_shoes['price_dollars'].min()))\n",
    "print(\"The range of the price of women's shoes is \" + str(women_shoes['price_dollars'].max()-women_shoes['price_dollars'].min()))"
   ]
  },
  {
   "cell_type": "markdown",
   "metadata": {},
   "source": [
    "From the boxplot, we can see that there are outliers for both men's and women's shoes, with women's shoes having 1 more outlier than men's. We can also see that the range of the price of men's shoes is larger than women's. Notably, the overall distribution of prices appears similar for men's and women's shoes when compared to the plots we observed previously."
   ]
  },
  {
   "cell_type": "code",
   "execution_count": 38,
   "metadata": {
    "scrolled": true
   },
   "outputs": [
    {
     "data": {
      "image/png": "[encoded data removed]",
      "text/plain": [
       "<Figure size 576x360 with 1 Axes>"
      ]
     },
     "metadata": {
      "needs_background": "light"
     },
     "output_type": "display_data"
    }
   ],
   "source": [
    "# the distribution of the prices of trousers\n",
    "men_trousers = men_data[men_data['product_type'] == 'trousers']\n",
    "women_trousers = women_data[women_data['product_type'] == 'trousers']\n",
    "\n",
    "plt.figure(figsize=(8,5))\n",
    "sns.histplot(data=men_trousers, x='price_dollars', bins=10, color='skyblue', label=\"Men's Trousers\")\n",
    "sns.histplot(data=women_trousers, x='price_dollars', bins=10, color='lightpink', label=\"Women's Trousers\")\n",
    "\n",
    "plt.xlabel('Price')\n",
    "plt.ylabel('Count')\n",
    "plt.legend()\n",
    "\n",
    "plt.show()"
   ]
  },
  {
   "cell_type": "code",
   "execution_count": 39,
   "metadata": {},
   "outputs": [
    {
     "name": "stdout",
     "output_type": "stream",
     "text": [
      "The mean price of men's trousers is 52.91193277310925\n",
      "The mean price of women's trousers is 42.00336448598131\n"
     ]
    }
   ],
   "source": [
    "print(\"The mean price of men's trousers is \" + str(men_trousers['price_dollars'].mean()))\n",
    "print(\"The mean price of women's trousers is \" + str(women_trousers['price_dollars'].mean()))"
   ]
  },
  {
   "cell_type": "markdown",
   "metadata": {},
   "source": [
    "From the histogram, we can see that the price distribution of both men's and women's trousers can be considered positively skewed, with women's trousers having more counts in the lower-priced range. We can also see that men's trousers have more tails than women's, which we can suggest a higher central tendency for men's trousers compared to women's."
   ]
  },
  {
   "cell_type": "code",
   "execution_count": 40,
   "metadata": {},
   "outputs": [
    {
     "data": {
      "image/png": "[encoded data removed]",
      "text/plain": [
       "<Figure size 576x360 with 2 Axes>"
      ]
     },
     "metadata": {
      "needs_background": "light"
     },
     "output_type": "display_data"
    }
   ],
   "source": [
    "# price range of trousers\n",
    "price_min = min(men_trousers['price_dollars'].min(), women_trousers['price_dollars'].min())-5\n",
    "price_max = max(men_trousers['price_dollars'].max(), women_trousers['price_dollars'].max())+5\n",
    "\n",
    "\n",
    "plt.figure(figsize=(8,5))\n",
    "\n",
    "plt.subplot(2, 1, 1)\n",
    "sns.boxplot(data=men_trousers, x='price_dollars', color='skyblue')\n",
    "plt.title(\"Men's Trousers\")\n",
    "plt.xlabel('')\n",
    "plt.xticks([])\n",
    "plt.xlim(price_min, price_max)\n",
    "\n",
    "plt.subplot(2, 1, 2)\n",
    "sns.boxplot(data=women_trousers, x='price_dollars', color='lightpink')\n",
    "plt.title(\"Women's Trousers\")\n",
    "plt.xlim(price_min, price_max)\n",
    "plt.xlabel('Price')\n",
    "\n",
    "plt.show()"
   ]
  },
  {
   "cell_type": "code",
   "execution_count": 41,
   "metadata": {},
   "outputs": [
    {
     "name": "stdout",
     "output_type": "stream",
     "text": [
      "The range of the price of men's trousers is 112.8\n",
      "The range of the price of women's trousers is 67.2\n"
     ]
    }
   ],
   "source": [
    "print(\"The range of the price of men's trousers is \" + str(men_trousers['price_dollars'].max()-men_trousers['price_dollars'].min()))\n",
    "print(\"The range of the price of women's trousers is \" + str(women_trousers['price_dollars'].max()-women_trousers['price_dollars'].min()))"
   ]
  },
  {
   "cell_type": "markdown",
   "metadata": {},
   "source": [
    "From the boxplot, we can see that there are outliers for both men's and women's trousers, with men's trousers having 1 more outlier than women's. We can also see that the range of the price of men's shoes is larger than women's."
   ]
  },
  {
   "cell_type": "markdown",
   "metadata": {
    "slideshow": {
     "slide_type": "slide"
    }
   },
   "source": [
    "Looking at the distributions, it seems like men’s products actually have higher mean prices and larger ranges in prices. So, let's take a look at how the mean price and range vary between each categories and between the two genders by putting all the data together."
   ]
  },
  {
   "cell_type": "code",
   "execution_count": 42,
   "metadata": {
    "scrolled": false
   },
   "outputs": [],
   "source": [
    "# combine men and women's data together \n",
    "men_data['gender'] = 'men'\n",
    "women_data['gender'] = 'women'\n",
    "\n",
    "combined_data = pd.concat([men_data, women_data])"
   ]
  },
  {
   "cell_type": "code",
   "execution_count": 43,
   "metadata": {
    "scrolled": true
   },
   "outputs": [
    {
     "data": {
      "text/plain": [
       "Text(0, 0.5, 'Mean Price')"
      ]
     },
     "execution_count": 43,
     "metadata": {},
     "output_type": "execute_result"
    },
    {
     "data": {
      "image/png": "[encoded data removed]",
      "text/plain": [
       "<Figure size 576x360 with 1 Axes>"
      ]
     },
     "metadata": {
      "needs_background": "light"
     },
     "output_type": "display_data"
    }
   ],
   "source": [
    "# take a look at the mean price of each categories together\n",
    "mean_price = combined_data.groupby(['product_type', 'gender'])['price_dollars'].mean().reset_index()\n",
    "\n",
    "plt.figure(figsize=(8,5))\n",
    "sns.barplot(data=mean_price, x='product_type', y='price_dollars', hue='gender', ci=None,\n",
    "           palette={'men': 'skyblue', 'women': 'lightpink'})\n",
    "\n",
    "plt.xlabel('Product Type')\n",
    "plt.ylabel('Mean Price')"
   ]
  },
  {
   "cell_type": "markdown",
   "metadata": {},
   "source": [
    "From the barplot, we can see that overall, men's products have higher mean prices. While the mean prices of women's products are relatively close, men's products exhibit a greater degree of variability in their mean prices."
   ]
  },
  {
   "cell_type": "code",
   "execution_count": 44,
   "metadata": {
    "scrolled": false
   },
   "outputs": [
    {
     "data": {
      "text/plain": [
       "Text(0, 0.5, 'Price Range')"
      ]
     },
     "execution_count": 44,
     "metadata": {},
     "output_type": "execute_result"
    },
    {
     "data": {
      "image/png": "[encoded data removed]",
      "text/plain": [
       "<Figure size 576x360 with 1 Axes>"
      ]
     },
     "metadata": {
      "needs_background": "light"
     },
     "output_type": "display_data"
    }
   ],
   "source": [
    "# take a look at the price range of each categories together\n",
    "price_range = combined_data.groupby(['product_type', 'gender'])['price_dollars'].agg(['min', 'max']).reset_index()\n",
    "price_range['price_range'] = price_range['max'] - price_range['min']\n",
    "\n",
    "plt.figure(figsize=(8,5))\n",
    "sns.barplot(data=price_range, x='product_type', y='price_range', hue='gender', ci=None,\n",
    "           palette={'men': 'skyblue', 'women': 'lightpink'})\n",
    "\n",
    "plt.xlabel('Product Type')\n",
    "plt.ylabel('Price Range')"
   ]
  },
  {
   "cell_type": "markdown",
   "metadata": {},
   "source": [
    "From the barplot, we can see that for jackets, jeans, shirts and trousers, the range of the price is higher for men, while for blazers and shoes, the range of price is higher for women."
   ]
  },
  {
   "cell_type": "code",
   "execution_count": 45,
   "metadata": {
    "scrolled": false
   },
   "outputs": [
    {
     "data": {
      "text/plain": [
       "Text(0, 0.5, 'Count')"
      ]
     },
     "execution_count": 45,
     "metadata": {},
     "output_type": "execute_result"
    },
    {
     "data": {
      "image/png": "[encoded data removed]",
      "text/plain": [
       "<Figure size 576x360 with 1 Axes>"
      ]
     },
     "metadata": {
      "needs_background": "light"
     },
     "output_type": "display_data"
    }
   ],
   "source": [
    "# take a look at the number of items in each categories \n",
    "count = combined_data.groupby(['product_type', 'gender']).size().reset_index(name='count')\n",
    "\n",
    "plt.figure(figsize=(8,5))\n",
    "sns.barplot(data=count, x='product_type', y='count', hue='gender', palette={'men': 'skyblue', 'women': 'lightpink'})\n",
    "plt.xlabel('Product Type')\n",
    "plt.ylabel('Count')"
   ]
  },
  {
   "cell_type": "markdown",
   "metadata": {},
   "source": [
    "From the barplot, we can see that while men's products have overall higher mean price and larger ranges, women's products have a higher count across the categories."
   ]
  },
  {
   "cell_type": "markdown",
   "metadata": {},
   "source": [
    "# Ethics & Privacy"
   ]
  },
  {
   "cell_type": "markdown",
   "metadata": {},
   "source": [
    "Given the all-girl composition of our group, we want to avoid confirmation bias throughout the data collection, cleaning, analysis process, which may lead us to focus on and keep only data that supports our hypothesis while ignoring contradictory evidence.\n",
    "To avoid this, we need to consider and include datasets that encompass both male and female products with consideration for all the population that should be present under our question. \n",
    "\n",
    "In practice, this means to also select datasets from sources that were unrelated to the topic of pink tax, or even ones that contradict the idea that women have to pay more for everyday items, so to obtain all possible perspectives and form an honest, well-rounded analysis. We also need to consider that not all women may be impacted by the Pink Tax equally. For example, the pink tax may disproportionately affect women of color or transgender individuals. We need to ensure that we have an equitable interpretation and collection of data. \n",
    "\n",
    "Our personal experiences can introduce subjective biases when communicating our findings. Therefore, in all stages of writing, we would aim to convey findings based on statistical proof and with objective, matter-of-fact language。 \n",
    "\n",
    "If there is significant evidence in our analysis showing that pink tax does exist, one ethical concern is the tendency in interpretation to blame consumers for supporting and enabling the pink tax by choosing to buy certain higher-priced products. When involving and implying consumer choices as the causing factor of pink tax, the interpretation of our analysis may unintentionally strengthen gender stereotypes regarding appearance maintenance. Therefore, we would also need to consider companies’ perspective of their reactions to differences in production cost and market demand as a factor for our findings. \n"
   ]
  },
  {
   "cell_type": "markdown",
   "metadata": {},
   "source": [
    "# Team Expectations "
   ]
  },
  {
   "cell_type": "markdown",
   "metadata": {},
   "source": [
    "\n",
    "* *The team’s preferred method of communication is through text. When directed, all members should respond within 8-12 hours.*  \n",
    "\n",
    "* *The team will meet through Zoom every Wednesday 2-3pm. If unforeseen circumstances occur, the member should let the team know by Tuesday or earlier.*\n",
    "* *The team’s preferred method of collaboration is Google Docs for text submissions to review each others’ work more timely. For coding sections, data processing, and final review, Git.*\n",
    "* *Team members will be evenly assigned works based on their proposed strengths after mutual agreements in the weekly meetings.*\n",
    "* *They are expected to complete said work before the appointment. If failed or unable to do so due to unforeseen circumstances, they must communicate and notify the rest of the team as soon as possible.*\n",
    "* *If conflicts or differences of opinions occur, the members should support their arguments without any comments directed at a personal level. If unable to come to an understanding or a single point of view, members will defer to the result of an anonymous poll.*\n"
   ]
  },
  {
   "cell_type": "markdown",
   "metadata": {},
   "source": [
    "# Project Timeline Proposal"
   ]
  },
  {
   "cell_type": "markdown",
   "metadata": {},
   "source": [
    "\n",
    "\n",
    "| Week  | Meeting Date+Time| Completed Before Meeting  | Discuss at Meeting |\n",
    "|---|---|---|---|\n",
    "| 5 |  Wed. 11/1, 2-3pm | Decide on project topic  | Finalize: research question, hypothesis, team expectations and timeline；Assign group members for specific proposal sections；Finalize timeline；Assign group members to lead specific parts of project；Find data sets | \n",
    "| 6 |  Wed. 11/8, 2-3pm |  Find datasets: Elaine | Discuss Wrangling and possible analytical approaches | \n",
    "| 7 |  Wed. 11/15, 2-3pm  | Finalize data wrangling: Michelle  | Review/Edit wrangling; Discuss EDA  |\n",
    "| 8 | Wed. 11/22, 2-3pm  | Finalize EDA: Amber | Review/Edit EDA; Discuss Analysis Plan   |\n",
    "| 9 | Wed. 11/29, 2-3pm  | Finalize Analysis: Yoyo | Review/edit Analysis; Discuss results/conclusion/discussion |\n",
    "| 10 | Wed. 12/6, 2-3pm  | Finalize results/conclusion/discussion: Tracy | Review results, conclusion, discussion; discuss any final edits; discuss how to make video |\n",
    "| 11/Final | Wed. 12/13, 2-3pm  | Finish Project | Make video |"
   ]
  }
 ],
 "metadata": {
  "kernelspec": {
   "display_name": "Python 3 (ipykernel)",
   "language": "python",
   "name": "python3"
  },
  "language_info": {
   "codemirror_mode": {
    "name": "ipython",
    "version": 3
   },
   "file_extension": ".py",
   "mimetype": "text/x-python",
   "name": "python",
   "nbconvert_exporter": "python",
   "pygments_lexer": "ipython3",
   "version": "3.9.5"
  }
 },
 "nbformat": 4,
 "nbformat_minor": 2
}
