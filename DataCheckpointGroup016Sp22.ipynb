{
 "cells": [
  {
   "cell_type": "markdown",
   "metadata": {},
   "source": [
    "# COGS 108 - Data Checkpoint"
   ]
  },
  {
   "cell_type": "markdown",
   "metadata": {},
   "source": [
    "# Names\n",
    "\n",
    "- Robert Zhang\n",
    "- Jun Zhang\n",
    "- Di Tian\n",
    "- Zhen Fang\n",
    "- Sihan Liang"
   ]
  },
  {
   "cell_type": "markdown",
   "metadata": {},
   "source": [
    "<a id='research_question'></a>\n",
    "# Research Question"
   ]
  },
  {
   "cell_type": "markdown",
   "metadata": {},
   "source": [
    "From 2020 to 2022, what’s the relationship between COVID-19 cases and the stock price of gaming companies in US?"
   ]
  },
  {
   "cell_type": "markdown",
   "metadata": {},
   "source": [
    "# Dataset(s)"
   ]
  },
  {
   "cell_type": "markdown",
   "metadata": {},
   "source": [
    "#### Dataset Name: Game Companies Historical Stock Price 2022.04 \n",
    "\n",
    "Link to the dataset: https://www.kaggle.com/datasets/psycon/game-companies-historical-stock-price-2022-04?select=nintendo.csv \n",
    "\n",
    "Number of observations/variables: \n",
    "\n",
    "act_bliz - 3107 observations and 7 variables\n",
    "\n",
    "nintendo - 3106 observations and 7 variables\n",
    "\n",
    "ea - 3107 observations and 7 variables\n",
    "\n",
    "microsoft - 3107 observations and 7 variables\n",
    "\n",
    "ubisoft - 2516 observations and 7 variables\n",
    "\n",
    "zynga - 2612 observations and 7 variables\n",
    "\n",
    "This dataset includes nintendo, act_bliz, ea, microsoft,take_two, ubisoft, and zynga company’s daily stock prices from the past 10 years until this month in 2022. \n",
    "This dataset records the maximum and minimum stock prices of each day. \n",
    "It also includes stock prices when the stock market closes and opens. All of the prices are recorded in US dollars. \n",
    "This dataset provides us first-hand information about the trend and fluctuations of Nintendo company’ stock prices. \n",
    "Since then, we can easily use this organized dataset to make data analysis and observation. \n",
    "#### Dataset Name: JHU CSSE COVID-19 Dataset \n",
    "\n",
    "Link to the dataset: https://github.com/CSSEGISandData/COVID-19/blob/master/csse_covid_19_data/csse_covid_19_time_series/time_series_covid19_confirmed_US.csv \n",
    "\n",
    "Number of observations/variables: \n",
    "3342 observations and 831 variables \n",
    "\n",
    "The dataset is collected by CDC and includes the number of Covid-19 diagnoses from 2020 to 2022 in every state of the United States. \n",
    "The raw dataset has 3342 observations and 831 variables. It has variables like the specific region of the US, specific date from 2022 to 2022 on a daily basis. \n",
    "The observation is the specific number of Covid-19 diagnoses in each region."
   ]
  },
  {
   "cell_type": "markdown",
   "metadata": {},
   "source": [
    "# Setup"
   ]
  },
  {
   "cell_type": "code",
   "execution_count": 1,
   "metadata": {},
   "outputs": [],
   "source": [
    "import numpy as np\n",
    "import pandas as pd\n",
    "import seaborn as sns\n",
    "import matplotlib.pyplot as plt"
   ]
  },
  {
   "cell_type": "code",
   "execution_count": null,
   "metadata": {},
   "outputs": [],
   "source": [
    "nintendo = pd.read_csv('archive/nintendo.csv')\n",
    "nintendo.head()"
   ]
  },
  {
   "cell_type": "code",
   "execution_count": null,
   "metadata": {},
   "outputs": [],
   "source": [
    "act_bliz = pd.read_csv('archive/act_bliz.csv')\n",
    "act_bliz.head()"
   ]
  },
  {
   "cell_type": "code",
   "execution_count": null,
   "metadata": {},
   "outputs": [],
   "source": [
    "ea= pd.read_csv('archive/ea.csv')\n",
    "ea.head()"
   ]
  },
  {
   "cell_type": "code",
   "execution_count": null,
   "metadata": {},
   "outputs": [],
   "source": [
    "microsoft = pd.read_csv('archive/microsoft.csv')\n",
    "microsoft.head()"
   ]
  },
  {
   "cell_type": "code",
   "execution_count": null,
   "metadata": {},
   "outputs": [],
   "source": [
    "take_two = pd.read_csv('archive/take_two.csv')\n",
    "take_two.head()"
   ]
  },
  {
   "cell_type": "code",
   "execution_count": null,
   "metadata": {},
   "outputs": [],
   "source": [
    "ubisoft = pd.read_csv('archive/ubisoft.csv')\n",
    "ubisoft.head()"
   ]
  },
  {
   "cell_type": "code",
   "execution_count": null,
   "metadata": {},
   "outputs": [],
   "source": [
    "zynga = pd.read_csv('archive/zynga.csv')\n",
    "zynga.head()"
   ]
  },
  {
   "cell_type": "code",
   "execution_count": null,
   "metadata": {},
   "outputs": [],
   "source": [
    "covid = pd.read_csv('https://raw.githubusercontent.com/CSSEGISandData/COVID-19/master/csse_covid_19_data/csse_covid_19_time_series/time_series_covid19_confirmed_US.csv')\n",
    "covid.head()"
   ]
  },
  {
   "cell_type": "markdown",
   "metadata": {},
   "source": [
    "# Data Cleaning"
   ]
  },
  {
   "cell_type": "markdown",
   "metadata": {},
   "source": [
    "Describe your data cleaning steps here."
   ]
  },
  {
   "cell_type": "code",
   "execution_count": 2,
   "metadata": {},
   "outputs": [],
   "source": [
    "## YOUR CODE HERE\n",
    "## FEEL FREE TO ADD MULTIPLE CELLS PER SECTION"
   ]
  }
 ],
 "metadata": {
  "kernelspec": {
   "display_name": "Python 3",
   "language": "python",
   "name": "python3"
  },
  "language_info": {
   "codemirror_mode": {
    "name": "ipython",
    "version": 3
   },
   "file_extension": ".py",
   "mimetype": "text/x-python",
   "name": "python",
   "nbconvert_exporter": "python",
   "pygments_lexer": "ipython3",
   "version": "3.7.9"
  }
 },
 "nbformat": 4,
 "nbformat_minor": 2
}
