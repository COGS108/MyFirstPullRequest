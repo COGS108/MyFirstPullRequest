{
 "cells": [
  {
   "cell_type": "markdown",
   "metadata": {},
   "source": [
    "# COGS 108 - Project Proposal"
   ]
  },
  {
   "cell_type": "markdown",
   "metadata": {},
   "source": [
    "## Important\n",
    "\n",
    "- Make sure all group members (3-6 people) are listed in the group members section.\n",
    "- ONE, and only one, member of your group should upload this notebook to TritonED. \n",
    "- Each member of the group will receive the same grade on this assignment. \n",
    "- Keep the file name the same: submit the file 'ProjectProposal.ipynb'"
   ]
  },
  {
   "cell_type": "markdown",
   "metadata": {},
   "source": [
    "## Overview"
   ]
  },
  {
   "cell_type": "markdown",
   "metadata": {},
   "source": [
    "Read the project description and detailed instructions for this assignment in the 'ProjectOutline' document."
   ]
  },
  {
   "cell_type": "markdown",
   "metadata": {},
   "source": [
    "## Group Members: Fill in the Student IDs of each group member here\n",
    "\n",
    "Replace the lines below to list each persons full student ID. Add lines as needed for your group size, and make sure each ID is listed on a separate line. \n",
    "\n",
    "- A12785571\n",
    "- A12623303\n",
    "- A13589612\n",
    "- A12690911\n",
    "- A13736482\n",
    "- A13014470"
   ]
  },
  {
   "cell_type": "markdown",
   "metadata": {},
   "source": [
    "### Research Question\n",
    "\n",
    "What is your research question? (1-2 sentences)"
   ]
  },
  {
   "cell_type": "markdown",
   "metadata": {},
   "source": [
    "For our research, we wish to find out which areas in the United States have a higher level of gun violence.  At the same time we will answer the question of how one can prevent and protect themselves from gun violence, and whether the economic level of a geographic area affects the amount of gun violence.\n"
   ]
  },
  {
   "cell_type": "markdown",
   "metadata": {},
   "source": [
    "### Hypothesis\n",
    "\n",
    "What is your main hypothesis and predictions? (2-3 sentences)"
   ]
  },
  {
   "cell_type": "markdown",
   "metadata": {},
   "source": [
    "Gun violence incidents are higher in lower economic areas than in middle-upper class areas. The reason being with lower levels of policing, available resources/opportunities, and higher organized crime areas.\n"
   ]
  },
  {
   "cell_type": "markdown",
   "metadata": {},
   "source": [
    "### Dataset(s)\n",
    "\n",
    "What data will you use to answer your question? Describe the dataset(s) in terms of number of observations, what kind of features it contains, etc. You must use at least one dataset containing at least approximately 1000 observations (if your data are smaller but you feel they are sufficient, email Prof. Keown). You are welcome (and in fact recommended) to find multiple datasets! If you do so, describe each one, and briefly explain how you will combine them together. "
   ]
  },
  {
   "cell_type": "markdown",
   "metadata": {},
   "source": [
    "This dataset by the Golden Oaks Research Group contains information on US household incomes based off of geographic locations in 2018. It provides the county and city along with the median and mean income of households in their respective geographic locations.\n",
    "\n",
    "\n",
    "Since we have geographic locations in both datasets, we plan to tie in economic status with gun violence to see the effects that they have on each other. \n"
   ]
  },
  {
   "cell_type": "markdown",
   "metadata": {},
   "source": [
    "### Background and Prior Work\n",
    "\n",
    "Why is this question of interest, what background information led you to your hypothesis, and why is this important?\n",
    "\n",
    "Find some relevant prior work, and reference those sources. Even if you think you have a totally novel question, find the most similar prior work that you can and discuss how it relates to your project. \n",
    "\n",
    "References can be research publications, but they need not be. Blogs, github repositories, company websites, etc., are all viable references if they are relevant to your project.\n",
    "\n",
    "(2-3 paragraphs, including at least 2 references)"
   ]
  },
  {
   "cell_type": "markdown",
   "metadata": {},
   "source": [
    "Gun violence has been an especially salient topic in the past couple years with the amount of coverage it has received in the media.  It is an issue that is politically charged, leading to heated debate on what steps should be taken in order to reduce its incidence rates across the United States.  We were interested in this topic because while debate and discussion on isolated events of gun violence can provide valuable insight, clear data must be presented to support an argument to pass any amendments to current gun laws in the states, and see what other factors are affecting the problem (like economic level of a region).  \n",
    "We have found several projects online that outline this topic’s importance and statistical validity. The first one is a web app that provides a calendar heat map of gun violence in the United States based on geographical area. It found that the city with the worst gun problem in the US was Chicago.  The second project attempts to predict the death rate from gun laws. “Based on regression tree analysis of 18 years of CDC firearm death rates and gun laws by State, the number of State gun laws in 10 categories predicts annual deaths per 100,000 residents”\n",
    "\n",
    "References (include links):\n",
    "https://nycdatascience.com/blog/student-works/gun-violence-in-america/ \n",
    "https://towardsdatascience.com/predicting-gun-death-rate-from-gun-laws-d96041c14198 \n"
   ]
  },
  {
   "cell_type": "markdown",
   "metadata": {},
   "source": [
    "### Proposed Methods\n",
    "\n",
    "What methods will you use to analyze your data?\n",
    "\n",
    "- How 'clean' is the data? To the extent that it requires cleaning, how will you do so?\n",
    "- How will you analyze the data? Be as specific as you can. Briefly mention any pre-processing steps that are required for your methods (for example, checking data distributions and performing any transformations that may be required). Include a brief outline of how you will apply your chosen method(s). \n",
    "- What do you plan to report? Briefly mention any key visualizations you plan to create, and/or the kind of results you will be able to report that address your question (this could be, for example, the outcome of some statistical test(s), prediction error on a model, a model fit parameter, etc.).\n",
    "- Include a list of packages you expect to use for you project. If you plan to use packages we have not used in class, add a very brief description about them (a few words is sufficient). "
   ]
  },
  {
   "cell_type": "markdown",
   "metadata": {},
   "source": [
    "Data Cleaning:\n",
    "We plan to remove any rows with null values that would upset the data.  Significant outliers will be identified and removed as well. We also have a lot of extraneous information that we would probably want to remove just to make parsing our data faster. For example, our income data set contains state, city, and county, but we may only need one of them.\n",
    "\n",
    "Data Analysis:\n",
    "Our primary method we plan to use is a heat map on the US to indicate the density of gun violence as well as a separate heat map to indicate the average income in the US. Then, we would have a combined heat map to show the trend between economic status and rates of gun violence. We hope that having three separate maps rather than just one combined map would be beneficial to see more trends than just economic status to gun violence. Being able to see the general economic status might be beneficial in understanding why certain areas are poorer than others. Seeing rates of gun violence may also show us that certain areas are more prolific with gun purchases and gun use, which we can use to understand why. For example, we know that certain states like Texas are more pro-gun, and this may be a reflection of political views or societal biases in those areas. \n",
    "\n",
    "What to report:\n",
    "We will report maps and graphs showing gun violence rates and economic status. We will then combine them and try to report findings on possible trends between these two factors. \n",
    "\n",
    "Packages we plan to use:\n",
    "A: Seaborn, Matplotlib\n",
    "B: Folium (heat maps)\n",
    "C: NumPy\n"
   ]
  },
  {
   "cell_type": "markdown",
   "metadata": {},
   "source": [
    "### Ethics and Privacy\n",
    "\n",
    "Briefly acknowledge and address any potential issues of ethics and privacy for the proposed project. In particular:\n",
    "Do you have permission to use this data, for this purpose?\n",
    "All datasets used in our project come from sources which allow free public access/use for open-source use.\n",
    "Are there privacy concerns regarding your datasets that you need to deal with, and/or terms of use that you need to comply with?\n",
    "There should not be any privacy concerns regarding our datasets because the data provided comes from government/media/law enforcement/commercial sources, meaning that we are authorized to use what we have found for our own purposes after citation of our sources.\n",
    "Are there potential biases in your dataset(s), in terms of who it composes, and how it was collected, that may be problematic in terms of it allowing for equitable analysis? (For example, does your data exclude particular populations, or is it likely to reflect particular human biases in a way that could be a problem?)\n",
    "Based on our hypothesis, we believe that our data may be biased towards certain areas with a general economic status. More specifically, we believe that there may not be as much incident representation towards higher income areas of the United States as there may be for lower income areas, which could negatively affect equity and bias in terms of data covered in our analysis.\n",
    "Are there any other issues related to your topic area, data, and/or analyses that are potentially problematic in terms of data privacy and equitable impact?\n",
    "One issue that may affect our project in terms of equitable impact is that our datasets thus far are connecting income/economic status to crime rates. Our fear, in this case, is that we are not fully identifying why gun violence crimes occur in certain areas, as economic status might not be the sole reason that connects these areas and gun violence together.\n",
    "How will you handle any issues you identify?\n",
    "We plan to handle these issues by also collecting the source articles/news from our Gun Violence dataset, taking these into account in the analysis and discussion portions of our project. We will use some specific circumstances of gun violence crimes to relate and argue for/against different perspectives of certain areas of the United States to explain different factors of crimes.\n",
    "\n",
    "(1-2 paragraphs)"
   ]
  },
  {
   "cell_type": "markdown",
   "metadata": {},
   "source": [
    "### Discussion\n",
    "\n",
    "Discuss your project, looking forward to what your results might mean, how they fit it in with what is already known, and what problems you may encounter. \n",
    "\n",
    "In particular:\n",
    "- If your analyses and hypotheses are correct, what will be the contribution of this project to the topic domain? \n",
    "- Alternatively, what will you do if you methods don't work and/or your hypotheses are wrong? \n",
    "- What are the potential pitfalls and potential confounds of your data and/or methods that may cause problems, and/or influence your interpretations?\n",
    "\n",
    "(2-3 paragraphs)"
   ]
  },
  {
   "cell_type": "markdown",
   "metadata": {},
   "source": [
    "We believe that if our analyses and hypotheses are correct, we would be able to aid in communities that have high rates of gun violence and possibly bring attention to the issues that plague lower income areas. Ideally, we would be able to bring up reforms that not only benefit specific communities, but also bring attention to the issues with gun laws in the US such as obtaining a firearm. These areas tend to lack the proper infrastructure among other things, so our results may lead to improving those facets. \n",
    "\tEven if our methods and/or hypotheses are wrong, we would still be able to posit something useful since gun violence is such a prolific issue in the US currently. Simply by the mass of our dataset we can conclude that gun violence is a serious issue that needs to be dealt with. If there is no clear trend with gun violence and socioeconomic status, then it may mean that gun laws are so weak that anybody can commit gun violence anywhere. \n",
    "\tOne potential pitfall we may run into is that since our data is mainly focusing on income of households in the US, we may not have enough information on other important factors such as race or crime rates in general for that area. Our Income data also contains far less observations than the gun crime dataset so for certain areas we may lack the data to tie in gun violence with income. Furthermore, we may only find a correlational result rather than a causal ones since we are not certain that economic status is the sole reason for gun violence.\n"
   ]
  }
 ],
 "metadata": {
  "kernelspec": {
   "display_name": "Python 3",
   "language": "python",
   "name": "python3"
  },
  "language_info": {
   "codemirror_mode": {
    "name": "ipython",
    "version": 3
   },
   "file_extension": ".py",
   "mimetype": "text/x-python",
   "name": "python",
   "nbconvert_exporter": "python",
   "pygments_lexer": "ipython3",
   "version": "3.7.1"
  }
 },
 "nbformat": 4,
 "nbformat_minor": 2
}
