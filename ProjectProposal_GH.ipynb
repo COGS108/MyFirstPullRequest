{
 "cells": [
  {
   "cell_type": "markdown",
   "metadata": {},
   "source": [
    "# COGS 108 - Project Proposal"
   ]
  },
  {
   "cell_type": "markdown",
   "metadata": {},
   "source": [
    "# Names & GitHub ID\n",
    "\n",
    "- Name: Xinkai Wang\n",
    "- GitHub Username: x5wang"
   ]
  },
  {
   "cell_type": "markdown",
   "metadata": {},
   "source": [
    "# Research Question"
   ]
  },
  {
   "cell_type": "markdown",
   "metadata": {},
   "source": [
    "What are the major park and recreation facilities that make some places more visited in total in a certain period than others for parks & recreation in San Diego?"
   ]
  },
  {
   "cell_type": "markdown",
   "metadata": {},
   "source": [
    "## Background and Prior Work"
   ]
  },
  {
   "cell_type": "markdown",
   "metadata": {},
   "source": [
    "First, it is helpful to have access to all the locations of parks and recreation centers in San Diego. We can take a look at the official website of San Diego government that provided the authentative data, including the basic information of each location of parks and recreation centers. They are referenced in links 1 and 2. \n",
    "\n",
    "Second, there is a website that provides the \"concept design\" for many San Diego parks, and each design contains the map of the park as well as the park facilities inside the park. This is the background information to consider the inclusion of specific park elements such as trees, dog zones, benches as possibly the major factors that make the park more popular than others. It is referenced in link 3. \n",
    "\n",
    "Third, there is a relevant research that concerns about what groups of youths are involved in parks and recreation centers. Indeed, park and recreation facilities play a large role for youths, and by understanding how the specific factors like age, gender make some places more popular, we could know more about what facilities to be incorporated to better suit for the needs of the majority group of youths who are more likely to spend time in parks and recreation centers in San Diego. It is referenced in link 4. \n",
    "\n",
    "References (include links):\n",
    "- 1) Park Locations: https://data.sandiego.gov/datasets/park-locations/\n",
    "- 2) Recreation Center Locations: https://data.sandiego.gov/datasets/recreation-center-locations/\n",
    "- 3) Parks Development Plans: https://www.sdparks.org/content/sdparks/en/AboutUs/Plans/ParksImprovementPlan.html\n",
    "- 4) Parks and Recreation Centers for promoting youth physical activities: https://journals.sagepub.com/doi/abs/10.1177/1524839903258222?casa_token=zY4_gBWhS8IAAAAA%3Ap_asa_O6u4EuifWqB_G7J8XRx7DGqibROZNJpKHZ6lea2Gvr958MVPN_L5QGsdx_yW2ZR0UGvITd&"
   ]
  },
  {
   "cell_type": "markdown",
   "metadata": {},
   "source": [
    "# Hypothesis\n"
   ]
  },
  {
   "cell_type": "markdown",
   "metadata": {},
   "source": [
    "Sports facilities might be somewhat important to make some parks and recreation centers more popular than others. This might because sports are one of the most common outdoor activities, and there are not a lot of facilities other than those related to sports. "
   ]
  },
  {
   "cell_type": "markdown",
   "metadata": {},
   "source": [
    "# Data"
   ]
  },
  {
   "cell_type": "markdown",
   "metadata": {},
   "source": [
    "1. The ideal variables could be the names of parks and recreation centers, the ID for each of the names, the number of people visited in a given period, and whether the place has one specific facility or not; if there is such facility, how many; and possibly the surveys asking some visiters to give a score from 1 to 10 to evaluate the extent of satisfaction. The number of people measures the popularity of a park or recreation center, and the boolean variable of facility directly relates to the question about \"what\" the facilities are. The quantity of facilities may also impact on the answer of popularity of a given place. The survey results may add upon the objective data regarding the number of people visited. \n",
    "2. They will be stored in two CSV files, with rows representing each park or recreation centers, and columns representing the variables listed above. It is better to separate them since we don't want 2 clusters of data on one graph when I carry out the analysis. \n",
    "3. The observations would be the most visited 30 parks and 30 recreation centers in San Diego, which are roughly the number of such places in San Diego. "
   ]
  },
  {
   "cell_type": "markdown",
   "metadata": {},
   "source": [
    "# Ethics & Privacy"
   ]
  },
  {
   "cell_type": "markdown",
   "metadata": {},
   "source": [
    "1. I should have permission to the data from the official San Diego government website, since they listed the data as \"open\" and \"public\" data, but for particular research data, I need to at least cite where the data come from. \n",
    "2. There might not be much privacy concerns for data for public spaces, but for certain prviate owned recreation centers, I might need to inform them that I might be using parts of their data for research purposes. \n",
    "3. One potential bias might be that the most popular parks or recreation centers might cluster in specific areas or neighborhoods in San Diego due to population size, transportation, and other shopping malls nearby, etc. Hence, the parks and recreation centers we selected might not be representative of all places distributed in San Diego. If this happens, I may use the strategy of stratified random samples, so that I would select a number of parks and recreation centers in each neighborhood in San Diego. "
   ]
  }
 ],
 "metadata": {
  "kernelspec": {
   "display_name": "Python 3",
   "language": "python",
   "name": "python3"
  },
  "language_info": {
   "codemirror_mode": {
    "name": "ipython",
    "version": 3
   },
   "file_extension": ".py",
   "mimetype": "text/x-python",
   "name": "python",
   "nbconvert_exporter": "python",
   "pygments_lexer": "ipython3",
   "version": "3.7.6"
  }
 },
 "nbformat": 4,
 "nbformat_minor": 2
}
