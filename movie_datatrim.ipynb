{
 "cells": [
  {
   "cell_type": "code",
   "execution_count": 1,
   "metadata": {},
   "outputs": [],
   "source": [
    "import pandas\n",
    "import numpy as np\n",
    "tmdb_df = pandas.read_csv('tmdb_5000_movies.csv')"
   ]
  },
  {
   "cell_type": "code",
   "execution_count": 2,
   "metadata": {
    "scrolled": true
   },
   "outputs": [],
   "source": [
    "tmdb_df = tmdb_df.drop(columns = ['homepage','id','production_companies','keywords','overview','tagline','status', 'original_title','spoken_languages'])"
   ]
  },
  {
   "cell_type": "code",
   "execution_count": 3,
   "metadata": {
    "scrolled": true
   },
   "outputs": [],
   "source": [
    "tmdb_df = tmdb_df.dropna()"
   ]
  },
  {
   "cell_type": "code",
   "execution_count": 4,
   "metadata": {},
   "outputs": [],
   "source": [
    "def trim_genres(genres):\n",
    "    g_list = []\n",
    "    b = 0\n",
    "    a = 0\n",
    "    while (a != -1 and b != -1):\n",
    "        a = genres.find(\"name\")\n",
    "        b = genres.find(\"}\")\n",
    "        g_list.append(genres[a+8:b-1])\n",
    "        genres = genres [b+1:]\n",
    "        if (len(genres) == 1):\n",
    "            break\n",
    "    g_list.sort()\n",
    "    return g_list"
   ]
  },
  {
   "cell_type": "code",
   "execution_count": 5,
   "metadata": {},
   "outputs": [
    {
     "data": {
      "text/html": [
       "<div>\n",
       "<style scoped>\n",
       "    .dataframe tbody tr th:only-of-type {\n",
       "        vertical-align: middle;\n",
       "    }\n",
       "\n",
       "    .dataframe tbody tr th {\n",
       "        vertical-align: top;\n",
       "    }\n",
       "\n",
       "    .dataframe thead th {\n",
       "        text-align: right;\n",
       "    }\n",
       "</style>\n",
       "<table border=\"1\" class=\"dataframe\">\n",
       "  <thead>\n",
       "    <tr style=\"text-align: right;\">\n",
       "      <th></th>\n",
       "      <th>budget</th>\n",
       "      <th>genres</th>\n",
       "      <th>original_language</th>\n",
       "      <th>popularity</th>\n",
       "      <th>production_countries</th>\n",
       "      <th>release_date</th>\n",
       "      <th>revenue</th>\n",
       "      <th>runtime</th>\n",
       "      <th>title</th>\n",
       "      <th>vote_average</th>\n",
       "      <th>vote_count</th>\n",
       "    </tr>\n",
       "  </thead>\n",
       "  <tbody>\n",
       "    <tr>\n",
       "      <th>0</th>\n",
       "      <td>237000000</td>\n",
       "      <td>[{\"id\": 28, \"name\": \"Action\"}, {\"id\": 12, \"nam...</td>\n",
       "      <td>en</td>\n",
       "      <td>150.437577</td>\n",
       "      <td>[{\"iso_3166_1\": \"US\", \"name\": \"United States o...</td>\n",
       "      <td>2009-12-10</td>\n",
       "      <td>2787965087</td>\n",
       "      <td>162.0</td>\n",
       "      <td>Avatar</td>\n",
       "      <td>7.2</td>\n",
       "      <td>11800</td>\n",
       "    </tr>\n",
       "    <tr>\n",
       "      <th>1</th>\n",
       "      <td>300000000</td>\n",
       "      <td>[{\"id\": 12, \"name\": \"Adventure\"}, {\"id\": 14, \"...</td>\n",
       "      <td>en</td>\n",
       "      <td>139.082615</td>\n",
       "      <td>[{\"iso_3166_1\": \"US\", \"name\": \"United States o...</td>\n",
       "      <td>2007-05-19</td>\n",
       "      <td>961000000</td>\n",
       "      <td>169.0</td>\n",
       "      <td>Pirates of the Caribbean: At World's End</td>\n",
       "      <td>6.9</td>\n",
       "      <td>4500</td>\n",
       "    </tr>\n",
       "    <tr>\n",
       "      <th>2</th>\n",
       "      <td>245000000</td>\n",
       "      <td>[{\"id\": 28, \"name\": \"Action\"}, {\"id\": 12, \"nam...</td>\n",
       "      <td>en</td>\n",
       "      <td>107.376788</td>\n",
       "      <td>[{\"iso_3166_1\": \"GB\", \"name\": \"United Kingdom\"...</td>\n",
       "      <td>2015-10-26</td>\n",
       "      <td>880674609</td>\n",
       "      <td>148.0</td>\n",
       "      <td>Spectre</td>\n",
       "      <td>6.3</td>\n",
       "      <td>4466</td>\n",
       "    </tr>\n",
       "  </tbody>\n",
       "</table>\n",
       "</div>"
      ],
      "text/plain": [
       "      budget                                             genres  \\\n",
       "0  237000000  [{\"id\": 28, \"name\": \"Action\"}, {\"id\": 12, \"nam...   \n",
       "1  300000000  [{\"id\": 12, \"name\": \"Adventure\"}, {\"id\": 14, \"...   \n",
       "2  245000000  [{\"id\": 28, \"name\": \"Action\"}, {\"id\": 12, \"nam...   \n",
       "\n",
       "  original_language  popularity  \\\n",
       "0                en  150.437577   \n",
       "1                en  139.082615   \n",
       "2                en  107.376788   \n",
       "\n",
       "                                production_countries release_date     revenue  \\\n",
       "0  [{\"iso_3166_1\": \"US\", \"name\": \"United States o...   2009-12-10  2787965087   \n",
       "1  [{\"iso_3166_1\": \"US\", \"name\": \"United States o...   2007-05-19   961000000   \n",
       "2  [{\"iso_3166_1\": \"GB\", \"name\": \"United Kingdom\"...   2015-10-26   880674609   \n",
       "\n",
       "   runtime                                     title  vote_average  vote_count  \n",
       "0    162.0                                    Avatar           7.2       11800  \n",
       "1    169.0  Pirates of the Caribbean: At World's End           6.9        4500  \n",
       "2    148.0                                   Spectre           6.3        4466  "
      ]
     },
     "execution_count": 5,
     "metadata": {},
     "output_type": "execute_result"
    }
   ],
   "source": [
    "tmdb_df.head(3)"
   ]
  },
  {
   "cell_type": "code",
   "execution_count": 6,
   "metadata": {},
   "outputs": [],
   "source": [
    "tmdb_df['genres'] = tmdb_df['genres'].apply(trim_genres)\n",
    "tmdb_df['production_countries'] = tmdb_df['production_countries'].apply(trim_genres)\n",
    "tmdb_df['genres'] = tmdb_df['genres'].apply(tuple)\n",
    "tmdb_df['production_countries'] = tmdb_df['production_countries'].apply(tuple)"
   ]
  },
  {
   "cell_type": "code",
   "execution_count": 7,
   "metadata": {},
   "outputs": [
    {
     "data": {
      "text/html": [
       "<div>\n",
       "<style scoped>\n",
       "    .dataframe tbody tr th:only-of-type {\n",
       "        vertical-align: middle;\n",
       "    }\n",
       "\n",
       "    .dataframe tbody tr th {\n",
       "        vertical-align: top;\n",
       "    }\n",
       "\n",
       "    .dataframe thead th {\n",
       "        text-align: right;\n",
       "    }\n",
       "</style>\n",
       "<table border=\"1\" class=\"dataframe\">\n",
       "  <thead>\n",
       "    <tr style=\"text-align: right;\">\n",
       "      <th></th>\n",
       "      <th>budget</th>\n",
       "      <th>genres</th>\n",
       "      <th>original_language</th>\n",
       "      <th>popularity</th>\n",
       "      <th>production_countries</th>\n",
       "      <th>release_date</th>\n",
       "      <th>revenue</th>\n",
       "      <th>runtime</th>\n",
       "      <th>title</th>\n",
       "      <th>vote_average</th>\n",
       "      <th>vote_count</th>\n",
       "    </tr>\n",
       "  </thead>\n",
       "  <tbody>\n",
       "    <tr>\n",
       "      <th>0</th>\n",
       "      <td>237000000</td>\n",
       "      <td>(Action, Adventure, Fantasy, Science Fiction)</td>\n",
       "      <td>en</td>\n",
       "      <td>150.437577</td>\n",
       "      <td>(United Kingdom, United States of America)</td>\n",
       "      <td>2009-12-10</td>\n",
       "      <td>2787965087</td>\n",
       "      <td>162.0</td>\n",
       "      <td>Avatar</td>\n",
       "      <td>7.2</td>\n",
       "      <td>11800</td>\n",
       "    </tr>\n",
       "    <tr>\n",
       "      <th>1</th>\n",
       "      <td>300000000</td>\n",
       "      <td>(Action, Adventure, Fantasy)</td>\n",
       "      <td>en</td>\n",
       "      <td>139.082615</td>\n",
       "      <td>(United States of America,)</td>\n",
       "      <td>2007-05-19</td>\n",
       "      <td>961000000</td>\n",
       "      <td>169.0</td>\n",
       "      <td>Pirates of the Caribbean: At World's End</td>\n",
       "      <td>6.9</td>\n",
       "      <td>4500</td>\n",
       "    </tr>\n",
       "    <tr>\n",
       "      <th>2</th>\n",
       "      <td>245000000</td>\n",
       "      <td>(Action, Adventure, Crime)</td>\n",
       "      <td>en</td>\n",
       "      <td>107.376788</td>\n",
       "      <td>(United Kingdom, United States of America)</td>\n",
       "      <td>2015-10-26</td>\n",
       "      <td>880674609</td>\n",
       "      <td>148.0</td>\n",
       "      <td>Spectre</td>\n",
       "      <td>6.3</td>\n",
       "      <td>4466</td>\n",
       "    </tr>\n",
       "  </tbody>\n",
       "</table>\n",
       "</div>"
      ],
      "text/plain": [
       "      budget                                         genres original_language  \\\n",
       "0  237000000  (Action, Adventure, Fantasy, Science Fiction)                en   \n",
       "1  300000000                   (Action, Adventure, Fantasy)                en   \n",
       "2  245000000                     (Action, Adventure, Crime)                en   \n",
       "\n",
       "   popularity                        production_countries release_date  \\\n",
       "0  150.437577  (United Kingdom, United States of America)   2009-12-10   \n",
       "1  139.082615                 (United States of America,)   2007-05-19   \n",
       "2  107.376788  (United Kingdom, United States of America)   2015-10-26   \n",
       "\n",
       "      revenue  runtime                                     title  \\\n",
       "0  2787965087    162.0                                    Avatar   \n",
       "1   961000000    169.0  Pirates of the Caribbean: At World's End   \n",
       "2   880674609    148.0                                   Spectre   \n",
       "\n",
       "   vote_average  vote_count  \n",
       "0           7.2       11800  \n",
       "1           6.9        4500  \n",
       "2           6.3        4466  "
      ]
     },
     "execution_count": 7,
     "metadata": {},
     "output_type": "execute_result"
    }
   ],
   "source": [
    "tmdb_df.head(3)"
   ]
  },
  {
   "cell_type": "code",
   "execution_count": 8,
   "metadata": {},
   "outputs": [
    {
     "name": "stderr",
     "output_type": "stream",
     "text": [
      "/Users/chengcheng/anaconda3/lib/python3.7/site-packages/IPython/core/interactiveshell.py:3020: DtypeWarning: Columns (10) have mixed types. Specify dtype option on import or set low_memory=False.\n",
      "  interactivity=interactivity, compiler=compiler, result=result)\n"
     ]
    }
   ],
   "source": [
    "tmdb_df2 = pandas.read_csv('movies_metadata.csv')"
   ]
  },
  {
   "cell_type": "code",
   "execution_count": 9,
   "metadata": {},
   "outputs": [
    {
     "data": {
      "text/plain": [
       "(45466, 24)"
      ]
     },
     "execution_count": 9,
     "metadata": {},
     "output_type": "execute_result"
    }
   ],
   "source": [
    "tmdb_df2.shape"
   ]
  },
  {
   "cell_type": "code",
   "execution_count": 10,
   "metadata": {},
   "outputs": [],
   "source": [
    "tmdb_df2 = tmdb_df2.drop(columns = ['adult','belongs_to_collection','homepage', 'id', 'imdb_id','status', 'tagline','video','original_title','poster_path','production_companies','spoken_languages' ])\n",
    "tmdb_df2 = tmdb_df2.dropna()"
   ]
  },
  {
   "cell_type": "code",
   "execution_count": 11,
   "metadata": {
    "scrolled": true
   },
   "outputs": [],
   "source": [
    "tmdb_df2['genres'] = tmdb_df2['genres'].apply(trim_genres)\n",
    "tmdb_df2['production_countries'] = tmdb_df2['production_countries'].apply(trim_genres)\n",
    "tmdb_df2['genres'] = tmdb_df2['genres'].apply(tuple)\n",
    "tmdb_df2['production_countries'] = tmdb_df2['production_countries'].apply(tuple)"
   ]
  },
  {
   "cell_type": "code",
   "execution_count": 12,
   "metadata": {},
   "outputs": [],
   "source": [
    "tmdb_df2 = tmdb_df2.drop(columns = ['overview'])"
   ]
  },
  {
   "cell_type": "code",
   "execution_count": 13,
   "metadata": {},
   "outputs": [
    {
     "data": {
      "text/html": [
       "<div>\n",
       "<style scoped>\n",
       "    .dataframe tbody tr th:only-of-type {\n",
       "        vertical-align: middle;\n",
       "    }\n",
       "\n",
       "    .dataframe tbody tr th {\n",
       "        vertical-align: top;\n",
       "    }\n",
       "\n",
       "    .dataframe thead th {\n",
       "        text-align: right;\n",
       "    }\n",
       "</style>\n",
       "<table border=\"1\" class=\"dataframe\">\n",
       "  <thead>\n",
       "    <tr style=\"text-align: right;\">\n",
       "      <th></th>\n",
       "      <th>budget</th>\n",
       "      <th>genres</th>\n",
       "      <th>original_language</th>\n",
       "      <th>popularity</th>\n",
       "      <th>production_countries</th>\n",
       "      <th>release_date</th>\n",
       "      <th>revenue</th>\n",
       "      <th>runtime</th>\n",
       "      <th>title</th>\n",
       "      <th>vote_average</th>\n",
       "      <th>vote_count</th>\n",
       "    </tr>\n",
       "  </thead>\n",
       "  <tbody>\n",
       "    <tr>\n",
       "      <th>0</th>\n",
       "      <td>30000000</td>\n",
       "      <td>(Animation, Comedy, Family)</td>\n",
       "      <td>en</td>\n",
       "      <td>21.9469</td>\n",
       "      <td>(United States of America,)</td>\n",
       "      <td>1995-10-30</td>\n",
       "      <td>373554033.0</td>\n",
       "      <td>81.0</td>\n",
       "      <td>Toy Story</td>\n",
       "      <td>7.7</td>\n",
       "      <td>5415.0</td>\n",
       "    </tr>\n",
       "    <tr>\n",
       "      <th>1</th>\n",
       "      <td>65000000</td>\n",
       "      <td>(Adventure, Family, Fantasy)</td>\n",
       "      <td>en</td>\n",
       "      <td>17.0155</td>\n",
       "      <td>(United States of America,)</td>\n",
       "      <td>1995-12-15</td>\n",
       "      <td>262797249.0</td>\n",
       "      <td>104.0</td>\n",
       "      <td>Jumanji</td>\n",
       "      <td>6.9</td>\n",
       "      <td>2413.0</td>\n",
       "    </tr>\n",
       "    <tr>\n",
       "      <th>2</th>\n",
       "      <td>0</td>\n",
       "      <td>(Comedy, Romance)</td>\n",
       "      <td>en</td>\n",
       "      <td>11.7129</td>\n",
       "      <td>(United States of America,)</td>\n",
       "      <td>1995-12-22</td>\n",
       "      <td>0.0</td>\n",
       "      <td>101.0</td>\n",
       "      <td>Grumpier Old Men</td>\n",
       "      <td>6.5</td>\n",
       "      <td>92.0</td>\n",
       "    </tr>\n",
       "  </tbody>\n",
       "</table>\n",
       "</div>"
      ],
      "text/plain": [
       "     budget                        genres original_language popularity  \\\n",
       "0  30000000   (Animation, Comedy, Family)                en    21.9469   \n",
       "1  65000000  (Adventure, Family, Fantasy)                en    17.0155   \n",
       "2         0             (Comedy, Romance)                en    11.7129   \n",
       "\n",
       "          production_countries release_date      revenue  runtime  \\\n",
       "0  (United States of America,)   1995-10-30  373554033.0     81.0   \n",
       "1  (United States of America,)   1995-12-15  262797249.0    104.0   \n",
       "2  (United States of America,)   1995-12-22          0.0    101.0   \n",
       "\n",
       "              title  vote_average  vote_count  \n",
       "0         Toy Story           7.7      5415.0  \n",
       "1           Jumanji           6.9      2413.0  \n",
       "2  Grumpier Old Men           6.5        92.0  "
      ]
     },
     "execution_count": 13,
     "metadata": {},
     "output_type": "execute_result"
    }
   ],
   "source": [
    "tmdb_df2.head(3)"
   ]
  },
  {
   "cell_type": "code",
   "execution_count": 14,
   "metadata": {},
   "outputs": [],
   "source": [
    "tmdb_df2 = tmdb_df2.fillna(0)\n",
    "tmdb_df2.budget = tmdb_df2.budget.astype(np.int64)\n",
    "tmdb_df2.popularity = tmdb_df2.popularity.astype(np.float64)\n",
    "tmdb_df2.revenue = tmdb_df2.revenue.astype(np.int64)\n",
    "tmdb_df2.vote_count = tmdb_df2.vote_count.astype(np.int64)"
   ]
  },
  {
   "cell_type": "code",
   "execution_count": 15,
   "metadata": {},
   "outputs": [],
   "source": [
    "merge_df = pandas.merge(tmdb_df,tmdb_df2,on = ['budget','genres','original_language','popularity','production_countries','release_date','revenue','runtime','title','vote_average','vote_count'] , how = 'outer')"
   ]
  },
  {
   "cell_type": "code",
   "execution_count": 16,
   "metadata": {},
   "outputs": [
    {
     "data": {
      "text/plain": [
       "(49225, 11)"
      ]
     },
     "execution_count": 16,
     "metadata": {},
     "output_type": "execute_result"
    }
   ],
   "source": [
    "merge_df.shape"
   ]
  },
  {
   "cell_type": "raw",
   "metadata": {},
   "source": [
    "df.to_csv(file_name, sep='\\t')"
   ]
  },
  {
   "cell_type": "code",
   "execution_count": 17,
   "metadata": {},
   "outputs": [],
   "source": [
    "merge_df = merge_df[merge_df['revenue'] != 0]"
   ]
  },
  {
   "cell_type": "code",
   "execution_count": 18,
   "metadata": {},
   "outputs": [],
   "source": [
    "merge_df = merge_df.drop_duplicates(subset = 'title', keep = 'first')"
   ]
  },
  {
   "cell_type": "code",
   "execution_count": 19,
   "metadata": {},
   "outputs": [
    {
     "data": {
      "text/plain": [
       "(7239, 11)"
      ]
     },
     "execution_count": 19,
     "metadata": {},
     "output_type": "execute_result"
    }
   ],
   "source": [
    "merge_df.shape"
   ]
  },
  {
   "cell_type": "code",
   "execution_count": 20,
   "metadata": {},
   "outputs": [],
   "source": [
    "merge_df=merge_df[['title','genres','original_language','production_countries','release_date','runtime','popularity','vote_count','vote_average','budget','revenue']]"
   ]
  },
  {
   "cell_type": "code",
   "execution_count": 21,
   "metadata": {},
   "outputs": [
    {
     "data": {
      "text/html": [
       "<div>\n",
       "<style scoped>\n",
       "    .dataframe tbody tr th:only-of-type {\n",
       "        vertical-align: middle;\n",
       "    }\n",
       "\n",
       "    .dataframe tbody tr th {\n",
       "        vertical-align: top;\n",
       "    }\n",
       "\n",
       "    .dataframe thead th {\n",
       "        text-align: right;\n",
       "    }\n",
       "</style>\n",
       "<table border=\"1\" class=\"dataframe\">\n",
       "  <thead>\n",
       "    <tr style=\"text-align: right;\">\n",
       "      <th></th>\n",
       "      <th>title</th>\n",
       "      <th>genres</th>\n",
       "      <th>original_language</th>\n",
       "      <th>production_countries</th>\n",
       "      <th>release_date</th>\n",
       "      <th>runtime</th>\n",
       "      <th>popularity</th>\n",
       "      <th>vote_count</th>\n",
       "      <th>vote_average</th>\n",
       "      <th>budget</th>\n",
       "      <th>revenue</th>\n",
       "    </tr>\n",
       "  </thead>\n",
       "  <tbody>\n",
       "    <tr>\n",
       "      <th>0</th>\n",
       "      <td>Avatar</td>\n",
       "      <td>(Action, Adventure, Fantasy, Science Fiction)</td>\n",
       "      <td>en</td>\n",
       "      <td>(United Kingdom, United States of America)</td>\n",
       "      <td>2009-12-10</td>\n",
       "      <td>162.0</td>\n",
       "      <td>150.437577</td>\n",
       "      <td>11800</td>\n",
       "      <td>7.2</td>\n",
       "      <td>237000000</td>\n",
       "      <td>2787965087</td>\n",
       "    </tr>\n",
       "    <tr>\n",
       "      <th>1</th>\n",
       "      <td>Pirates of the Caribbean: At World's End</td>\n",
       "      <td>(Action, Adventure, Fantasy)</td>\n",
       "      <td>en</td>\n",
       "      <td>(United States of America,)</td>\n",
       "      <td>2007-05-19</td>\n",
       "      <td>169.0</td>\n",
       "      <td>139.082615</td>\n",
       "      <td>4500</td>\n",
       "      <td>6.9</td>\n",
       "      <td>300000000</td>\n",
       "      <td>961000000</td>\n",
       "    </tr>\n",
       "    <tr>\n",
       "      <th>2</th>\n",
       "      <td>Spectre</td>\n",
       "      <td>(Action, Adventure, Crime)</td>\n",
       "      <td>en</td>\n",
       "      <td>(United Kingdom, United States of America)</td>\n",
       "      <td>2015-10-26</td>\n",
       "      <td>148.0</td>\n",
       "      <td>107.376788</td>\n",
       "      <td>4466</td>\n",
       "      <td>6.3</td>\n",
       "      <td>245000000</td>\n",
       "      <td>880674609</td>\n",
       "    </tr>\n",
       "  </tbody>\n",
       "</table>\n",
       "</div>"
      ],
      "text/plain": [
       "                                      title  \\\n",
       "0                                    Avatar   \n",
       "1  Pirates of the Caribbean: At World's End   \n",
       "2                                   Spectre   \n",
       "\n",
       "                                          genres original_language  \\\n",
       "0  (Action, Adventure, Fantasy, Science Fiction)                en   \n",
       "1                   (Action, Adventure, Fantasy)                en   \n",
       "2                     (Action, Adventure, Crime)                en   \n",
       "\n",
       "                         production_countries release_date  runtime  \\\n",
       "0  (United Kingdom, United States of America)   2009-12-10    162.0   \n",
       "1                 (United States of America,)   2007-05-19    169.0   \n",
       "2  (United Kingdom, United States of America)   2015-10-26    148.0   \n",
       "\n",
       "   popularity  vote_count  vote_average     budget     revenue  \n",
       "0  150.437577       11800           7.2  237000000  2787965087  \n",
       "1  139.082615        4500           6.9  300000000   961000000  \n",
       "2  107.376788        4466           6.3  245000000   880674609  "
      ]
     },
     "execution_count": 21,
     "metadata": {},
     "output_type": "execute_result"
    }
   ],
   "source": [
    "merge_df.head(3)"
   ]
  },
  {
   "cell_type": "code",
   "execution_count": 22,
   "metadata": {},
   "outputs": [],
   "source": [
    "merge_df.to_csv('trimmed_data.csv')"
   ]
  },
  {
   "cell_type": "code",
   "execution_count": null,
   "metadata": {},
   "outputs": [],
   "source": []
  }
 ],
 "metadata": {
  "kernelspec": {
   "display_name": "Python 3",
   "language": "python",
   "name": "python3"
  },
  "language_info": {
   "codemirror_mode": {
    "name": "ipython",
    "version": 3
   },
   "file_extension": ".py",
   "mimetype": "text/x-python",
   "name": "python",
   "nbconvert_exporter": "python",
   "pygments_lexer": "ipython3",
   "version": "3.7.1"
  }
 },
 "nbformat": 4,
 "nbformat_minor": 2
}
