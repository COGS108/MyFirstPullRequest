{
 "cells": [
  {
   "cell_type": "code",
   "execution_count": 1,
   "id": "9db020d5",
   "metadata": {},
   "outputs": [],
   "source": [
    "import pandas as pd \n",
    "import numpy as np \n",
    "import nltk "
   ]
  },
  {
   "cell_type": "code",
   "execution_count": 2,
   "id": "2ee43103",
   "metadata": {},
   "outputs": [
    {
     "data": {
      "text/html": [
       "<div>\n",
       "<style scoped>\n",
       "    .dataframe tbody tr th:only-of-type {\n",
       "        vertical-align: middle;\n",
       "    }\n",
       "\n",
       "    .dataframe tbody tr th {\n",
       "        vertical-align: top;\n",
       "    }\n",
       "\n",
       "    .dataframe thead th {\n",
       "        text-align: right;\n",
       "    }\n",
       "</style>\n",
       "<table border=\"1\" class=\"dataframe\">\n",
       "  <thead>\n",
       "    <tr style=\"text-align: right;\">\n",
       "      <th></th>\n",
       "      <th>character</th>\n",
       "      <th>dialogue</th>\n",
       "    </tr>\n",
       "  </thead>\n",
       "  <tbody>\n",
       "    <tr>\n",
       "      <th>0</th>\n",
       "      <td>Tony Stark</td>\n",
       "      <td>I hate apples</td>\n",
       "    </tr>\n",
       "    <tr>\n",
       "      <th>1</th>\n",
       "      <td>Captain America</td>\n",
       "      <td>I love apples</td>\n",
       "    </tr>\n",
       "    <tr>\n",
       "      <th>2</th>\n",
       "      <td>Thor</td>\n",
       "      <td>I feel neutral about apples</td>\n",
       "    </tr>\n",
       "  </tbody>\n",
       "</table>\n",
       "</div>"
      ],
      "text/plain": [
       "         character                     dialogue\n",
       "0       Tony Stark                I hate apples\n",
       "1  Captain America                I love apples\n",
       "2             Thor  I feel neutral about apples"
      ]
     },
     "execution_count": 2,
     "metadata": {},
     "output_type": "execute_result"
    }
   ],
   "source": [
    "example_data = {\"character\":[\"Tony Stark\", \"Captain America\", \"Thor\"], \"dialogue\":[\"I hate apples\", \"I love apples\", \"I feel neutral about apples\"]}\n",
    "example_df = pd.DataFrame(example_data)\n",
    "example_df.head()"
   ]
  },
  {
   "cell_type": "code",
   "execution_count": 3,
   "id": "dc0ad37f",
   "metadata": {},
   "outputs": [
    {
     "data": {
      "text/plain": [
       "character    object\n",
       "dialogue     object\n",
       "dtype: object"
      ]
     },
     "execution_count": 3,
     "metadata": {},
     "output_type": "execute_result"
    }
   ],
   "source": [
    "example_df.dtypes"
   ]
  },
  {
   "cell_type": "code",
   "execution_count": 4,
   "id": "708e0c84",
   "metadata": {},
   "outputs": [
    {
     "name": "stderr",
     "output_type": "stream",
     "text": [
      "[nltk_data] Downloading package punkt to /Users/emilyyu/nltk_data...\n",
      "[nltk_data]   Package punkt is already up-to-date!\n"
     ]
    },
    {
     "data": {
      "text/plain": [
       "True"
      ]
     },
     "execution_count": 4,
     "metadata": {},
     "output_type": "execute_result"
    }
   ],
   "source": [
    "from nltk.tokenize import word_tokenize\n",
    "nltk.download('punkt') "
   ]
  },
  {
   "cell_type": "code",
   "execution_count": 5,
   "id": "4b7bb200",
   "metadata": {},
   "outputs": [
    {
     "name": "stdout",
     "output_type": "stream",
     "text": [
      "['I', 'hate', 'apples']\n"
     ]
    }
   ],
   "source": [
    "tokenized_tony = word_tokenize(example_df.loc[0,\"dialogue\"])\n",
    "print(tokenized_tony)"
   ]
  },
  {
   "cell_type": "code",
   "execution_count": 6,
   "id": "54eaa1c4",
   "metadata": {},
   "outputs": [
    {
     "data": {
      "text/html": [
       "<div>\n",
       "<style scoped>\n",
       "    .dataframe tbody tr th:only-of-type {\n",
       "        vertical-align: middle;\n",
       "    }\n",
       "\n",
       "    .dataframe tbody tr th {\n",
       "        vertical-align: top;\n",
       "    }\n",
       "\n",
       "    .dataframe thead th {\n",
       "        text-align: right;\n",
       "    }\n",
       "</style>\n",
       "<table border=\"1\" class=\"dataframe\">\n",
       "  <thead>\n",
       "    <tr style=\"text-align: right;\">\n",
       "      <th></th>\n",
       "      <th>character</th>\n",
       "      <th>dialogue</th>\n",
       "      <th>tokened dialogue</th>\n",
       "    </tr>\n",
       "  </thead>\n",
       "  <tbody>\n",
       "    <tr>\n",
       "      <th>0</th>\n",
       "      <td>Tony Stark</td>\n",
       "      <td>I hate apples</td>\n",
       "      <td>[I, hate, apples]</td>\n",
       "    </tr>\n",
       "    <tr>\n",
       "      <th>1</th>\n",
       "      <td>Captain America</td>\n",
       "      <td>I love apples</td>\n",
       "      <td>[I, love, apples]</td>\n",
       "    </tr>\n",
       "    <tr>\n",
       "      <th>2</th>\n",
       "      <td>Thor</td>\n",
       "      <td>I feel neutral about apples</td>\n",
       "      <td>[I, feel, neutral, about, apples]</td>\n",
       "    </tr>\n",
       "  </tbody>\n",
       "</table>\n",
       "</div>"
      ],
      "text/plain": [
       "         character                     dialogue  \\\n",
       "0       Tony Stark                I hate apples   \n",
       "1  Captain America                I love apples   \n",
       "2             Thor  I feel neutral about apples   \n",
       "\n",
       "                    tokened dialogue  \n",
       "0                  [I, hate, apples]  \n",
       "1                  [I, love, apples]  \n",
       "2  [I, feel, neutral, about, apples]  "
      ]
     },
     "execution_count": 6,
     "metadata": {},
     "output_type": "execute_result"
    }
   ],
   "source": [
    "example_df[\"tokened dialogue\"] = example_df[\"dialogue\"].apply(word_tokenize)\n",
    "example_df.head()"
   ]
  },
  {
   "cell_type": "code",
   "execution_count": 7,
   "id": "c27c3b4b",
   "metadata": {},
   "outputs": [
    {
     "name": "stdout",
     "output_type": "stream",
     "text": [
      "{'that', 'few', 'against', 'where', 'her', 'itself', 'those', 'when', 'i', 'only', 'same', 'if', \"wasn't\", 'are', 'he', 'can', 'you', 'himself', 'ours', 'as', 'its', \"shouldn't\", 'up', \"isn't\", 'above', 'from', 'such', \"couldn't\", 'whom', 'didn', 'am', 'our', 've', 'through', 'so', 'in', 'o', 'a', 'just', 'doesn', \"mustn't\", 'both', 'hasn', 'had', 'here', 'they', 'into', 'theirs', 'own', 'my', 'off', 'out', 'there', 'but', 'more', 'some', 'each', 's', \"didn't\", 'being', 'once', \"you'll\", 'does', 'down', 'couldn', 'shan', 'how', 'don', 'mustn', 'again', 'wasn', 'isn', 'now', 'your', 'with', 'too', 'nor', 'do', 'hers', 'at', 'below', \"you've\", 'of', 'no', 'll', 'then', 'wouldn', \"you're\", 'mightn', 'the', 'yourself', 'aren', \"shan't\", \"should've\", 'him', 'who', 'them', 'have', 'was', \"that'll\", 'by', \"she's\", 'having', 'm', 'their', 'over', 'be', \"wouldn't\", \"doesn't\", 'we', \"aren't\", 'between', 'shouldn', 'because', 'other', 'to', \"mightn't\", \"hadn't\", 'his', 'after', \"don't\", \"it's\", 'd', 'until', 'it', 'and', 'or', 'why', 'most', 'on', 'is', 'before', 'for', 'myself', 'hadn', 'me', \"you'd\", 't', 're', 'won', 'than', 'any', 'will', 'should', \"hasn't\", 'has', 'not', 'further', 'themselves', 'while', \"haven't\", 'ourselves', 'y', 'during', 'under', 'were', \"weren't\", 'which', 'about', 'an', 'weren', 'been', 'ma', 'what', 'haven', 'she', 'these', \"needn't\", 'yourselves', 'doing', 'herself', \"won't\", 'yours', 'this', 'very', 'all', 'ain', 'needn', 'did'}\n"
     ]
    },
    {
     "name": "stderr",
     "output_type": "stream",
     "text": [
      "[nltk_data] Downloading package stopwords to\n",
      "[nltk_data]     /Users/emilyyu/nltk_data...\n",
      "[nltk_data]   Package stopwords is already up-to-date!\n"
     ]
    }
   ],
   "source": [
    "nltk.download('stopwords')\n",
    "from nltk.corpus import stopwords\n",
    "stop_words = set(stopwords.words('english'))\n",
    "print(stop_words)"
   ]
  },
  {
   "cell_type": "code",
   "execution_count": 8,
   "id": "e4e157bf",
   "metadata": {},
   "outputs": [
    {
     "data": {
      "text/html": [
       "<div>\n",
       "<style scoped>\n",
       "    .dataframe tbody tr th:only-of-type {\n",
       "        vertical-align: middle;\n",
       "    }\n",
       "\n",
       "    .dataframe tbody tr th {\n",
       "        vertical-align: top;\n",
       "    }\n",
       "\n",
       "    .dataframe thead th {\n",
       "        text-align: right;\n",
       "    }\n",
       "</style>\n",
       "<table border=\"1\" class=\"dataframe\">\n",
       "  <thead>\n",
       "    <tr style=\"text-align: right;\">\n",
       "      <th></th>\n",
       "      <th>character</th>\n",
       "      <th>dialogue</th>\n",
       "      <th>tokened dialogue</th>\n",
       "    </tr>\n",
       "  </thead>\n",
       "  <tbody>\n",
       "    <tr>\n",
       "      <th>0</th>\n",
       "      <td>Tony Stark</td>\n",
       "      <td>I hate apples</td>\n",
       "      <td>[I, hate, apples]</td>\n",
       "    </tr>\n",
       "    <tr>\n",
       "      <th>1</th>\n",
       "      <td>Captain America</td>\n",
       "      <td>I love apples</td>\n",
       "      <td>[I, love, apples]</td>\n",
       "    </tr>\n",
       "    <tr>\n",
       "      <th>2</th>\n",
       "      <td>Thor</td>\n",
       "      <td>I feel neutral about apples</td>\n",
       "      <td>[I, feel, neutral, apples]</td>\n",
       "    </tr>\n",
       "  </tbody>\n",
       "</table>\n",
       "</div>"
      ],
      "text/plain": [
       "         character                     dialogue            tokened dialogue\n",
       "0       Tony Stark                I hate apples           [I, hate, apples]\n",
       "1  Captain America                I love apples           [I, love, apples]\n",
       "2             Thor  I feel neutral about apples  [I, feel, neutral, apples]"
      ]
     },
     "execution_count": 8,
     "metadata": {},
     "output_type": "execute_result"
    }
   ],
   "source": [
    "example_df['tokened dialogue'] = example_df['tokened dialogue'].apply(lambda x: [item for item in x if item not in stop_words])\n",
    "example_df.head()"
   ]
  },
  {
   "cell_type": "code",
   "execution_count": 9,
   "id": "c06babfe",
   "metadata": {},
   "outputs": [],
   "source": [
    "from nltk.stem import PorterStemmer\n",
    "\n",
    "ps = PorterStemmer()"
   ]
  },
  {
   "cell_type": "code",
   "execution_count": 10,
   "id": "47e032e2",
   "metadata": {},
   "outputs": [
    {
     "data": {
      "text/html": [
       "<div>\n",
       "<style scoped>\n",
       "    .dataframe tbody tr th:only-of-type {\n",
       "        vertical-align: middle;\n",
       "    }\n",
       "\n",
       "    .dataframe tbody tr th {\n",
       "        vertical-align: top;\n",
       "    }\n",
       "\n",
       "    .dataframe thead th {\n",
       "        text-align: right;\n",
       "    }\n",
       "</style>\n",
       "<table border=\"1\" class=\"dataframe\">\n",
       "  <thead>\n",
       "    <tr style=\"text-align: right;\">\n",
       "      <th></th>\n",
       "      <th>character</th>\n",
       "      <th>dialogue</th>\n",
       "      <th>tokened dialogue</th>\n",
       "      <th>tokened_stemmed_dialogue</th>\n",
       "    </tr>\n",
       "  </thead>\n",
       "  <tbody>\n",
       "    <tr>\n",
       "      <th>0</th>\n",
       "      <td>Tony Stark</td>\n",
       "      <td>I hate apples</td>\n",
       "      <td>[I, hate, apples]</td>\n",
       "      <td>[i, hate, appl]</td>\n",
       "    </tr>\n",
       "    <tr>\n",
       "      <th>1</th>\n",
       "      <td>Captain America</td>\n",
       "      <td>I love apples</td>\n",
       "      <td>[I, love, apples]</td>\n",
       "      <td>[i, love, appl]</td>\n",
       "    </tr>\n",
       "    <tr>\n",
       "      <th>2</th>\n",
       "      <td>Thor</td>\n",
       "      <td>I feel neutral about apples</td>\n",
       "      <td>[I, feel, neutral, apples]</td>\n",
       "      <td>[i, feel, neutral, appl]</td>\n",
       "    </tr>\n",
       "  </tbody>\n",
       "</table>\n",
       "</div>"
      ],
      "text/plain": [
       "         character                     dialogue            tokened dialogue  \\\n",
       "0       Tony Stark                I hate apples           [I, hate, apples]   \n",
       "1  Captain America                I love apples           [I, love, apples]   \n",
       "2             Thor  I feel neutral about apples  [I, feel, neutral, apples]   \n",
       "\n",
       "   tokened_stemmed_dialogue  \n",
       "0           [i, hate, appl]  \n",
       "1           [i, love, appl]  \n",
       "2  [i, feel, neutral, appl]  "
      ]
     },
     "execution_count": 10,
     "metadata": {},
     "output_type": "execute_result"
    }
   ],
   "source": [
    "example_df['tokened_stemmed_dialogue'] = example_df['tokened dialogue'].apply(lambda x: [ps.stem(y) for y in x])\n",
    "example_df.head()"
   ]
  },
  {
   "cell_type": "code",
   "execution_count": 11,
   "id": "d400747b",
   "metadata": {},
   "outputs": [
    {
     "name": "stderr",
     "output_type": "stream",
     "text": [
      "[nltk_data] Downloading package vader_lexicon to\n",
      "[nltk_data]     /Users/emilyyu/nltk_data...\n",
      "[nltk_data]   Package vader_lexicon is already up-to-date!\n"
     ]
    }
   ],
   "source": [
    "nltk.download('vader_lexicon')\n",
    "from nltk.sentiment.vader import SentimentIntensityAnalyzer \n",
    "analyser = SentimentIntensityAnalyzer()"
   ]
  },
  {
   "cell_type": "code",
   "execution_count": 12,
   "id": "98e0e537",
   "metadata": {},
   "outputs": [
    {
     "data": {
      "text/plain": [
       "{'neg': 0.787, 'neu': 0.213, 'pos': 0.0, 'compound': -0.5719}"
      ]
     },
     "execution_count": 12,
     "metadata": {},
     "output_type": "execute_result"
    }
   ],
   "source": [
    "analyser.polarity_scores(\"I hate apples\")"
   ]
  },
  {
   "cell_type": "code",
   "execution_count": 13,
   "id": "97accce7",
   "metadata": {},
   "outputs": [
    {
     "data": {
      "text/plain": [
       "{'neg': 0.0, 'neu': 0.286, 'pos': 0.714, 'compound': 0.3612}"
      ]
     },
     "execution_count": 13,
     "metadata": {},
     "output_type": "execute_result"
    }
   ],
   "source": [
    "analyser.polarity_scores(\"I like apples\")"
   ]
  },
  {
   "cell_type": "code",
   "execution_count": 14,
   "id": "4f3fda75",
   "metadata": {},
   "outputs": [
    {
     "data": {
      "text/plain": [
       "{'neg': 0.0, 'neu': 1.0, 'pos': 0.0, 'compound': 0.0}"
      ]
     },
     "execution_count": 14,
     "metadata": {},
     "output_type": "execute_result"
    }
   ],
   "source": [
    "analyser.polarity_scores(\"I feel neutral about apples\")"
   ]
  },
  {
   "cell_type": "code",
   "execution_count": 15,
   "id": "34167534",
   "metadata": {},
   "outputs": [
    {
     "data": {
      "text/plain": [
       "{'neg': 0.787, 'neu': 0.213, 'pos': 0.0, 'compound': -0.5719}"
      ]
     },
     "execution_count": 15,
     "metadata": {},
     "output_type": "execute_result"
    }
   ],
   "source": [
    "analyser.polarity_scores(example_df.loc[0, \"dialogue\"])"
   ]
  },
  {
   "cell_type": "code",
   "execution_count": 16,
   "id": "cdf505a9",
   "metadata": {},
   "outputs": [
    {
     "data": {
      "text/plain": [
       "{'neg': 0.787, 'neu': 0.213, 'pos': 0.0, 'compound': -0.5719}"
      ]
     },
     "execution_count": 16,
     "metadata": {},
     "output_type": "execute_result"
    }
   ],
   "source": [
    "analyser.polarity_scores(\"I hate apple\")"
   ]
  },
  {
   "cell_type": "code",
   "execution_count": 17,
   "id": "567e7bdd",
   "metadata": {},
   "outputs": [
    {
     "name": "stdout",
     "output_type": "stream",
     "text": [
      "{'neg': 0.787, 'neu': 0.213, 'pos': 0.0, 'compound': -0.5719}\n"
     ]
    }
   ],
   "source": [
    "scores = analyser.polarity_scores(\"I hate apples\")\n",
    "print(scores)"
   ]
  },
  {
   "cell_type": "code",
   "execution_count": 18,
   "id": "4b5d4a02",
   "metadata": {},
   "outputs": [
    {
     "data": {
      "text/plain": [
       "dict"
      ]
     },
     "execution_count": 18,
     "metadata": {},
     "output_type": "execute_result"
    }
   ],
   "source": [
    "type(scores)"
   ]
  },
  {
   "cell_type": "code",
   "execution_count": 19,
   "id": "605f62db",
   "metadata": {},
   "outputs": [
    {
     "data": {
      "text/html": [
       "<div>\n",
       "<style scoped>\n",
       "    .dataframe tbody tr th:only-of-type {\n",
       "        vertical-align: middle;\n",
       "    }\n",
       "\n",
       "    .dataframe tbody tr th {\n",
       "        vertical-align: top;\n",
       "    }\n",
       "\n",
       "    .dataframe thead th {\n",
       "        text-align: right;\n",
       "    }\n",
       "</style>\n",
       "<table border=\"1\" class=\"dataframe\">\n",
       "  <thead>\n",
       "    <tr style=\"text-align: right;\">\n",
       "      <th></th>\n",
       "      <th>neg</th>\n",
       "      <th>neu</th>\n",
       "      <th>pos</th>\n",
       "      <th>compound</th>\n",
       "    </tr>\n",
       "  </thead>\n",
       "  <tbody>\n",
       "    <tr>\n",
       "      <th>0</th>\n",
       "      <td>0.787</td>\n",
       "      <td>0.213</td>\n",
       "      <td>0.0</td>\n",
       "      <td>-0.5719</td>\n",
       "    </tr>\n",
       "  </tbody>\n",
       "</table>\n",
       "</div>"
      ],
      "text/plain": [
       "     neg    neu  pos  compound\n",
       "0  0.787  0.213  0.0   -0.5719"
      ]
     },
     "execution_count": 19,
     "metadata": {},
     "output_type": "execute_result"
    }
   ],
   "source": [
    "score_df = pd.DataFrame(scores, index = [0])\n",
    "score_df.head()"
   ]
  },
  {
   "cell_type": "code",
   "execution_count": 20,
   "id": "103a2d89",
   "metadata": {},
   "outputs": [
    {
     "name": "stdout",
     "output_type": "stream",
     "text": [
      "-0.5719\n"
     ]
    }
   ],
   "source": [
    "print(scores[\"compound\"])"
   ]
  },
  {
   "cell_type": "code",
   "execution_count": null,
   "id": "c151aacb",
   "metadata": {},
   "outputs": [],
   "source": []
  }
 ],
 "metadata": {
  "kernelspec": {
   "display_name": "Python 3 (ipykernel)",
   "language": "python",
   "name": "python3"
  },
  "language_info": {
   "codemirror_mode": {
    "name": "ipython",
    "version": 3
   },
   "file_extension": ".py",
   "mimetype": "text/x-python",
   "name": "python",
   "nbconvert_exporter": "python",
   "pygments_lexer": "ipython3",
   "version": "3.10.9"
  }
 },
 "nbformat": 4,
 "nbformat_minor": 5
}
